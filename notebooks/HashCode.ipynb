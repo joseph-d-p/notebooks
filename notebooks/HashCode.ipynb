{
 "cells": [
  {
   "cell_type": "code",
   "execution_count": 38,
   "metadata": {},
   "outputs": [
    {
     "name": "stdout",
     "output_type": "stream",
     "text": [
      "[{'num_books': 5, 'signup_days': 2, 'ship_rate': 2, 'books': [0, 1, 2, 3, 4]}, {'num_books': 4, 'signup_days': 3, 'ship_rate': 1, 'books': [0, 2, 3, 5]}]\n"
     ]
    }
   ],
   "source": [
    "from pprint import pprint\n",
    "from operator import itemgetter\n",
    "\n",
    "def parse(filename):\n",
    "    context = {}\n",
    "    with open(filename, 'r') as f:\n",
    "        lines = f.readlines()\n",
    "        current_line = 0\n",
    "        # Get number of books, libraries and days for scanning\n",
    "        num_books, num_libraries, days = [int(x) for x in lines[current_line].split()]\n",
    "        context['num_books'] = num_books\n",
    "        context['num_libraries'] = num_libraries\n",
    "        context['days'] = days\n",
    "        current_line += 1\n",
    "\n",
    "        # Get book scores\n",
    "        scores = [int(b) for b in lines[current_line].split()]\n",
    "        current_line += 1\n",
    "        if len(scores) != num_books:\n",
    "            print(\"Error\")\n",
    "            exit(0)\n",
    "        context['scores'] = scores\n",
    "\n",
    "        # Loop each library\n",
    "        libraries = [None] * num_libraries\n",
    "        for i in range(0, num_libraries):\n",
    "            if not libraries[i]:\n",
    "                 libraries[i] = {}\n",
    "            # Get library info\n",
    "            num_books, signup_days, ship_rate = [int(x) for x in lines[current_line].split()]\n",
    "            libraries[i]['id'] = i\n",
    "            libraries[i]['num_books'] = num_books\n",
    "            libraries[i]['signup_days'] = signup_days\n",
    "            libraries[i]['ship_rate'] = ship_rate\n",
    "            current_line += 1\n",
    "                 \n",
    "            # Get book indices\n",
    "            libraries[i]['books'] = [int(b) for b in lines[current_line].split()]\n",
    "            current_line += 1\n",
    "\n",
    "        context['libraries'] = libraries\n",
    "    \n",
    "    return context\n",
    "\n",
    "\n",
    "data_files = ['a_example.txt']\n",
    "\n",
    "for df in data_files:\n",
    "    txt = './data/' + df\n",
    "    context = parse(txt)\n",
    "    #pprint(context)\n",
    "    \n",
    "    # Sort libraries by signup process\n",
    "    context['libraries'].sort(key=itemgetter('signup_days'), reverse=True)\n",
    "    \n",
    "    # Greedy: Select libraries yielding higher ship rates given maximum days\n",
    "    selected_libraries = []\n",
    "    total_books = 0\n",
    "    remaining_days = context['days']\n",
    "    for library in libraries:\n",
    "        if remaining_days - library['signup_days'] > 0:\n",
    "            total_books += library['ship_rate']\n",
    "            selected_libraries.push(library)\n",
    "\n",
    "    # Dynamic Programming - Maximize: Per library select the books yielding higher score (sort books by score)\n",
    "    for library in selected_libraries:\n",
    "        # TODO: select books yielding higher score\n",
    "        \n",
    "        "
   ]
  },
  {
   "cell_type": "code",
   "execution_count": null,
   "metadata": {},
   "outputs": [],
   "source": []
  },
  {
   "cell_type": "code",
   "execution_count": null,
   "metadata": {},
   "outputs": [],
   "source": []
  }
 ],
 "metadata": {
  "kernelspec": {
   "display_name": "Python 3",
   "language": "python",
   "name": "python3"
  },
  "language_info": {
   "codemirror_mode": {
    "name": "ipython",
    "version": 3
   },
   "file_extension": ".py",
   "mimetype": "text/x-python",
   "name": "python",
   "nbconvert_exporter": "python",
   "pygments_lexer": "ipython3",
   "version": "3.8.1"
  }
 },
 "nbformat": 4,
 "nbformat_minor": 4
}
