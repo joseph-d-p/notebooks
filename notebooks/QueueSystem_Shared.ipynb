{
 "cells": [
  {
   "cell_type": "code",
   "execution_count": 1,
   "metadata": {},
   "outputs": [
    {
     "data": {
      "application/vnd.vegalite.v3+json": {
       "$schema": "https://vega.github.io/schema/vega-lite/v3.4.0.json",
       "config": {
        "mark": {
         "tooltip": null
        },
        "view": {
         "height": 300,
         "width": 400
        }
       },
       "data": {
        "name": "data-46639df51a7c234834e2ede31e1d890f"
       },
       "datasets": {
        "data-46639df51a7c234834e2ede31e1d890f": [
         {
          "QDate_QTime": "2019-08-01T07:24:19",
          "Queue No": 1001,
          "Valid": "Y",
          "index": 0
         },
         {
          "QDate_QTime": "2019-08-01T08:02:13",
          "Queue No": 1001,
          "Valid": "Y",
          "index": 1
         },
         {
          "QDate_QTime": "2019-08-01T07:31:13",
          "Queue No": 1002,
          "Valid": "Y",
          "index": 0
         },
         {
          "QDate_QTime": "2019-08-01T07:32:22",
          "Queue No": 1003,
          "Valid": "Y",
          "index": 0
         },
         {
          "QDate_QTime": "2019-08-01T07:36:35",
          "Queue No": 1004,
          "Valid": "Y",
          "index": 0
         },
         {
          "QDate_QTime": "2019-08-01T07:58:17",
          "Queue No": 1004,
          "Valid": "Y",
          "index": 1
         },
         {
          "QDate_QTime": "2019-08-01T08:02:03",
          "Queue No": 1004,
          "Valid": "Y",
          "index": 2
         },
         {
          "QDate_QTime": "2019-08-01T07:49:11",
          "Queue No": 1005,
          "Valid": "Y",
          "index": 0
         },
         {
          "QDate_QTime": "2019-08-01T08:12:04",
          "Queue No": 1005,
          "Valid": "Y",
          "index": 1
         },
         {
          "QDate_QTime": "2019-08-01T08:17:35",
          "Queue No": 1005,
          "Valid": "Y",
          "index": 2
         },
         {
          "QDate_QTime": "2019-08-01T07:55:32",
          "Queue No": 1006,
          "Valid": "N",
          "index": 0
         },
         {
          "QDate_QTime": "2019-08-01T07:59:26",
          "Queue No": 1007,
          "Valid": "Y",
          "index": 0
         },
         {
          "QDate_QTime": "2019-08-01T08:23:51",
          "Queue No": 1007,
          "Valid": "Y",
          "index": 1
         },
         {
          "QDate_QTime": "2019-08-01T07:59:33",
          "Queue No": 1008,
          "Valid": "N",
          "index": 0
         },
         {
          "QDate_QTime": "2019-08-01T08:04:04",
          "Queue No": 1009,
          "Valid": "N",
          "index": 0
         },
         {
          "QDate_QTime": "2019-08-01T08:05:22",
          "Queue No": 1010,
          "Valid": "Y",
          "index": 0
         },
         {
          "QDate_QTime": "2019-08-01T08:28:17",
          "Queue No": 1010,
          "Valid": "Y",
          "index": 1
         },
         {
          "QDate_QTime": "2019-08-01T08:35:57",
          "Queue No": 1010,
          "Valid": "Y",
          "index": 2
         },
         {
          "QDate_QTime": "2019-08-01T08:10:28",
          "Queue No": 1011,
          "Valid": "N",
          "index": 0
         },
         {
          "QDate_QTime": "2019-08-01T08:14:58",
          "Queue No": 1012,
          "Valid": "Y",
          "index": 0
         },
         {
          "QDate_QTime": "2019-08-01T08:36:28",
          "Queue No": 1012,
          "Valid": "Y",
          "index": 1
         },
         {
          "QDate_QTime": "2019-08-01T08:41:39",
          "Queue No": 1012,
          "Valid": "Y",
          "index": 2
         },
         {
          "QDate_QTime": "2019-08-01T08:23:10",
          "Queue No": 1013,
          "Valid": "Y",
          "index": 0
         },
         {
          "QDate_QTime": "2019-08-01T08:24:18",
          "Queue No": 1014,
          "Valid": "Y",
          "index": 0
         },
         {
          "QDate_QTime": "2019-08-01T08:47:30",
          "Queue No": 1014,
          "Valid": "Y",
          "index": 1
         },
         {
          "QDate_QTime": "2019-08-01T08:31:48",
          "Queue No": 1015,
          "Valid": "Y",
          "index": 0
         },
         {
          "QDate_QTime": "2019-08-01T08:52:35",
          "Queue No": 1015,
          "Valid": "Y",
          "index": 1
         },
         {
          "QDate_QTime": "2019-08-01T08:36:40",
          "Queue No": 1016,
          "Valid": "Y",
          "index": 0
         },
         {
          "QDate_QTime": "2019-08-01T09:12:05",
          "Queue No": 1016,
          "Valid": "Y",
          "index": 1
         },
         {
          "QDate_QTime": "2019-08-01T08:44:29",
          "Queue No": 1017,
          "Valid": "Y",
          "index": 0
         },
         {
          "QDate_QTime": "2019-08-01T09:06:36",
          "Queue No": 1017,
          "Valid": "Y",
          "index": 1
         },
         {
          "QDate_QTime": "2019-08-01T09:02:29",
          "Queue No": 1018,
          "Valid": "N",
          "index": 0
         },
         {
          "QDate_QTime": "2019-08-01T09:06:53",
          "Queue No": 1019,
          "Valid": "Y",
          "index": 0
         },
         {
          "QDate_QTime": "2019-08-01T09:22:30",
          "Queue No": 1019,
          "Valid": "Y",
          "index": 0
         },
         {
          "QDate_QTime": "2019-08-01T09:29:38",
          "Queue No": 1020,
          "Valid": "Y",
          "index": 0
         },
         {
          "QDate_QTime": "2019-08-01T09:50:34",
          "Queue No": 1020,
          "Valid": "Y",
          "index": 1
         },
         {
          "QDate_QTime": "2019-08-01T09:30:24",
          "Queue No": 1021,
          "Valid": "N",
          "index": 0
         },
         {
          "QDate_QTime": "2019-08-01T09:30:51",
          "Queue No": 1022,
          "Valid": "Y",
          "index": 0
         },
         {
          "QDate_QTime": "2019-08-01T09:43:55",
          "Queue No": 1022,
          "Valid": "Y",
          "index": 1
         },
         {
          "QDate_QTime": "2019-08-01T09:53:32",
          "Queue No": 1023,
          "Valid": "Y",
          "index": 0
         },
         {
          "QDate_QTime": "2019-08-01T09:57:31",
          "Queue No": 1023,
          "Valid": "Y",
          "index": 1
         },
         {
          "QDate_QTime": "2019-08-01T10:04:28",
          "Queue No": 1024,
          "Valid": "N",
          "index": 0
         },
         {
          "QDate_QTime": "2019-08-02T07:20:48",
          "Queue No": 1001,
          "Valid": "Y",
          "index": 0
         },
         {
          "QDate_QTime": "2019-08-02T08:02:08",
          "Queue No": 1001,
          "Valid": "Y",
          "index": 1
         },
         {
          "QDate_QTime": "2019-08-02T07:20:54",
          "Queue No": 1002,
          "Valid": "Y",
          "index": 0
         },
         {
          "QDate_QTime": "2019-08-02T07:21:01",
          "Queue No": 1003,
          "Valid": "Y",
          "index": 0
         },
         {
          "QDate_QTime": "2019-08-02T07:21:21",
          "Queue No": 1004,
          "Valid": "Y",
          "index": 0
         },
         {
          "QDate_QTime": "2019-08-02T07:29:38",
          "Queue No": 1005,
          "Valid": "Y",
          "index": 0
         },
         {
          "QDate_QTime": "2019-08-02T08:55:07",
          "Queue No": 1005,
          "Valid": "Y",
          "index": 1
         },
         {
          "QDate_QTime": "2019-08-02T07:29:58",
          "Queue No": 1006,
          "Valid": "Y",
          "index": 0
         },
         {
          "QDate_QTime": "2019-08-02T08:13:44",
          "Queue No": 1006,
          "Valid": "Y",
          "index": 1
         },
         {
          "QDate_QTime": "2019-08-02T07:30:26",
          "Queue No": 1007,
          "Valid": "Y",
          "index": 0
         },
         {
          "QDate_QTime": "2019-08-02T07:30:32",
          "Queue No": 1008,
          "Valid": "Y",
          "index": 0
         },
         {
          "QDate_QTime": "2019-08-02T07:33:38",
          "Queue No": 1009,
          "Valid": "Y",
          "index": 0
         },
         {
          "QDate_QTime": "2019-08-02T08:15:26",
          "Queue No": 1009,
          "Valid": "Y",
          "index": 1
         },
         {
          "QDate_QTime": "2019-08-02T08:19:21",
          "Queue No": 1009,
          "Valid": "Y",
          "index": 2
         },
         {
          "QDate_QTime": "2019-08-02T07:35:12",
          "Queue No": 1010,
          "Valid": "Y",
          "index": 0
         },
         {
          "QDate_QTime": "2019-08-02T07:39:57",
          "Queue No": 1011,
          "Valid": "Y",
          "index": 0
         },
         {
          "QDate_QTime": "2019-08-02T08:20:03",
          "Queue No": 1011,
          "Valid": "Y",
          "index": 1
         },
         {
          "QDate_QTime": "2019-08-02T08:23:14",
          "Queue No": 1011,
          "Valid": "Y",
          "index": 2
         },
         {
          "QDate_QTime": "2019-08-02T07:40:45",
          "Queue No": 1012,
          "Valid": "Y",
          "index": 0
         },
         {
          "QDate_QTime": "2019-08-02T07:41:06",
          "Queue No": 1013,
          "Valid": "Y",
          "index": 0
         },
         {
          "QDate_QTime": "2019-08-02T08:29:36",
          "Queue No": 1013,
          "Valid": "Y",
          "index": 1
         },
         {
          "QDate_QTime": "2019-08-02T07:45:00",
          "Queue No": 1014,
          "Valid": "Y",
          "index": 0
         },
         {
          "QDate_QTime": "2019-08-02T07:47:46",
          "Queue No": 1015,
          "Valid": "Y",
          "index": 0
         },
         {
          "QDate_QTime": "2019-08-02T08:31:33",
          "Queue No": 1015,
          "Valid": "Y",
          "index": 1
         },
         {
          "QDate_QTime": "2019-08-02T08:39:17",
          "Queue No": 1015,
          "Valid": "Y",
          "index": 2
         },
         {
          "QDate_QTime": "2019-08-02T09:10:56",
          "Queue No": 1015,
          "Valid": "Y",
          "index": 3
         },
         {
          "QDate_QTime": "2019-08-02T07:49:02",
          "Queue No": 1016,
          "Valid": "Y",
          "index": 0
         },
         {
          "QDate_QTime": "2019-08-02T07:51:32",
          "Queue No": 1017,
          "Valid": "Y",
          "index": 0
         },
         {
          "QDate_QTime": "2019-08-02T08:41:36",
          "Queue No": 1017,
          "Valid": "Y",
          "index": 1
         },
         {
          "QDate_QTime": "2019-08-02T08:48:55",
          "Queue No": 1017,
          "Valid": "Y",
          "index": 2
         },
         {
          "QDate_QTime": "2019-08-02T07:52:04",
          "Queue No": 1018,
          "Valid": "N",
          "index": 0
         },
         {
          "QDate_QTime": "2019-08-02T07:55:58",
          "Queue No": 1019,
          "Valid": "Y",
          "index": 0
         },
         {
          "QDate_QTime": "2019-08-02T07:56:05",
          "Queue No": 1020,
          "Valid": "Y",
          "index": 0
         },
         {
          "QDate_QTime": "2019-08-02T07:56:19",
          "Queue No": 1021,
          "Valid": "N",
          "index": 0
         },
         {
          "QDate_QTime": "2019-08-02T07:58:15",
          "Queue No": 1022,
          "Valid": "Y",
          "index": 0
         },
         {
          "QDate_QTime": "2019-08-02T07:59:10",
          "Queue No": 1023,
          "Valid": "Y",
          "index": 0
         },
         {
          "QDate_QTime": "2019-08-02T08:04:39",
          "Queue No": 1024,
          "Valid": "Y",
          "index": 0
         },
         {
          "QDate_QTime": "2019-08-02T09:01:17",
          "Queue No": 1024,
          "Valid": "Y",
          "index": 1
         },
         {
          "QDate_QTime": "2019-08-02T08:06:13",
          "Queue No": 1025,
          "Valid": "Y",
          "index": 0
         },
         {
          "QDate_QTime": "2019-08-02T09:36:51",
          "Queue No": 1025,
          "Valid": "Y",
          "index": 0
         },
         {
          "QDate_QTime": "2019-08-02T08:11:14",
          "Queue No": 1026,
          "Valid": "Y",
          "index": 0
         },
         {
          "QDate_QTime": "2019-08-02T08:11:27",
          "Queue No": 1027,
          "Valid": "Y",
          "index": 0
         },
         {
          "QDate_QTime": "2019-08-02T08:19:29",
          "Queue No": 1028,
          "Valid": "Y",
          "index": 0
         },
         {
          "QDate_QTime": "2019-08-02T09:08:44",
          "Queue No": 1028,
          "Valid": "Y",
          "index": 1
         },
         {
          "QDate_QTime": "2019-08-02T08:20:13",
          "Queue No": 1029,
          "Valid": "Y",
          "index": 0
         },
         {
          "QDate_QTime": "2019-08-02T09:13:22",
          "Queue No": 1029,
          "Valid": "Y",
          "index": 1
         },
         {
          "QDate_QTime": "2019-08-02T08:20:32",
          "Queue No": 1030,
          "Valid": "Y",
          "index": 0
         },
         {
          "QDate_QTime": "2019-08-02T08:21:58",
          "Queue No": 1031,
          "Valid": "Y",
          "index": 0
         },
         {
          "QDate_QTime": "2019-08-02T09:18:35",
          "Queue No": 1031,
          "Valid": "Y",
          "index": 1
         },
         {
          "QDate_QTime": "2019-08-02T08:24:02",
          "Queue No": 1032,
          "Valid": "Y",
          "index": 0
         },
         {
          "QDate_QTime": "2019-08-02T08:28:54",
          "Queue No": 1033,
          "Valid": "Y",
          "index": 0
         },
         {
          "QDate_QTime": "2019-08-02T09:25:53",
          "Queue No": 1033,
          "Valid": "Y",
          "index": 1
         },
         {
          "QDate_QTime": "2019-08-02T08:30:16",
          "Queue No": 1034,
          "Valid": "Y",
          "index": 0
         },
         {
          "QDate_QTime": "2019-08-02T09:42:30",
          "Queue No": 1034,
          "Valid": "Y",
          "index": 1
         },
         {
          "QDate_QTime": "2019-08-02T08:31:20",
          "Queue No": 1035,
          "Valid": "Y",
          "index": 0
         },
         {
          "QDate_QTime": "2019-08-02T10:08:17",
          "Queue No": 1035,
          "Valid": "Y",
          "index": 1
         },
         {
          "QDate_QTime": "2019-08-02T08:46:40",
          "Queue No": 1036,
          "Valid": "N",
          "index": 0
         },
         {
          "QDate_QTime": "2019-08-02T08:47:37",
          "Queue No": 1037,
          "Valid": "Y",
          "index": 0
         },
         {
          "QDate_QTime": "2019-08-02T09:35:37",
          "Queue No": 1037,
          "Valid": "N",
          "index": 1
         },
         {
          "QDate_QTime": "2019-08-02T09:35:44",
          "Queue No": 1037,
          "Valid": "Y",
          "index": 2
         },
         {
          "QDate_QTime": "2019-08-02T08:48:17",
          "Queue No": 1038,
          "Valid": "Y",
          "index": 0
         },
         {
          "QDate_QTime": "2019-08-02T08:49:07",
          "Queue No": 1039,
          "Valid": "Y",
          "index": 0
         },
         {
          "QDate_QTime": "2019-08-02T09:32:01",
          "Queue No": 1039,
          "Valid": "Y",
          "index": 1
         },
         {
          "QDate_QTime": "2019-08-02T08:49:27",
          "Queue No": 1040,
          "Valid": "Y",
          "index": 0
         },
         {
          "QDate_QTime": "2019-08-02T09:58:27",
          "Queue No": 1040,
          "Valid": "Y",
          "index": 1
         },
         {
          "QDate_QTime": "2019-08-02T08:55:40",
          "Queue No": 1041,
          "Valid": "Y",
          "index": 0
         },
         {
          "QDate_QTime": "2019-08-02T09:10:49",
          "Queue No": 1042,
          "Valid": "Y",
          "index": 0
         },
         {
          "QDate_QTime": "2019-08-02T09:43:29",
          "Queue No": 1042,
          "Valid": "Y",
          "index": 1
         },
         {
          "QDate_QTime": "2019-08-02T09:14:16",
          "Queue No": 1043,
          "Valid": "Y",
          "index": 0
         },
         {
          "QDate_QTime": "2019-08-02T10:11:24",
          "Queue No": 1043,
          "Valid": "Y",
          "index": 1
         },
         {
          "QDate_QTime": "2019-08-02T09:21:42",
          "Queue No": 1044,
          "Valid": "Y",
          "index": 0
         },
         {
          "QDate_QTime": "2019-08-02T09:35:55",
          "Queue No": 1045,
          "Valid": "Y",
          "index": 0
         },
         {
          "QDate_QTime": "2019-08-02T10:21:25",
          "Queue No": 1045,
          "Valid": "Y",
          "index": 1
         },
         {
          "QDate_QTime": "2019-08-02T10:22:58",
          "Queue No": 1045,
          "Valid": "Y",
          "index": 2
         },
         {
          "QDate_QTime": "2019-08-02T09:37:28",
          "Queue No": 1046,
          "Valid": "N",
          "index": 0
         },
         {
          "QDate_QTime": "2019-08-02T09:42:44",
          "Queue No": 1047,
          "Valid": "Y",
          "index": 0
         },
         {
          "QDate_QTime": "2019-08-02T10:09:50",
          "Queue No": 1047,
          "Valid": "Y",
          "index": 1
         },
         {
          "QDate_QTime": "2019-08-02T10:12:36",
          "Queue No": 1047,
          "Valid": "Y",
          "index": 2
         },
         {
          "QDate_QTime": "2019-08-02T09:43:42",
          "Queue No": 1048,
          "Valid": "Y",
          "index": 0
         },
         {
          "QDate_QTime": "2019-08-02T09:48:02",
          "Queue No": 1049,
          "Valid": "Y",
          "index": 0
         },
         {
          "QDate_QTime": "2019-08-02T10:20:56",
          "Queue No": 1049,
          "Valid": "Y",
          "index": 1
         },
         {
          "QDate_QTime": "2019-08-02T09:50:27",
          "Queue No": 1050,
          "Valid": "Y",
          "index": 0
         },
         {
          "QDate_QTime": "2019-08-02T09:54:29",
          "Queue No": 1051,
          "Valid": "Y",
          "index": 0
         },
         {
          "QDate_QTime": "2019-08-02T10:27:11",
          "Queue No": 1051,
          "Valid": "Y",
          "index": 1
         },
         {
          "QDate_QTime": "2019-08-02T10:01:22",
          "Queue No": 1052,
          "Valid": "Y",
          "index": 0
         },
         {
          "QDate_QTime": "2019-08-02T10:05:54",
          "Queue No": 1053,
          "Valid": "Y",
          "index": 0
         },
         {
          "QDate_QTime": "2019-08-02T10:29:13",
          "Queue No": 1053,
          "Valid": "Y",
          "index": 1
         },
         {
          "QDate_QTime": "2019-08-02T10:34:24",
          "Queue No": 1053,
          "Valid": "Y",
          "index": 2
         },
         {
          "QDate_QTime": "2019-08-02T11:44:06",
          "Queue No": 1054,
          "Valid": "N",
          "index": 0
         },
         {
          "QDate_QTime": "2019-08-02T07:57:17",
          "Queue No": 4001,
          "Valid": "N",
          "index": 0
         },
         {
          "QDate_QTime": "2019-08-02T07:57:25",
          "Queue No": 4001,
          "Valid": "N",
          "index": 1
         },
         {
          "QDate_QTime": "2019-08-03T07:24:10",
          "Queue No": 1001,
          "Valid": "Y",
          "index": 0
         },
         {
          "QDate_QTime": "2019-08-03T08:02:43",
          "Queue No": 1001,
          "Valid": "Y",
          "index": 1
         },
         {
          "QDate_QTime": "2019-08-03T07:24:40",
          "Queue No": 1002,
          "Valid": "Y",
          "index": 0
         },
         {
          "QDate_QTime": "2019-08-03T07:25:37",
          "Queue No": 1003,
          "Valid": "Y",
          "index": 0
         },
         {
          "QDate_QTime": "2019-08-03T08:14:42",
          "Queue No": 1003,
          "Valid": "Y",
          "index": 1
         },
         {
          "QDate_QTime": "2019-08-03T07:31:27",
          "Queue No": 1004,
          "Valid": "Y",
          "index": 0
         },
         {
          "QDate_QTime": "2019-08-03T08:19:38",
          "Queue No": 1004,
          "Valid": "Y",
          "index": 1
         },
         {
          "QDate_QTime": "2019-08-03T09:07:36",
          "Queue No": 1004,
          "Valid": "Y",
          "index": 2
         },
         {
          "QDate_QTime": "2019-08-03T07:32:14",
          "Queue No": 1005,
          "Valid": "Y",
          "index": 0
         },
         {
          "QDate_QTime": "2019-08-03T08:24:07",
          "Queue No": 1005,
          "Valid": "Y",
          "index": 1
         },
         {
          "QDate_QTime": "2019-08-03T07:33:17",
          "Queue No": 1006,
          "Valid": "Y",
          "index": 0
         },
         {
          "QDate_QTime": "2019-08-03T08:29:49",
          "Queue No": 1006,
          "Valid": "Y",
          "index": 1
         },
         {
          "QDate_QTime": "2019-08-03T07:40:50",
          "Queue No": 1007,
          "Valid": "Y",
          "index": 0
         },
         {
          "QDate_QTime": "2019-08-03T08:33:45",
          "Queue No": 1007,
          "Valid": "Y",
          "index": 1
         },
         {
          "QDate_QTime": "2019-08-03T07:47:47",
          "Queue No": 1008,
          "Valid": "Y",
          "index": 0
         },
         {
          "QDate_QTime": "2019-08-03T08:38:23",
          "Queue No": 1008,
          "Valid": "Y",
          "index": 1
         },
         {
          "QDate_QTime": "2019-08-03T08:00:15",
          "Queue No": 1009,
          "Valid": "Y",
          "index": 0
         },
         {
          "QDate_QTime": "2019-08-03T08:44:17",
          "Queue No": 1009,
          "Valid": "Y",
          "index": 1
         },
         {
          "QDate_QTime": "2019-08-03T08:05:19",
          "Queue No": 1010,
          "Valid": "Y",
          "index": 0
         },
         {
          "QDate_QTime": "2019-08-03T08:44:51",
          "Queue No": 1010,
          "Valid": "Y",
          "index": 1
         },
         {
          "QDate_QTime": "2019-08-03T08:52:14",
          "Queue No": 1010,
          "Valid": "Y",
          "index": 2
         },
         {
          "QDate_QTime": "2019-08-03T08:08:27",
          "Queue No": 1011,
          "Valid": "Y",
          "index": 0
         },
         {
          "QDate_QTime": "2019-08-03T08:10:46",
          "Queue No": 1012,
          "Valid": "Y",
          "index": 0
         },
         {
          "QDate_QTime": "2019-08-03T09:00:35",
          "Queue No": 1012,
          "Valid": "Y",
          "index": 1
         },
         {
          "QDate_QTime": "2019-08-03T08:11:23",
          "Queue No": 1013,
          "Valid": "Y",
          "index": 0
         },
         {
          "QDate_QTime": "2019-08-03T09:02:53",
          "Queue No": 1013,
          "Valid": "N",
          "index": 1
         },
         {
          "QDate_QTime": "2019-08-03T08:11:31",
          "Queue No": 1014,
          "Valid": "Y",
          "index": 0
         },
         {
          "QDate_QTime": "2019-08-03T09:03:16",
          "Queue No": 1014,
          "Valid": "Y",
          "index": 1
         },
         {
          "QDate_QTime": "2019-08-03T09:11:43",
          "Queue No": 1014,
          "Valid": "Y",
          "index": 2
         },
         {
          "QDate_QTime": "2019-08-03T09:27:53",
          "Queue No": 1014,
          "Valid": "Y",
          "index": 3
         },
         {
          "QDate_QTime": "2019-08-03T08:15:21",
          "Queue No": 1015,
          "Valid": "Y",
          "index": 0
         },
         {
          "QDate_QTime": "2019-08-03T09:19:51",
          "Queue No": 1015,
          "Valid": "Y",
          "index": 1
         },
         {
          "QDate_QTime": "2019-08-03T08:20:53",
          "Queue No": 1016,
          "Valid": "Y",
          "index": 0
         },
         {
          "QDate_QTime": "2019-08-03T09:26:36",
          "Queue No": 1016,
          "Valid": "Y",
          "index": 1
         },
         {
          "QDate_QTime": "2019-08-03T09:36:12",
          "Queue No": 1016,
          "Valid": "Y",
          "index": 2
         },
         {
          "QDate_QTime": "2019-08-03T08:46:14",
          "Queue No": 1017,
          "Valid": "Y",
          "index": 0
         },
         {
          "QDate_QTime": "2019-08-03T09:34:59",
          "Queue No": 1017,
          "Valid": "Y",
          "index": 1
         },
         {
          "QDate_QTime": "2019-08-03T09:35:05",
          "Queue No": 1017,
          "Valid": "Y",
          "index": 2
         },
         {
          "QDate_QTime": "2019-08-03T09:07:07",
          "Queue No": 1018,
          "Valid": "Y",
          "index": 0
         },
         {
          "QDate_QTime": "2019-08-03T09:09:20",
          "Queue No": 1019,
          "Valid": "Y",
          "index": 0
         },
         {
          "QDate_QTime": "2019-08-03T09:48:29",
          "Queue No": 1019,
          "Valid": "Y",
          "index": 1
         },
         {
          "QDate_QTime": "2019-08-03T09:48:31",
          "Queue No": 1020,
          "Valid": "Y",
          "index": 0
         },
         {
          "QDate_QTime": "2019-08-05T07:13:59",
          "Queue No": 1001,
          "Valid": "Y",
          "index": 0
         },
         {
          "QDate_QTime": "2019-08-05T07:59:57",
          "Queue No": 1001,
          "Valid": "Y",
          "index": 1
         },
         {
          "QDate_QTime": "2019-08-05T07:14:06",
          "Queue No": 1002,
          "Valid": "Y",
          "index": 0
         },
         {
          "QDate_QTime": "2019-08-05T07:22:25",
          "Queue No": 1003,
          "Valid": "Y",
          "index": 0
         },
         {
          "QDate_QTime": "2019-08-05T08:48:47",
          "Queue No": 1003,
          "Valid": "Y",
          "index": 1
         },
         {
          "QDate_QTime": "2019-08-05T07:28:42",
          "Queue No": 1004,
          "Valid": "Y",
          "index": 0
         },
         {
          "QDate_QTime": "2019-08-05T07:29:05",
          "Queue No": 1005,
          "Valid": "Y",
          "index": 0
         },
         {
          "QDate_QTime": "2019-08-05T07:29:22",
          "Queue No": 1006,
          "Valid": "Y",
          "index": 0
         },
         {
          "QDate_QTime": "2019-08-05T08:01:07",
          "Queue No": 1006,
          "Valid": "Y",
          "index": 1
         },
         {
          "QDate_QTime": "2019-08-05T08:06:47",
          "Queue No": 1006,
          "Valid": "Y",
          "index": 2
         },
         {
          "QDate_QTime": "2019-08-05T07:38:45",
          "Queue No": 1007,
          "Valid": "Y",
          "index": 0
         },
         {
          "QDate_QTime": "2019-08-05T08:47:56",
          "Queue No": 1007,
          "Valid": "Y",
          "index": 1
         },
         {
          "QDate_QTime": "2019-08-05T07:39:03",
          "Queue No": 1008,
          "Valid": "Y",
          "index": 0
         },
         {
          "QDate_QTime": "2019-08-05T08:16:41",
          "Queue No": 1008,
          "Valid": "Y",
          "index": 1
         },
         {
          "QDate_QTime": "2019-08-05T07:44:02",
          "Queue No": 1009,
          "Valid": "N",
          "index": 0
         },
         {
          "QDate_QTime": "2019-08-05T07:46:17",
          "Queue No": 1010,
          "Valid": "Y",
          "index": 0
         },
         {
          "QDate_QTime": "2019-08-05T07:46:34",
          "Queue No": 1011,
          "Valid": "Y",
          "index": 0
         },
         {
          "QDate_QTime": "2019-08-05T07:48:00",
          "Queue No": 1012,
          "Valid": "Y",
          "index": 0
         },
         {
          "QDate_QTime": "2019-08-05T08:24:03",
          "Queue No": 1012,
          "Valid": "Y",
          "index": 1
         },
         {
          "QDate_QTime": "2019-08-05T07:49:43",
          "Queue No": 1013,
          "Valid": "Y",
          "index": 0
         },
         {
          "QDate_QTime": "2019-08-05T07:52:35",
          "Queue No": 1014,
          "Valid": "Y",
          "index": 0
         },
         {
          "QDate_QTime": "2019-08-05T07:56:19",
          "Queue No": 1015,
          "Valid": "N",
          "index": 0
         },
         {
          "QDate_QTime": "2019-08-05T07:56:53",
          "Queue No": 1016,
          "Valid": "N",
          "index": 0
         },
         {
          "QDate_QTime": "2019-08-05T07:57:08",
          "Queue No": 1017,
          "Valid": "Y",
          "index": 0
         },
         {
          "QDate_QTime": "2019-08-05T08:32:41",
          "Queue No": 1017,
          "Valid": "Y",
          "index": 1
         },
         {
          "QDate_QTime": "2019-08-05T07:58:58",
          "Queue No": 1018,
          "Valid": "N",
          "index": 0
         },
         {
          "QDate_QTime": "2019-08-05T07:59:16",
          "Queue No": 1019,
          "Valid": "Y",
          "index": 0
         },
         {
          "QDate_QTime": "2019-08-05T08:04:06",
          "Queue No": 1020,
          "Valid": "Y",
          "index": 0
         },
         {
          "QDate_QTime": "2019-08-05T08:42:07",
          "Queue No": 1020,
          "Valid": "Y",
          "index": 1
         },
         {
          "QDate_QTime": "2019-08-05T08:06:35",
          "Queue No": 1021,
          "Valid": "Y",
          "index": 0
         },
         {
          "QDate_QTime": "2019-08-05T08:09:14",
          "Queue No": 1022,
          "Valid": "Y",
          "index": 0
         },
         {
          "QDate_QTime": "2019-08-05T08:44:59",
          "Queue No": 1022,
          "Valid": "Y",
          "index": 1
         },
         {
          "QDate_QTime": "2019-08-05T08:48:53",
          "Queue No": 1022,
          "Valid": "Y",
          "index": 2
         },
         {
          "QDate_QTime": "2019-08-05T08:10:52",
          "Queue No": 1023,
          "Valid": "Y",
          "index": 0
         },
         {
          "QDate_QTime": "2019-08-05T08:11:05",
          "Queue No": 1024,
          "Valid": "Y",
          "index": 0
         },
         {
          "QDate_QTime": "2019-08-05T08:14:11",
          "Queue No": 1025,
          "Valid": "Y",
          "index": 0
         },
         {
          "QDate_QTime": "2019-08-05T09:13:01",
          "Queue No": 1025,
          "Valid": "Y",
          "index": 1
         },
         {
          "QDate_QTime": "2019-08-05T09:28:12",
          "Queue No": 1025,
          "Valid": "Y",
          "index": 2
         },
         {
          "QDate_QTime": "2019-08-05T08:15:53",
          "Queue No": 1026,
          "Valid": "Y",
          "index": 0
         },
         {
          "QDate_QTime": "2019-08-05T08:16:03",
          "Queue No": 1027,
          "Valid": "Y",
          "index": 0
         },
         {
          "QDate_QTime": "2019-08-05T08:16:52",
          "Queue No": 1028,
          "Valid": "Y",
          "index": 0
         },
         {
          "QDate_QTime": "2019-08-05T08:17:38",
          "Queue No": 1029,
          "Valid": "Y",
          "index": 0
         },
         {
          "QDate_QTime": "2019-08-05T09:04:22",
          "Queue No": 1029,
          "Valid": "Y",
          "index": 1
         },
         {
          "QDate_QTime": "2019-08-05T08:22:30",
          "Queue No": 1030,
          "Valid": "Y",
          "index": 0
         },
         {
          "QDate_QTime": "2019-08-05T08:23:23",
          "Queue No": 1031,
          "Valid": "Y",
          "index": 0
         },
         {
          "QDate_QTime": "2019-08-05T09:28:53",
          "Queue No": 1031,
          "Valid": "Y",
          "index": 1
         },
         {
          "QDate_QTime": "2019-08-05T08:30:09",
          "Queue No": 1032,
          "Valid": "Y",
          "index": 0
         },
         {
          "QDate_QTime": "2019-08-05T08:31:55",
          "Queue No": 1033,
          "Valid": "Y",
          "index": 0
         },
         {
          "QDate_QTime": "2019-08-05T09:17:34",
          "Queue No": 1033,
          "Valid": "Y",
          "index": 1
         },
         {
          "QDate_QTime": "2019-08-05T09:23:13",
          "Queue No": 1033,
          "Valid": "Y",
          "index": 2
         },
         {
          "QDate_QTime": "2019-08-05T08:37:28",
          "Queue No": 1034,
          "Valid": "Y",
          "index": 0
         },
         {
          "QDate_QTime": "2019-08-05T08:44:19",
          "Queue No": 1035,
          "Valid": "Y",
          "index": 0
         },
         {
          "QDate_QTime": "2019-08-05T08:58:14",
          "Queue No": 1036,
          "Valid": "Y",
          "index": 0
         },
         {
          "QDate_QTime": "2019-08-05T09:12:55",
          "Queue No": 1037,
          "Valid": "Y",
          "index": 0
         },
         {
          "QDate_QTime": "2019-08-05T09:51:02",
          "Queue No": 1037,
          "Valid": "Y",
          "index": 1
         },
         {
          "QDate_QTime": "2019-08-05T10:11:05",
          "Queue No": 1037,
          "Valid": "N",
          "index": 2
         },
         {
          "QDate_QTime": "2019-08-05T10:11:29",
          "Queue No": 1037,
          "Valid": "Y",
          "index": 3
         },
         {
          "QDate_QTime": "2019-08-05T09:29:45",
          "Queue No": 1038,
          "Valid": "Y",
          "index": 0
         },
         {
          "QDate_QTime": "2019-08-05T09:34:48",
          "Queue No": 1038,
          "Valid": "Y",
          "index": 1
         },
         {
          "QDate_QTime": "2019-08-05T09:31:26",
          "Queue No": 1039,
          "Valid": "Y",
          "index": 0
         },
         {
          "QDate_QTime": "2019-08-05T09:55:16",
          "Queue No": 1039,
          "Valid": "Y",
          "index": 1
         },
         {
          "QDate_QTime": "2019-08-05T09:39:20",
          "Queue No": 1040,
          "Valid": "Y",
          "index": 0
         },
         {
          "QDate_QTime": "2019-08-05T09:44:50",
          "Queue No": 1041,
          "Valid": "Y",
          "index": 0
         },
         {
          "QDate_QTime": "2019-08-05T09:51:21",
          "Queue No": 1041,
          "Valid": "Y",
          "index": 1
         },
         {
          "QDate_QTime": "2019-08-05T09:59:32",
          "Queue No": 1041,
          "Valid": "Y",
          "index": 2
         },
         {
          "QDate_QTime": "2019-08-05T09:52:15",
          "Queue No": 1042,
          "Valid": "Y",
          "index": 0
         },
         {
          "QDate_QTime": "2019-08-05T10:11:57",
          "Queue No": 1043,
          "Valid": "Y",
          "index": 0
         },
         {
          "QDate_QTime": "2019-08-05T10:19:44",
          "Queue No": 1043,
          "Valid": "Y",
          "index": 1
         },
         {
          "QDate_QTime": "2019-08-05T10:46:15",
          "Queue No": 1043,
          "Valid": "N",
          "index": 2
         },
         {
          "QDate_QTime": "2019-08-05T10:12:59",
          "Queue No": 1044,
          "Valid": "N",
          "index": 0
         },
         {
          "QDate_QTime": "2019-08-05T10:15:20",
          "Queue No": 1045,
          "Valid": "Y",
          "index": 0
         },
         {
          "QDate_QTime": "2019-08-05T10:21:22",
          "Queue No": 1045,
          "Valid": "Y",
          "index": 1
         },
         {
          "QDate_QTime": "2019-08-05T10:24:55",
          "Queue No": 1045,
          "Valid": "Y",
          "index": 2
         },
         {
          "QDate_QTime": "2019-08-05T10:19:28",
          "Queue No": 1046,
          "Valid": "Y",
          "index": 0
         },
         {
          "QDate_QTime": "2019-08-05T10:48:12",
          "Queue No": 1047,
          "Valid": "Y",
          "index": 0
         },
         {
          "QDate_QTime": "2019-08-05T10:51:23",
          "Queue No": 1047,
          "Valid": "Y",
          "index": 1
         },
         {
          "QDate_QTime": "2019-08-06T07:39:19",
          "Queue No": 1001,
          "Valid": "Y",
          "index": 0
         },
         {
          "QDate_QTime": "2019-08-06T08:01:08",
          "Queue No": 1001,
          "Valid": "Y",
          "index": 1
         },
         {
          "QDate_QTime": "2019-08-06T08:43:35",
          "Queue No": 1001,
          "Valid": "Y",
          "index": 2
         },
         {
          "QDate_QTime": "2019-08-06T07:40:56",
          "Queue No": 1002,
          "Valid": "N",
          "index": 0
         },
         {
          "QDate_QTime": "2019-08-06T07:48:08",
          "Queue No": 1003,
          "Valid": "Y",
          "index": 0
         },
         {
          "QDate_QTime": "2019-08-06T08:03:52",
          "Queue No": 1003,
          "Valid": "Y",
          "index": 1
         },
         {
          "QDate_QTime": "2019-08-06T08:09:56",
          "Queue No": 1003,
          "Valid": "Y",
          "index": 2
         },
         {
          "QDate_QTime": "2019-08-06T07:49:46",
          "Queue No": 1004,
          "Valid": "Y",
          "index": 0
         },
         {
          "QDate_QTime": "2019-08-06T08:16:10",
          "Queue No": 1004,
          "Valid": "Y",
          "index": 1
         },
         {
          "QDate_QTime": "2019-08-06T08:17:06",
          "Queue No": 1004,
          "Valid": "Y",
          "index": 2
         },
         {
          "QDate_QTime": "2019-08-06T07:56:24",
          "Queue No": 1005,
          "Valid": "N",
          "index": 0
         },
         {
          "QDate_QTime": "2019-08-06T08:07:18",
          "Queue No": 1006,
          "Valid": "Y",
          "index": 0
         },
         {
          "QDate_QTime": "2019-08-06T08:22:17",
          "Queue No": 1006,
          "Valid": "Y",
          "index": 1
         },
         {
          "QDate_QTime": "2019-08-06T08:07:53",
          "Queue No": 1007,
          "Valid": "Y",
          "index": 0
         },
         {
          "QDate_QTime": "2019-08-06T08:29:05",
          "Queue No": 1007,
          "Valid": "Y",
          "index": 1
         },
         {
          "QDate_QTime": "2019-08-06T08:10:37",
          "Queue No": 1008,
          "Valid": "N",
          "index": 0
         },
         {
          "QDate_QTime": "2019-08-06T08:26:16",
          "Queue No": 1009,
          "Valid": "Y",
          "index": 0
         },
         {
          "QDate_QTime": "2019-08-06T08:38:27",
          "Queue No": 1010,
          "Valid": "N",
          "index": 0
         },
         {
          "QDate_QTime": "2019-08-06T08:39:08",
          "Queue No": 1011,
          "Valid": "Y",
          "index": 0
         },
         {
          "QDate_QTime": "2019-08-06T08:43:05",
          "Queue No": 1012,
          "Valid": "Y",
          "index": 0
         },
         {
          "QDate_QTime": "2019-08-06T08:49:14",
          "Queue No": 1012,
          "Valid": "Y",
          "index": 1
         },
         {
          "QDate_QTime": "2019-08-06T08:56:40",
          "Queue No": 1013,
          "Valid": "N",
          "index": 0
         },
         {
          "QDate_QTime": "2019-08-06T08:57:22",
          "Queue No": 1014,
          "Valid": "N",
          "index": 0
         },
         {
          "QDate_QTime": "2019-08-06T08:58:02",
          "Queue No": 1015,
          "Valid": "Y",
          "index": 0
         },
         {
          "QDate_QTime": "2019-08-06T09:11:04",
          "Queue No": 1015,
          "Valid": "Y",
          "index": 1
         },
         {
          "QDate_QTime": "2019-08-06T08:58:43",
          "Queue No": 1016,
          "Valid": "N",
          "index": 0
         },
         {
          "QDate_QTime": "2019-08-06T08:59:00",
          "Queue No": 1017,
          "Valid": "N",
          "index": 0
         },
         {
          "QDate_QTime": "2019-08-06T09:24:19",
          "Queue No": 1018,
          "Valid": "N",
          "index": 0
         },
         {
          "QDate_QTime": "2019-08-06T09:30:07",
          "Queue No": 1019,
          "Valid": "Y",
          "index": 0
         },
         {
          "QDate_QTime": "2019-08-06T09:33:35",
          "Queue No": 1020,
          "Valid": "Y",
          "index": 0
         },
         {
          "QDate_QTime": "2019-08-06T09:41:49",
          "Queue No": 1021,
          "Valid": "Y",
          "index": 0
         },
         {
          "QDate_QTime": "2019-08-06T09:46:15",
          "Queue No": 1021,
          "Valid": "N",
          "index": 1
         },
         {
          "QDate_QTime": "2019-08-06T09:46:29",
          "Queue No": 1021,
          "Valid": "N",
          "index": 2
         },
         {
          "QDate_QTime": "2019-08-06T09:46:53",
          "Queue No": 1021,
          "Valid": "Y",
          "index": 3
         },
         {
          "QDate_QTime": "2019-08-06T09:51:26",
          "Queue No": 1021,
          "Valid": "Y",
          "index": 4
         },
         {
          "QDate_QTime": "2019-08-06T10:10:34",
          "Queue No": 1021,
          "Valid": "N",
          "index": 5
         },
         {
          "QDate_QTime": "2019-08-06T10:10:58",
          "Queue No": 1021,
          "Valid": "Y",
          "index": 6
         },
         {
          "QDate_QTime": "2019-08-06T10:11:13",
          "Queue No": 1021,
          "Valid": "Y",
          "index": 7
         },
         {
          "QDate_QTime": "2019-08-06T10:27:21",
          "Queue No": 1021,
          "Valid": "Y",
          "index": 8
         },
         {
          "QDate_QTime": "2019-08-06T10:50:28",
          "Queue No": 1021,
          "Valid": "Y",
          "index": 9
         },
         {
          "QDate_QTime": "2019-08-06T09:46:07",
          "Queue No": 1022,
          "Valid": "Y",
          "index": 0
         },
         {
          "QDate_QTime": "2019-08-06T09:57:21",
          "Queue No": 1022,
          "Valid": "Y",
          "index": 1
         },
         {
          "QDate_QTime": "2019-08-06T10:01:16",
          "Queue No": 1023,
          "Valid": "Y",
          "index": 0
         },
         {
          "QDate_QTime": "2019-08-06T10:34:38",
          "Queue No": 1023,
          "Valid": "Y",
          "index": 1
         },
         {
          "QDate_QTime": "2019-08-06T10:14:22",
          "Queue No": 1024,
          "Valid": "Y",
          "index": 0
         },
         {
          "QDate_QTime": "2019-08-06T10:17:54",
          "Queue No": 1025,
          "Valid": "Y",
          "index": 0
         },
         {
          "QDate_QTime": "2019-08-06T10:52:30",
          "Queue No": 1026,
          "Valid": "Y",
          "index": 0
         },
         {
          "QDate_QTime": "2019-08-06T11:00:10",
          "Queue No": 1026,
          "Valid": "Y",
          "index": 1
         },
         {
          "QDate_QTime": "2019-08-06T11:04:04",
          "Queue No": 1026,
          "Valid": "Y",
          "index": 2
         },
         {
          "QDate_QTime": "2019-08-06T13:39:54",
          "Queue No": 1027,
          "Valid": "N",
          "index": 0
         },
         {
          "QDate_QTime": "2019-08-07T07:25:03",
          "Queue No": 1001,
          "Valid": "Y",
          "index": 0
         },
         {
          "QDate_QTime": "2019-08-07T07:26:38",
          "Queue No": 1002,
          "Valid": "Y",
          "index": 0
         },
         {
          "QDate_QTime": "2019-08-07T08:08:32",
          "Queue No": 1002,
          "Valid": "Y",
          "index": 1
         },
         {
          "QDate_QTime": "2019-08-07T07:30:01",
          "Queue No": 1003,
          "Valid": "Y",
          "index": 0
         },
         {
          "QDate_QTime": "2019-08-07T08:13:58",
          "Queue No": 1003,
          "Valid": "Y",
          "index": 1
         },
         {
          "QDate_QTime": "2019-08-07T07:39:45",
          "Queue No": 1004,
          "Valid": "N",
          "index": 0
         },
         {
          "QDate_QTime": "2019-08-07T07:46:48",
          "Queue No": 1005,
          "Valid": "Y",
          "index": 0
         },
         {
          "QDate_QTime": "2019-08-07T08:52:58",
          "Queue No": 1005,
          "Valid": "Y",
          "index": 1
         },
         {
          "QDate_QTime": "2019-08-07T07:47:26",
          "Queue No": 1006,
          "Valid": "N",
          "index": 0
         },
         {
          "QDate_QTime": "2019-08-07T07:59:31",
          "Queue No": 1007,
          "Valid": "Y",
          "index": 0
         },
         {
          "QDate_QTime": "2019-08-07T08:22:21",
          "Queue No": 1007,
          "Valid": "Y",
          "index": 1
         },
         {
          "QDate_QTime": "2019-08-07T08:07:04",
          "Queue No": 1008,
          "Valid": "N",
          "index": 0
         },
         {
          "QDate_QTime": "2019-08-07T08:18:27",
          "Queue No": 1009,
          "Valid": "Y",
          "index": 0
         },
         {
          "QDate_QTime": "2019-08-07T08:28:00",
          "Queue No": 1009,
          "Valid": "Y",
          "index": 1
         },
         {
          "QDate_QTime": "2019-08-07T09:09:28",
          "Queue No": 1009,
          "Valid": "Y",
          "index": 2
         },
         {
          "QDate_QTime": "2019-08-07T08:20:13",
          "Queue No": 1010,
          "Valid": "Y",
          "index": 0
         },
         {
          "QDate_QTime": "2019-08-07T08:40:44",
          "Queue No": 1011,
          "Valid": "Y",
          "index": 0
         },
         {
          "QDate_QTime": "2019-08-07T08:48:38",
          "Queue No": 1011,
          "Valid": "Y",
          "index": 1
         },
         {
          "QDate_QTime": "2019-08-07T08:44:44",
          "Queue No": 1012,
          "Valid": "Y",
          "index": 0
         },
         {
          "QDate_QTime": "2019-08-07T08:56:10",
          "Queue No": 1012,
          "Valid": "Y",
          "index": 1
         },
         {
          "QDate_QTime": "2019-08-07T08:44:50",
          "Queue No": 1013,
          "Valid": "Y",
          "index": 0
         },
         {
          "QDate_QTime": "2019-08-07T08:47:36",
          "Queue No": 1014,
          "Valid": "N",
          "index": 0
         },
         {
          "QDate_QTime": "2019-08-07T08:59:25",
          "Queue No": 1015,
          "Valid": "Y",
          "index": 0
         },
         {
          "QDate_QTime": "2019-08-07T09:21:58",
          "Queue No": 1016,
          "Valid": "N",
          "index": 0
         },
         {
          "QDate_QTime": "2019-08-07T09:26:40",
          "Queue No": 1017,
          "Valid": "Y",
          "index": 0
         },
         {
          "QDate_QTime": "2019-08-07T09:33:44",
          "Queue No": 1017,
          "Valid": "Y",
          "index": 1
         },
         {
          "QDate_QTime": "2019-08-07T09:35:31",
          "Queue No": 1018,
          "Valid": "Y",
          "index": 0
         },
         {
          "QDate_QTime": "2019-08-07T09:41:21",
          "Queue No": 1018,
          "Valid": "N",
          "index": 1
         },
         {
          "QDate_QTime": "2019-08-07T09:42:39",
          "Queue No": 1018,
          "Valid": "Y",
          "index": 2
         },
         {
          "QDate_QTime": "2019-08-07T09:52:50",
          "Queue No": 1019,
          "Valid": "Y",
          "index": 0
         },
         {
          "QDate_QTime": "2019-08-08T07:22:06",
          "Queue No": 1001,
          "Valid": "Y",
          "index": 0
         },
         {
          "QDate_QTime": "2019-08-08T08:02:14",
          "Queue No": 1001,
          "Valid": "Y",
          "index": 1
         },
         {
          "QDate_QTime": "2019-08-08T07:22:10",
          "Queue No": 1002,
          "Valid": "N",
          "index": 0
         },
         {
          "QDate_QTime": "2019-08-08T07:22:21",
          "Queue No": 1003,
          "Valid": "Y",
          "index": 0
         },
         {
          "QDate_QTime": "2019-08-08T07:22:27",
          "Queue No": 1004,
          "Valid": "Y",
          "index": 0
         },
         {
          "QDate_QTime": "2019-08-08T08:06:58",
          "Queue No": 1004,
          "Valid": "Y",
          "index": 1
         },
         {
          "QDate_QTime": "2019-08-08T07:22:41",
          "Queue No": 1005,
          "Valid": "Y",
          "index": 0
         },
         {
          "QDate_QTime": "2019-08-08T07:22:48",
          "Queue No": 1006,
          "Valid": "Y",
          "index": 0
         },
         {
          "QDate_QTime": "2019-08-08T08:12:22",
          "Queue No": 1006,
          "Valid": "Y",
          "index": 1
         },
         {
          "QDate_QTime": "2019-08-08T07:22:56",
          "Queue No": 1007,
          "Valid": "Y",
          "index": 0
         },
         {
          "QDate_QTime": "2019-08-08T07:23:03",
          "Queue No": 1008,
          "Valid": "Y",
          "index": 0
         },
         {
          "QDate_QTime": "2019-08-08T08:46:54",
          "Queue No": 1008,
          "Valid": "Y",
          "index": 1
         },
         {
          "QDate_QTime": "2019-08-08T07:34:06",
          "Queue No": 1009,
          "Valid": "N",
          "index": 0
         },
         {
          "QDate_QTime": "2019-08-08T07:36:56",
          "Queue No": 1010,
          "Valid": "Y",
          "index": 0
         },
         {
          "QDate_QTime": "2019-08-08T07:37:36",
          "Queue No": 1011,
          "Valid": "Y",
          "index": 0
         },
         {
          "QDate_QTime": "2019-08-08T07:41:03",
          "Queue No": 1012,
          "Valid": "Y",
          "index": 0
         },
         {
          "QDate_QTime": "2019-08-08T08:14:00",
          "Queue No": 1012,
          "Valid": "Y",
          "index": 1
         },
         {
          "QDate_QTime": "2019-08-08T08:18:55",
          "Queue No": 1012,
          "Valid": "Y",
          "index": 2
         },
         {
          "QDate_QTime": "2019-08-08T07:42:27",
          "Queue No": 1013,
          "Valid": "Y",
          "index": 0
         },
         {
          "QDate_QTime": "2019-08-08T07:45:41",
          "Queue No": 1014,
          "Valid": "Y",
          "index": 0
         },
         {
          "QDate_QTime": "2019-08-08T08:20:30",
          "Queue No": 1014,
          "Valid": "Y",
          "index": 1
         },
         {
          "QDate_QTime": "2019-08-08T08:25:01",
          "Queue No": 1014,
          "Valid": "Y",
          "index": 2
         },
         {
          "QDate_QTime": "2019-08-08T07:45:47",
          "Queue No": 1015,
          "Valid": "N",
          "index": 0
         },
         {
          "QDate_QTime": "2019-08-08T07:51:15",
          "Queue No": 1016,
          "Valid": "Y",
          "index": 0
         },
         {
          "QDate_QTime": "2019-08-08T08:33:04",
          "Queue No": 1016,
          "Valid": "Y",
          "index": 1
         },
         {
          "QDate_QTime": "2019-08-08T07:53:33",
          "Queue No": 1017,
          "Valid": "N",
          "index": 0
         },
         {
          "QDate_QTime": "2019-08-08T07:57:32",
          "Queue No": 1018,
          "Valid": "N",
          "index": 0
         },
         {
          "QDate_QTime": "2019-08-08T08:00:21",
          "Queue No": 1019,
          "Valid": "Y",
          "index": 0
         },
         {
          "QDate_QTime": "2019-08-08T09:00:58",
          "Queue No": 1019,
          "Valid": "Y",
          "index": 1
         },
         {
          "QDate_QTime": "2019-08-08T08:00:45",
          "Queue No": 1020,
          "Valid": "N",
          "index": 0
         },
         {
          "QDate_QTime": "2019-08-08T08:01:03",
          "Queue No": 1021,
          "Valid": "Y",
          "index": 0
         },
         {
          "QDate_QTime": "2019-08-08T08:34:35",
          "Queue No": 1021,
          "Valid": "Y",
          "index": 1
         },
         {
          "QDate_QTime": "2019-08-08T08:40:41",
          "Queue No": 1021,
          "Valid": "Y",
          "index": 2
         },
         {
          "QDate_QTime": "2019-08-08T08:04:50",
          "Queue No": 1022,
          "Valid": "Y",
          "index": 0
         },
         {
          "QDate_QTime": "2019-08-08T08:07:27",
          "Queue No": 1023,
          "Valid": "Y",
          "index": 0
         },
         {
          "QDate_QTime": "2019-08-08T08:46:39",
          "Queue No": 1023,
          "Valid": "Y",
          "index": 1
         },
         {
          "QDate_QTime": "2019-08-08T08:08:21",
          "Queue No": 1024,
          "Valid": "Y",
          "index": 0
         },
         {
          "QDate_QTime": "2019-08-08T08:09:38",
          "Queue No": 1025,
          "Valid": "Y",
          "index": 0
         },
         {
          "QDate_QTime": "2019-08-08T08:47:24",
          "Queue No": 1025,
          "Valid": "Y",
          "index": 1
         },
         {
          "QDate_QTime": "2019-08-08T08:52:22",
          "Queue No": 1025,
          "Valid": "Y",
          "index": 2
         },
         {
          "QDate_QTime": "2019-08-08T08:13:23",
          "Queue No": 1026,
          "Valid": "N",
          "index": 0
         },
         {
          "QDate_QTime": "2019-08-08T08:15:18",
          "Queue No": 1027,
          "Valid": "N",
          "index": 0
         },
         {
          "QDate_QTime": "2019-08-08T08:20:33",
          "Queue No": 1028,
          "Valid": "Y",
          "index": 0
         },
         {
          "QDate_QTime": "2019-08-08T08:26:52",
          "Queue No": 1029,
          "Valid": "Y",
          "index": 0
         },
         {
          "QDate_QTime": "2019-08-08T08:59:00",
          "Queue No": 1029,
          "Valid": "Y",
          "index": 1
         },
         {
          "QDate_QTime": "2019-08-08T09:11:05",
          "Queue No": 1029,
          "Valid": "Y",
          "index": 2
         },
         {
          "QDate_QTime": "2019-08-08T08:29:59",
          "Queue No": 1030,
          "Valid": "Y",
          "index": 0
         },
         {
          "QDate_QTime": "2019-08-08T08:30:48",
          "Queue No": 1031,
          "Valid": "Y",
          "index": 0
         },
         {
          "QDate_QTime": "2019-08-08T08:31:04",
          "Queue No": 1032,
          "Valid": "Y",
          "index": 0
         },
         {
          "QDate_QTime": "2019-08-08T08:33:06",
          "Queue No": 1033,
          "Valid": "N",
          "index": 0
         },
         {
          "QDate_QTime": "2019-08-08T08:33:59",
          "Queue No": 1034,
          "Valid": "Y",
          "index": 0
         },
         {
          "QDate_QTime": "2019-08-08T09:00:49",
          "Queue No": 1034,
          "Valid": "Y",
          "index": 1
         },
         {
          "QDate_QTime": "2019-08-08T09:01:31",
          "Queue No": 1034,
          "Valid": "Y",
          "index": 0
         },
         {
          "QDate_QTime": "2019-08-08T08:37:24",
          "Queue No": 1035,
          "Valid": "Y",
          "index": 0
         },
         {
          "QDate_QTime": "2019-08-08T09:09:28",
          "Queue No": 1035,
          "Valid": "Y",
          "index": 1
         },
         {
          "QDate_QTime": "2019-08-08T09:16:15",
          "Queue No": 1035,
          "Valid": "Y",
          "index": 2
         },
         {
          "QDate_QTime": "2019-08-08T08:41:38",
          "Queue No": 1036,
          "Valid": "Y",
          "index": 0
         },
         {
          "QDate_QTime": "2019-08-08T08:41:57",
          "Queue No": 1037,
          "Valid": "Y",
          "index": 0
         },
         {
          "QDate_QTime": "2019-08-08T09:20:22",
          "Queue No": 1037,
          "Valid": "Y",
          "index": 1
         },
         {
          "QDate_QTime": "2019-08-08T08:42:46",
          "Queue No": 1038,
          "Valid": "Y",
          "index": 0
         },
         {
          "QDate_QTime": "2019-08-08T08:43:31",
          "Queue No": 1039,
          "Valid": "Y",
          "index": 0
         },
         {
          "QDate_QTime": "2019-08-08T09:36:17",
          "Queue No": 1039,
          "Valid": "Y",
          "index": 1
         },
         {
          "QDate_QTime": "2019-08-08T08:44:00",
          "Queue No": 1040,
          "Valid": "Y",
          "index": 0
         },
         {
          "QDate_QTime": "2019-08-08T09:26:08",
          "Queue No": 1040,
          "Valid": "Y",
          "index": 1
         },
         {
          "QDate_QTime": "2019-08-08T08:48:30",
          "Queue No": 1041,
          "Valid": "Y",
          "index": 0
         },
         {
          "QDate_QTime": "2019-08-08T08:50:32",
          "Queue No": 1042,
          "Valid": "Y",
          "index": 0
         },
         {
          "QDate_QTime": "2019-08-08T09:45:57",
          "Queue No": 1042,
          "Valid": "Y",
          "index": 1
         },
         {
          "QDate_QTime": "2019-08-08T08:51:04",
          "Queue No": 1043,
          "Valid": "Y",
          "index": 0
         },
         {
          "QDate_QTime": "2019-08-08T08:55:01",
          "Queue No": 1044,
          "Valid": "Y",
          "index": 0
         },
         {
          "QDate_QTime": "2019-08-08T08:56:38",
          "Queue No": 1045,
          "Valid": "Y",
          "index": 0
         },
         {
          "QDate_QTime": "2019-08-08T09:36:14",
          "Queue No": 1045,
          "Valid": "Y",
          "index": 1
         },
         {
          "QDate_QTime": "2019-08-08T08:56:46",
          "Queue No": 1046,
          "Valid": "Y",
          "index": 0
         },
         {
          "QDate_QTime": "2019-08-08T09:02:31",
          "Queue No": 1047,
          "Valid": "Y",
          "index": 0
         },
         {
          "QDate_QTime": "2019-08-08T09:04:45",
          "Queue No": 1048,
          "Valid": "Y",
          "index": 0
         },
         {
          "QDate_QTime": "2019-08-08T10:56:42",
          "Queue No": 1048,
          "Valid": "Y",
          "index": 1
         },
         {
          "QDate_QTime": "2019-08-08T09:04:55",
          "Queue No": 1049,
          "Valid": "Y",
          "index": 0
         },
         {
          "QDate_QTime": "2019-08-08T09:37:28",
          "Queue No": 1049,
          "Valid": "N",
          "index": 1
         },
         {
          "QDate_QTime": "2019-08-08T09:37:41",
          "Queue No": 1049,
          "Valid": "Y",
          "index": 2
         },
         {
          "QDate_QTime": "2019-08-08T09:47:37",
          "Queue No": 1049,
          "Valid": "Y",
          "index": 3
         },
         {
          "QDate_QTime": "2019-08-08T09:50:12",
          "Queue No": 1049,
          "Valid": "Y",
          "index": 4
         },
         {
          "QDate_QTime": "2019-08-08T09:05:32",
          "Queue No": 1050,
          "Valid": "Y",
          "index": 0
         },
         {
          "QDate_QTime": "2019-08-08T09:51:44",
          "Queue No": 1050,
          "Valid": "Y",
          "index": 1
         },
         {
          "QDate_QTime": "2019-08-08T09:54:10",
          "Queue No": 1050,
          "Valid": "Y",
          "index": 2
         },
         {
          "QDate_QTime": "2019-08-08T10:12:52",
          "Queue No": 1050,
          "Valid": "Y",
          "index": 3
         },
         {
          "QDate_QTime": "2019-08-08T10:45:31",
          "Queue No": 1050,
          "Valid": "Y",
          "index": 4
         },
         {
          "QDate_QTime": "2019-08-08T09:06:15",
          "Queue No": 1051,
          "Valid": "Y",
          "index": 0
         },
         {
          "QDate_QTime": "2019-08-08T09:39:58",
          "Queue No": 1051,
          "Valid": "Y",
          "index": 1
         },
         {
          "QDate_QTime": "2019-08-08T09:45:47",
          "Queue No": 1051,
          "Valid": "Y",
          "index": 0
         },
         {
          "QDate_QTime": "2019-08-08T09:06:32",
          "Queue No": 1052,
          "Valid": "Y",
          "index": 0
         },
         {
          "QDate_QTime": "2019-08-08T09:45:46",
          "Queue No": 1052,
          "Valid": "Y",
          "index": 1
         },
         {
          "QDate_QTime": "2019-08-08T09:55:35",
          "Queue No": 1052,
          "Valid": "Y",
          "index": 2
         },
         {
          "QDate_QTime": "2019-08-08T09:56:17",
          "Queue No": 1052,
          "Valid": "Y",
          "index": 0
         },
         {
          "QDate_QTime": "2019-08-08T10:16:06",
          "Queue No": 1052,
          "Valid": "N",
          "index": 1
         },
         {
          "QDate_QTime": "2019-08-08T09:09:09",
          "Queue No": 1053,
          "Valid": "N",
          "index": 0
         },
         {
          "QDate_QTime": "2019-08-08T09:10:52",
          "Queue No": 1054,
          "Valid": "Y",
          "index": 0
         },
         {
          "QDate_QTime": "2019-08-08T09:26:47",
          "Queue No": 1055,
          "Valid": "Y",
          "index": 0
         },
         {
          "QDate_QTime": "2019-08-08T09:56:23",
          "Queue No": 1055,
          "Valid": "Y",
          "index": 1
         },
         {
          "QDate_QTime": "2019-08-08T09:28:43",
          "Queue No": 1056,
          "Valid": "Y",
          "index": 0
         },
         {
          "QDate_QTime": "2019-08-08T09:35:13",
          "Queue No": 1057,
          "Valid": "Y",
          "index": 0
         },
         {
          "QDate_QTime": "2019-08-08T09:36:30",
          "Queue No": 1058,
          "Valid": "Y",
          "index": 0
         },
         {
          "QDate_QTime": "2019-08-08T10:02:03",
          "Queue No": 1058,
          "Valid": "Y",
          "index": 1
         },
         {
          "QDate_QTime": "2019-08-08T09:40:15",
          "Queue No": 1059,
          "Valid": "Y",
          "index": 0
         },
         {
          "QDate_QTime": "2019-08-08T09:40:49",
          "Queue No": 1060,
          "Valid": "Y",
          "index": 0
         },
         {
          "QDate_QTime": "2019-08-08T09:44:16",
          "Queue No": 1061,
          "Valid": "Y",
          "index": 0
         },
         {
          "QDate_QTime": "2019-08-08T10:17:38",
          "Queue No": 1061,
          "Valid": "Y",
          "index": 1
         },
         {
          "QDate_QTime": "2019-08-08T09:48:17",
          "Queue No": 1062,
          "Valid": "Y",
          "index": 0
         },
         {
          "QDate_QTime": "2019-08-08T10:33:12",
          "Queue No": 1062,
          "Valid": "Y",
          "index": 1
         },
         {
          "QDate_QTime": "2019-08-08T09:50:52",
          "Queue No": 1063,
          "Valid": "Y",
          "index": 0
         },
         {
          "QDate_QTime": "2019-08-08T10:44:45",
          "Queue No": 1063,
          "Valid": "Y",
          "index": 1
         },
         {
          "QDate_QTime": "2019-08-08T09:50:57",
          "Queue No": 1064,
          "Valid": "Y",
          "index": 0
         },
         {
          "QDate_QTime": "2019-08-08T09:52:56",
          "Queue No": 1065,
          "Valid": "Y",
          "index": 0
         },
         {
          "QDate_QTime": "2019-08-08T10:02:38",
          "Queue No": 1066,
          "Valid": "Y",
          "index": 0
         },
         {
          "QDate_QTime": "2019-08-08T10:05:57",
          "Queue No": 1067,
          "Valid": "Y",
          "index": 0
         },
         {
          "QDate_QTime": "2019-08-08T10:07:39",
          "Queue No": 1068,
          "Valid": "Y",
          "index": 0
         },
         {
          "QDate_QTime": "2019-08-08T10:28:41",
          "Queue No": 1068,
          "Valid": "Y",
          "index": 1
         },
         {
          "QDate_QTime": "2019-08-08T10:55:15",
          "Queue No": 1068,
          "Valid": "Y",
          "index": 2
         },
         {
          "QDate_QTime": "2019-08-10T07:24:21",
          "Queue No": 1001,
          "Valid": "Y",
          "index": 0
         },
         {
          "QDate_QTime": "2019-08-10T07:46:46",
          "Queue No": 1001,
          "Valid": "Y",
          "index": 1
         },
         {
          "QDate_QTime": "2019-08-10T07:52:32",
          "Queue No": 1001,
          "Valid": "Y",
          "index": 0
         },
         {
          "QDate_QTime": "2019-08-10T07:24:31",
          "Queue No": 1002,
          "Valid": "Y",
          "index": 0
         },
         {
          "QDate_QTime": "2019-08-10T07:40:00",
          "Queue No": 1002,
          "Valid": "Y",
          "index": 1
         },
         {
          "QDate_QTime": "2019-08-10T07:24:34",
          "Queue No": 1003,
          "Valid": "Y",
          "index": 0
         },
         {
          "QDate_QTime": "2019-08-10T07:51:31",
          "Queue No": 1003,
          "Valid": "N",
          "index": 1
         },
         {
          "QDate_QTime": "2019-08-10T07:24:41",
          "Queue No": 1004,
          "Valid": "Y",
          "index": 0
         },
         {
          "QDate_QTime": "2019-08-10T07:24:52",
          "Queue No": 1005,
          "Valid": "Y",
          "index": 0
         },
         {
          "QDate_QTime": "2019-08-10T07:25:06",
          "Queue No": 1006,
          "Valid": "Y",
          "index": 0
         },
         {
          "QDate_QTime": "2019-08-10T07:25:52",
          "Queue No": 1007,
          "Valid": "Y",
          "index": 0
         },
         {
          "QDate_QTime": "2019-08-10T07:25:57",
          "Queue No": 1008,
          "Valid": "Y",
          "index": 0
         },
         {
          "QDate_QTime": "2019-08-10T07:28:56",
          "Queue No": 1009,
          "Valid": "Y",
          "index": 0
         },
         {
          "QDate_QTime": "2019-08-10T07:51:53",
          "Queue No": 1009,
          "Valid": "Y",
          "index": 1
         },
         {
          "QDate_QTime": "2019-08-10T07:31:43",
          "Queue No": 1010,
          "Valid": "Y",
          "index": 0
         },
         {
          "QDate_QTime": "2019-08-10T07:53:36",
          "Queue No": 1010,
          "Valid": "Y",
          "index": 1
         },
         {
          "QDate_QTime": "2019-08-10T07:32:13",
          "Queue No": 1011,
          "Valid": "Y",
          "index": 0
         },
         {
          "QDate_QTime": "2019-08-10T08:07:19",
          "Queue No": 1011,
          "Valid": "Y",
          "index": 1
         },
         {
          "QDate_QTime": "2019-08-10T08:10:35",
          "Queue No": 1011,
          "Valid": "Y",
          "index": 2
         },
         {
          "QDate_QTime": "2019-08-10T07:32:37",
          "Queue No": 1012,
          "Valid": "Y",
          "index": 0
         },
         {
          "QDate_QTime": "2019-08-10T07:59:47",
          "Queue No": 1012,
          "Valid": "Y",
          "index": 1
         },
         {
          "QDate_QTime": "2019-08-10T07:34:35",
          "Queue No": 1013,
          "Valid": "Y",
          "index": 0
         },
         {
          "QDate_QTime": "2019-08-10T08:11:17",
          "Queue No": 1013,
          "Valid": "Y",
          "index": 1
         },
         {
          "QDate_QTime": "2019-08-10T07:35:15",
          "Queue No": 1014,
          "Valid": "Y",
          "index": 0
         },
         {
          "QDate_QTime": "2019-08-10T07:40:29",
          "Queue No": 1015,
          "Valid": "Y",
          "index": 0
         },
         {
          "QDate_QTime": "2019-08-10T08:17:25",
          "Queue No": 1015,
          "Valid": "Y",
          "index": 1
         },
         {
          "QDate_QTime": "2019-08-10T07:41:02",
          "Queue No": 1016,
          "Valid": "Y",
          "index": 0
         },
         {
          "QDate_QTime": "2019-08-10T07:45:29",
          "Queue No": 1017,
          "Valid": "N",
          "index": 0
         },
         {
          "QDate_QTime": "2019-08-10T07:47:03",
          "Queue No": 1018,
          "Valid": "Y",
          "index": 0
         },
         {
          "QDate_QTime": "2019-08-10T07:47:21",
          "Queue No": 1019,
          "Valid": "N",
          "index": 0
         },
         {
          "QDate_QTime": "2019-08-10T07:48:24",
          "Queue No": 1020,
          "Valid": "Y",
          "index": 0
         },
         {
          "QDate_QTime": "2019-08-10T08:40:52",
          "Queue No": 1020,
          "Valid": "Y",
          "index": 1
         },
         {
          "QDate_QTime": "2019-08-10T07:50:52",
          "Queue No": 1021,
          "Valid": "Y",
          "index": 0
         },
         {
          "QDate_QTime": "2019-08-10T08:21:39",
          "Queue No": 1021,
          "Valid": "Y",
          "index": 1
         },
         {
          "QDate_QTime": "2019-08-10T07:52:49",
          "Queue No": 1022,
          "Valid": "N",
          "index": 0
         },
         {
          "QDate_QTime": "2019-08-10T07:54:53",
          "Queue No": 1023,
          "Valid": "Y",
          "index": 0
         },
         {
          "QDate_QTime": "2019-08-10T08:30:51",
          "Queue No": 1023,
          "Valid": "Y",
          "index": 1
         },
         {
          "QDate_QTime": "2019-08-10T07:55:14",
          "Queue No": 1024,
          "Valid": "N",
          "index": 0
         },
         {
          "QDate_QTime": "2019-08-10T07:56:40",
          "Queue No": 1025,
          "Valid": "Y",
          "index": 0
         },
         {
          "QDate_QTime": "2019-08-10T08:32:38",
          "Queue No": 1025,
          "Valid": "Y",
          "index": 1
         },
         {
          "QDate_QTime": "2019-08-10T07:58:02",
          "Queue No": 1026,
          "Valid": "Y",
          "index": 0
         },
         {
          "QDate_QTime": "2019-08-10T08:45:00",
          "Queue No": 1026,
          "Valid": "Y",
          "index": 1
         },
         {
          "QDate_QTime": "2019-08-10T07:59:45",
          "Queue No": 1027,
          "Valid": "Y",
          "index": 0
         },
         {
          "QDate_QTime": "2019-08-10T08:47:05",
          "Queue No": 1027,
          "Valid": "Y",
          "index": 1
         },
         {
          "QDate_QTime": "2019-08-10T08:00:35",
          "Queue No": 1028,
          "Valid": "Y",
          "index": 0
         },
         {
          "QDate_QTime": "2019-08-10T08:51:03",
          "Queue No": 1028,
          "Valid": "Y",
          "index": 1
         },
         {
          "QDate_QTime": "2019-08-10T08:01:36",
          "Queue No": 1029,
          "Valid": "Y",
          "index": 0
         },
         {
          "QDate_QTime": "2019-08-10T09:38:56",
          "Queue No": 1029,
          "Valid": "Y",
          "index": 1
         },
         {
          "QDate_QTime": "2019-08-10T08:02:17",
          "Queue No": 1030,
          "Valid": "N",
          "index": 0
         },
         {
          "QDate_QTime": "2019-08-10T08:03:28",
          "Queue No": 1031,
          "Valid": "Y",
          "index": 0
         },
         {
          "QDate_QTime": "2019-08-10T09:40:48",
          "Queue No": 1031,
          "Valid": "Y",
          "index": 1
         },
         {
          "QDate_QTime": "2019-08-10T09:48:26",
          "Queue No": 1031,
          "Valid": "Y",
          "index": 2
         },
         {
          "QDate_QTime": "2019-08-10T08:04:16",
          "Queue No": 1032,
          "Valid": "Y",
          "index": 0
         },
         {
          "QDate_QTime": "2019-08-10T09:06:00",
          "Queue No": 1032,
          "Valid": "Y",
          "index": 1
         },
         {
          "QDate_QTime": "2019-08-10T09:11:50",
          "Queue No": 1032,
          "Valid": "Y",
          "index": 2
         },
         {
          "QDate_QTime": "2019-08-10T08:06:04",
          "Queue No": 1033,
          "Valid": "Y",
          "index": 0
         },
         {
          "QDate_QTime": "2019-08-10T09:52:02",
          "Queue No": 1033,
          "Valid": "Y",
          "index": 1
         },
         {
          "QDate_QTime": "2019-08-10T08:08:12",
          "Queue No": 1034,
          "Valid": "Y",
          "index": 0
         },
         {
          "QDate_QTime": "2019-08-10T08:08:36",
          "Queue No": 1035,
          "Valid": "N",
          "index": 0
         },
         {
          "QDate_QTime": "2019-08-10T08:14:37",
          "Queue No": 1036,
          "Valid": "Y",
          "index": 0
         },
         {
          "QDate_QTime": "2019-08-10T08:59:58",
          "Queue No": 1036,
          "Valid": "Y",
          "index": 1
         },
         {
          "QDate_QTime": "2019-08-10T09:12:43",
          "Queue No": 1036,
          "Valid": "Y",
          "index": 2
         },
         {
          "QDate_QTime": "2019-08-10T08:15:15",
          "Queue No": 1037,
          "Valid": "Y",
          "index": 0
         },
         {
          "QDate_QTime": "2019-08-10T09:11:27",
          "Queue No": 1037,
          "Valid": "Y",
          "index": 1
         },
         {
          "QDate_QTime": "2019-08-10T08:15:33",
          "Queue No": 1038,
          "Valid": "Y",
          "index": 0
         },
         {
          "QDate_QTime": "2019-08-10T08:17:31",
          "Queue No": 1039,
          "Valid": "N",
          "index": 0
         },
         {
          "QDate_QTime": "2019-08-10T08:18:18",
          "Queue No": 1040,
          "Valid": "Y",
          "index": 0
         },
         {
          "QDate_QTime": "2019-08-10T09:25:40",
          "Queue No": 1040,
          "Valid": "Y",
          "index": 1
         },
         {
          "QDate_QTime": "2019-08-10T08:19:06",
          "Queue No": 1041,
          "Valid": "Y",
          "index": 0
         },
         {
          "QDate_QTime": "2019-08-10T09:27:10",
          "Queue No": 1041,
          "Valid": "Y",
          "index": 1
         },
         {
          "QDate_QTime": "2019-08-10T08:21:04",
          "Queue No": 1042,
          "Valid": "Y",
          "index": 0
         },
         {
          "QDate_QTime": "2019-08-10T09:32:02",
          "Queue No": 1042,
          "Valid": "Y",
          "index": 1
         },
         {
          "QDate_QTime": "2019-08-10T08:22:31",
          "Queue No": 1043,
          "Valid": "Y",
          "index": 0
         },
         {
          "QDate_QTime": "2019-08-10T09:33:47",
          "Queue No": 1043,
          "Valid": "Y",
          "index": 1
         },
         {
          "QDate_QTime": "2019-08-10T08:24:06",
          "Queue No": 1044,
          "Valid": "Y",
          "index": 0
         },
         {
          "QDate_QTime": "2019-08-10T09:40:08",
          "Queue No": 1044,
          "Valid": "Y",
          "index": 1
         },
         {
          "QDate_QTime": "2019-08-10T10:05:23",
          "Queue No": 1044,
          "Valid": "Y",
          "index": 2
         },
         {
          "QDate_QTime": "2019-08-10T08:26:06",
          "Queue No": 1045,
          "Valid": "Y",
          "index": 0
         },
         {
          "QDate_QTime": "2019-08-10T09:45:40",
          "Queue No": 1045,
          "Valid": "Y",
          "index": 1
         },
         {
          "QDate_QTime": "2019-08-10T08:33:46",
          "Queue No": 1046,
          "Valid": "Y",
          "index": 0
         },
         {
          "QDate_QTime": "2019-08-10T08:35:58",
          "Queue No": 1047,
          "Valid": "Y",
          "index": 0
         },
         {
          "QDate_QTime": "2019-08-10T09:50:49",
          "Queue No": 1047,
          "Valid": "Y",
          "index": 1
         },
         {
          "QDate_QTime": "2019-08-10T09:51:39",
          "Queue No": 1047,
          "Valid": "Y",
          "index": 2
         },
         {
          "QDate_QTime": "2019-08-10T08:41:42",
          "Queue No": 1048,
          "Valid": "N",
          "index": 0
         },
         {
          "QDate_QTime": "2019-08-10T08:43:31",
          "Queue No": 1049,
          "Valid": "Y",
          "index": 0
         },
         {
          "QDate_QTime": "2019-08-10T08:45:17",
          "Queue No": 1050,
          "Valid": "Y",
          "index": 0
         },
         {
          "QDate_QTime": "2019-08-10T09:57:38",
          "Queue No": 1050,
          "Valid": "Y",
          "index": 1
         },
         {
          "QDate_QTime": "2019-08-10T08:50:21",
          "Queue No": 1051,
          "Valid": "Y",
          "index": 0
         },
         {
          "QDate_QTime": "2019-08-10T08:53:36",
          "Queue No": 1052,
          "Valid": "Y",
          "index": 0
         },
         {
          "QDate_QTime": "2019-08-10T10:06:20",
          "Queue No": 1052,
          "Valid": "Y",
          "index": 1
         },
         {
          "QDate_QTime": "2019-08-10T10:08:08",
          "Queue No": 1052,
          "Valid": "Y",
          "index": 2
         },
         {
          "QDate_QTime": "2019-08-10T08:56:35",
          "Queue No": 1053,
          "Valid": "Y",
          "index": 0
         },
         {
          "QDate_QTime": "2019-08-10T10:11:43",
          "Queue No": 1053,
          "Valid": "Y",
          "index": 1
         },
         {
          "QDate_QTime": "2019-08-10T08:59:22",
          "Queue No": 1054,
          "Valid": "Y",
          "index": 0
         },
         {
          "QDate_QTime": "2019-08-10T10:18:12",
          "Queue No": 1054,
          "Valid": "Y",
          "index": 1
         },
         {
          "QDate_QTime": "2019-08-10T09:02:16",
          "Queue No": 1055,
          "Valid": "Y",
          "index": 0
         },
         {
          "QDate_QTime": "2019-08-10T10:26:08",
          "Queue No": 1055,
          "Valid": "Y",
          "index": 1
         },
         {
          "QDate_QTime": "2019-08-10T09:09:42",
          "Queue No": 1056,
          "Valid": "Y",
          "index": 0
         },
         {
          "QDate_QTime": "2019-08-10T10:30:07",
          "Queue No": 1056,
          "Valid": "Y",
          "index": 1
         },
         {
          "QDate_QTime": "2019-08-10T09:10:57",
          "Queue No": 1057,
          "Valid": "Y",
          "index": 0
         },
         {
          "QDate_QTime": "2019-08-10T10:34:32",
          "Queue No": 1057,
          "Valid": "Y",
          "index": 1
         },
         {
          "QDate_QTime": "2019-08-10T09:12:34",
          "Queue No": 1058,
          "Valid": "Y",
          "index": 0
         },
         {
          "QDate_QTime": "2019-08-10T10:41:15",
          "Queue No": 1058,
          "Valid": "Y",
          "index": 1
         },
         {
          "QDate_QTime": "2019-08-10T09:12:50",
          "Queue No": 1059,
          "Valid": "Y",
          "index": 0
         },
         {
          "QDate_QTime": "2019-08-10T10:42:20",
          "Queue No": 1059,
          "Valid": "Y",
          "index": 1
         },
         {
          "QDate_QTime": "2019-08-10T09:13:22",
          "Queue No": 1060,
          "Valid": "Y",
          "index": 0
         },
         {
          "QDate_QTime": "2019-08-10T09:20:19",
          "Queue No": 1061,
          "Valid": "Y",
          "index": 0
         },
         {
          "QDate_QTime": "2019-08-10T09:24:57",
          "Queue No": 1062,
          "Valid": "N",
          "index": 0
         },
         {
          "QDate_QTime": "2019-08-10T09:29:36",
          "Queue No": 1063,
          "Valid": "N",
          "index": 0
         },
         {
          "QDate_QTime": "2019-08-10T09:31:53",
          "Queue No": 1064,
          "Valid": "Y",
          "index": 0
         },
         {
          "QDate_QTime": "2019-08-10T10:51:44",
          "Queue No": 1064,
          "Valid": "Y",
          "index": 1
         },
         {
          "QDate_QTime": "2019-08-10T09:35:34",
          "Queue No": 1065,
          "Valid": "Y",
          "index": 0
         },
         {
          "QDate_QTime": "2019-08-10T11:25:46",
          "Queue No": 1065,
          "Valid": "Y",
          "index": 1
         },
         {
          "QDate_QTime": "2019-08-10T09:38:04",
          "Queue No": 1066,
          "Valid": "Y",
          "index": 0
         },
         {
          "QDate_QTime": "2019-08-10T10:55:51",
          "Queue No": 1066,
          "Valid": "Y",
          "index": 1
         },
         {
          "QDate_QTime": "2019-08-10T10:56:40",
          "Queue No": 1066,
          "Valid": "Y",
          "index": 2
         },
         {
          "QDate_QTime": "2019-08-10T09:45:32",
          "Queue No": 1067,
          "Valid": "Y",
          "index": 0
         },
         {
          "QDate_QTime": "2019-08-10T11:01:31",
          "Queue No": 1067,
          "Valid": "Y",
          "index": 1
         },
         {
          "QDate_QTime": "2019-08-10T09:57:06",
          "Queue No": 1068,
          "Valid": "Y",
          "index": 0
         },
         {
          "QDate_QTime": "2019-08-10T11:25:21",
          "Queue No": 1068,
          "Valid": "N",
          "index": 1
         },
         {
          "QDate_QTime": "2019-08-10T09:57:52",
          "Queue No": 1069,
          "Valid": "N",
          "index": 0
         },
         {
          "QDate_QTime": "2019-08-10T09:59:55",
          "Queue No": 1070,
          "Valid": "Y",
          "index": 0
         },
         {
          "QDate_QTime": "2019-08-10T11:06:43",
          "Queue No": 1070,
          "Valid": "Y",
          "index": 1
         },
         {
          "QDate_QTime": "2019-08-10T10:14:48",
          "Queue No": 1071,
          "Valid": "N",
          "index": 0
         },
         {
          "QDate_QTime": "2019-08-10T10:59:29",
          "Queue No": 1072,
          "Valid": "Y",
          "index": 0
         },
         {
          "QDate_QTime": "2019-08-10T11:16:09",
          "Queue No": 1072,
          "Valid": "Y",
          "index": 1
         },
         {
          "QDate_QTime": "2019-08-10T11:01:07",
          "Queue No": 1073,
          "Valid": "Y",
          "index": 0
         },
         {
          "QDate_QTime": "2019-08-13T07:20:49",
          "Queue No": 1001,
          "Valid": "Y",
          "index": 0
         },
         {
          "QDate_QTime": "2019-08-13T07:50:02",
          "Queue No": 1001,
          "Valid": "N",
          "index": 1
         },
         {
          "QDate_QTime": "2019-08-13T07:56:21",
          "Queue No": 1001,
          "Valid": "Y",
          "index": 2
         },
         {
          "QDate_QTime": "2019-08-13T07:58:08",
          "Queue No": 1001,
          "Valid": "Y",
          "index": 3
         },
         {
          "QDate_QTime": "2019-08-13T07:20:58",
          "Queue No": 1002,
          "Valid": "Y",
          "index": 0
         },
         {
          "QDate_QTime": "2019-08-13T07:21:23",
          "Queue No": 1003,
          "Valid": "Y",
          "index": 0
         },
         {
          "QDate_QTime": "2019-08-13T07:56:15",
          "Queue No": 1003,
          "Valid": "Y",
          "index": 1
         },
         {
          "QDate_QTime": "2019-08-13T07:21:26",
          "Queue No": 1004,
          "Valid": "Y",
          "index": 0
         },
         {
          "QDate_QTime": "2019-08-13T07:22:06",
          "Queue No": 1005,
          "Valid": "Y",
          "index": 0
         },
         {
          "QDate_QTime": "2019-08-13T08:05:06",
          "Queue No": 1005,
          "Valid": "Y",
          "index": 1
         },
         {
          "QDate_QTime": "2019-08-13T07:22:11",
          "Queue No": 1006,
          "Valid": "Y",
          "index": 0
         },
         {
          "QDate_QTime": "2019-08-13T07:22:20",
          "Queue No": 1007,
          "Valid": "Y",
          "index": 0
         },
         {
          "QDate_QTime": "2019-08-13T07:22:55",
          "Queue No": 1008,
          "Valid": "Y",
          "index": 0
         },
         {
          "QDate_QTime": "2019-08-13T08:14:23",
          "Queue No": 1008,
          "Valid": "Y",
          "index": 1
         },
         {
          "QDate_QTime": "2019-08-13T08:45:46",
          "Queue No": 1008,
          "Valid": "Y",
          "index": 2
         },
         {
          "QDate_QTime": "2019-08-13T07:23:02",
          "Queue No": 1009,
          "Valid": "Y",
          "index": 0
         },
         {
          "QDate_QTime": "2019-08-13T07:26:40",
          "Queue No": 1010,
          "Valid": "Y",
          "index": 0
         },
         {
          "QDate_QTime": "2019-08-13T08:17:24",
          "Queue No": 1010,
          "Valid": "Y",
          "index": 1
         },
         {
          "QDate_QTime": "2019-08-13T07:30:41",
          "Queue No": 1011,
          "Valid": "Y",
          "index": 0
         },
         {
          "QDate_QTime": "2019-08-13T08:24:25",
          "Queue No": 1011,
          "Valid": "Y",
          "index": 1
         },
         {
          "QDate_QTime": "2019-08-13T08:49:27",
          "Queue No": 1011,
          "Valid": "Y",
          "index": 2
         },
         {
          "QDate_QTime": "2019-08-13T07:31:43",
          "Queue No": 1012,
          "Valid": "Y",
          "index": 0
         },
         {
          "QDate_QTime": "2019-08-13T07:35:06",
          "Queue No": 1013,
          "Valid": "Y",
          "index": 0
         },
         {
          "QDate_QTime": "2019-08-13T08:55:45",
          "Queue No": 1013,
          "Valid": "Y",
          "index": 1
         },
         {
          "QDate_QTime": "2019-08-13T08:56:00",
          "Queue No": 1013,
          "Valid": "Y",
          "index": 2
         },
         {
          "QDate_QTime": "2019-08-13T07:36:10",
          "Queue No": 1014,
          "Valid": "N",
          "index": 0
         },
         {
          "QDate_QTime": "2019-08-13T07:36:49",
          "Queue No": 1015,
          "Valid": "Y",
          "index": 0
         },
         {
          "QDate_QTime": "2019-08-13T07:37:37",
          "Queue No": 1016,
          "Valid": "Y",
          "index": 0
         },
         {
          "QDate_QTime": "2019-08-13T08:31:47",
          "Queue No": 1016,
          "Valid": "Y",
          "index": 1
         },
         {
          "QDate_QTime": "2019-08-13T08:48:11",
          "Queue No": 1016,
          "Valid": "N",
          "index": 2
         },
         {
          "QDate_QTime": "2019-08-13T08:48:24",
          "Queue No": 1016,
          "Valid": "Y",
          "index": 3
         },
         {
          "QDate_QTime": "2019-08-13T08:50:30",
          "Queue No": 1016,
          "Valid": "Y",
          "index": 4
         },
         {
          "QDate_QTime": "2019-08-13T07:38:12",
          "Queue No": 1017,
          "Valid": "Y",
          "index": 0
         },
         {
          "QDate_QTime": "2019-08-13T07:41:25",
          "Queue No": 1018,
          "Valid": "Y",
          "index": 0
         },
         {
          "QDate_QTime": "2019-08-13T08:33:21",
          "Queue No": 1018,
          "Valid": "Y",
          "index": 0
         },
         {
          "QDate_QTime": "2019-08-13T09:20:30",
          "Queue No": 1018,
          "Valid": "Y",
          "index": 1
         },
         {
          "QDate_QTime": "2019-08-13T07:42:35",
          "Queue No": 1019,
          "Valid": "Y",
          "index": 0
         },
         {
          "QDate_QTime": "2019-08-13T08:35:29",
          "Queue No": 1019,
          "Valid": "Y",
          "index": 1
         },
         {
          "QDate_QTime": "2019-08-13T10:27:54",
          "Queue No": 1019,
          "Valid": "Y",
          "index": 2
         },
         {
          "QDate_QTime": "2019-08-13T07:52:22",
          "Queue No": 1020,
          "Valid": "Y",
          "index": 0
         },
         {
          "QDate_QTime": "2019-08-13T07:53:42",
          "Queue No": 1021,
          "Valid": "Y",
          "index": 0
         },
         {
          "QDate_QTime": "2019-08-13T09:23:18",
          "Queue No": 1021,
          "Valid": "N",
          "index": 1
         },
         {
          "QDate_QTime": "2019-08-13T09:23:36",
          "Queue No": 1021,
          "Valid": "Y",
          "index": 2
         },
         {
          "QDate_QTime": "2019-08-13T09:25:22",
          "Queue No": 1021,
          "Valid": "N",
          "index": 3
         },
         {
          "QDate_QTime": "2019-08-13T09:25:27",
          "Queue No": 1021,
          "Valid": "N",
          "index": 4
         },
         {
          "QDate_QTime": "2019-08-13T07:56:46",
          "Queue No": 1022,
          "Valid": "Y",
          "index": 0
         },
         {
          "QDate_QTime": "2019-08-13T07:58:32",
          "Queue No": 1023,
          "Valid": "Y",
          "index": 0
         },
         {
          "QDate_QTime": "2019-08-13T08:57:37",
          "Queue No": 1023,
          "Valid": "Y",
          "index": 1
         },
         {
          "QDate_QTime": "2019-08-13T09:00:39",
          "Queue No": 1023,
          "Valid": "Y",
          "index": 2
         },
         {
          "QDate_QTime": "2019-08-13T08:00:53",
          "Queue No": 1024,
          "Valid": "Y",
          "index": 0
         },
         {
          "QDate_QTime": "2019-08-13T09:25:50",
          "Queue No": 1024,
          "Valid": "Y",
          "index": 1
         },
         {
          "QDate_QTime": "2019-08-13T08:01:08",
          "Queue No": 1025,
          "Valid": "Y",
          "index": 0
         },
         {
          "QDate_QTime": "2019-08-13T09:06:12",
          "Queue No": 1025,
          "Valid": "Y",
          "index": 1
         },
         {
          "QDate_QTime": "2019-08-13T09:15:40",
          "Queue No": 1025,
          "Valid": "N",
          "index": 2
         },
         {
          "QDate_QTime": "2019-08-13T09:15:48",
          "Queue No": 1025,
          "Valid": "Y",
          "index": 3
         },
         {
          "QDate_QTime": "2019-08-13T08:04:44",
          "Queue No": 1026,
          "Valid": "Y",
          "index": 0
         },
         {
          "QDate_QTime": "2019-08-13T08:05:56",
          "Queue No": 1027,
          "Valid": "Y",
          "index": 0
         },
         {
          "QDate_QTime": "2019-08-13T09:19:23",
          "Queue No": 1027,
          "Valid": "Y",
          "index": 1
         },
         {
          "QDate_QTime": "2019-08-13T08:06:04",
          "Queue No": 1028,
          "Valid": "Y",
          "index": 0
         },
         {
          "QDate_QTime": "2019-08-13T08:06:28",
          "Queue No": 1029,
          "Valid": "Y",
          "index": 0
         },
         {
          "QDate_QTime": "2019-08-13T09:20:05",
          "Queue No": 1029,
          "Valid": "N",
          "index": 1
         },
         {
          "QDate_QTime": "2019-08-13T09:20:22",
          "Queue No": 1029,
          "Valid": "Y",
          "index": 2
         },
         {
          "QDate_QTime": "2019-08-13T09:22:35",
          "Queue No": 1029,
          "Valid": "Y",
          "index": 3
         },
         {
          "QDate_QTime": "2019-08-13T08:12:34",
          "Queue No": 1030,
          "Valid": "Y",
          "index": 0
         },
         {
          "QDate_QTime": "2019-08-13T08:13:54",
          "Queue No": 1031,
          "Valid": "Y",
          "index": 0
         },
         {
          "QDate_QTime": "2019-08-13T09:27:24",
          "Queue No": 1031,
          "Valid": "Y",
          "index": 1
         },
         {
          "QDate_QTime": "2019-08-13T09:34:23",
          "Queue No": 1031,
          "Valid": "Y",
          "index": 2
         },
         {
          "QDate_QTime": "2019-08-13T09:35:34",
          "Queue No": 1031,
          "Valid": "Y",
          "index": 3
         },
         {
          "QDate_QTime": "2019-08-13T08:14:05",
          "Queue No": 1032,
          "Valid": "Y",
          "index": 0
         },
         {
          "QDate_QTime": "2019-08-13T08:17:02",
          "Queue No": 1033,
          "Valid": "Y",
          "index": 0
         },
         {
          "QDate_QTime": "2019-08-13T09:30:56",
          "Queue No": 1033,
          "Valid": "Y",
          "index": 1
         },
         {
          "QDate_QTime": "2019-08-13T08:17:17",
          "Queue No": 1034,
          "Valid": "Y",
          "index": 0
         },
         {
          "QDate_QTime": "2019-08-13T08:20:35",
          "Queue No": 1035,
          "Valid": "Y",
          "index": 0
         },
         {
          "QDate_QTime": "2019-08-13T09:42:12",
          "Queue No": 1035,
          "Valid": "Y",
          "index": 1
         },
         {
          "QDate_QTime": "2019-08-13T08:20:43",
          "Queue No": 1036,
          "Valid": "Y",
          "index": 0
         },
         {
          "QDate_QTime": "2019-08-13T08:22:22",
          "Queue No": 1037,
          "Valid": "Y",
          "index": 0
         },
         {
          "QDate_QTime": "2019-08-13T08:25:39",
          "Queue No": 1038,
          "Valid": "Y",
          "index": 0
         },
         {
          "QDate_QTime": "2019-08-13T08:32:32",
          "Queue No": 1039,
          "Valid": "Y",
          "index": 0
         },
         {
          "QDate_QTime": "2019-08-13T09:55:53",
          "Queue No": 1039,
          "Valid": "Y",
          "index": 1
         },
         {
          "QDate_QTime": "2019-08-13T09:58:20",
          "Queue No": 1039,
          "Valid": "Y",
          "index": 2
         },
         {
          "QDate_QTime": "2019-08-13T10:27:00",
          "Queue No": 1039,
          "Valid": "Y",
          "index": 3
         },
         {
          "QDate_QTime": "2019-08-13T08:35:40",
          "Queue No": 1040,
          "Valid": "Y",
          "index": 0
         },
         {
          "QDate_QTime": "2019-08-13T08:42:15",
          "Queue No": 1041,
          "Valid": "Y",
          "index": 0
         },
         {
          "QDate_QTime": "2019-08-13T09:48:07",
          "Queue No": 1041,
          "Valid": "Y",
          "index": 1
         },
         {
          "QDate_QTime": "2019-08-13T09:50:16",
          "Queue No": 1041,
          "Valid": "Y",
          "index": 2
         },
         {
          "QDate_QTime": "2019-08-13T08:42:24",
          "Queue No": 1042,
          "Valid": "Y",
          "index": 0
         },
         {
          "QDate_QTime": "2019-08-13T08:43:12",
          "Queue No": 1043,
          "Valid": "Y",
          "index": 0
         },
         {
          "QDate_QTime": "2019-08-13T08:46:42",
          "Queue No": 1044,
          "Valid": "Y",
          "index": 0
         },
         {
          "QDate_QTime": "2019-08-13T10:53:38",
          "Queue No": 1044,
          "Valid": "N",
          "index": 1
         },
         {
          "QDate_QTime": "2019-08-13T10:53:47",
          "Queue No": 1044,
          "Valid": "Y",
          "index": 2
         },
         {
          "QDate_QTime": "2019-08-13T08:52:56",
          "Queue No": 1045,
          "Valid": "Y",
          "index": 0
         },
         {
          "QDate_QTime": "2019-08-13T08:54:50",
          "Queue No": 1046,
          "Valid": "Y",
          "index": 0
         },
         {
          "QDate_QTime": "2019-08-13T09:13:38",
          "Queue No": 1047,
          "Valid": "Y",
          "index": 0
         },
         {
          "QDate_QTime": "2019-08-13T10:02:53",
          "Queue No": 1047,
          "Valid": "Y",
          "index": 1
         },
         {
          "QDate_QTime": "2019-08-13T09:15:57",
          "Queue No": 1048,
          "Valid": "Y",
          "index": 0
         },
         {
          "QDate_QTime": "2019-08-13T10:07:14",
          "Queue No": 1048,
          "Valid": "Y",
          "index": 1
         },
         {
          "QDate_QTime": "2019-08-13T09:28:55",
          "Queue No": 1049,
          "Valid": "Y",
          "index": 0
         },
         {
          "QDate_QTime": "2019-08-13T10:14:30",
          "Queue No": 1049,
          "Valid": "Y",
          "index": 1
         },
         {
          "QDate_QTime": "2019-08-13T09:30:01",
          "Queue No": 1050,
          "Valid": "Y",
          "index": 0
         },
         {
          "QDate_QTime": "2019-08-13T09:31:19",
          "Queue No": 1051,
          "Valid": "Y",
          "index": 0
         },
         {
          "QDate_QTime": "2019-08-13T09:32:48",
          "Queue No": 1052,
          "Valid": "Y",
          "index": 0
         },
         {
          "QDate_QTime": "2019-08-13T09:33:30",
          "Queue No": 1053,
          "Valid": "Y",
          "index": 0
         },
         {
          "QDate_QTime": "2019-08-13T09:52:29",
          "Queue No": 1054,
          "Valid": "Y",
          "index": 0
         },
         {
          "QDate_QTime": "2019-08-13T10:02:56",
          "Queue No": 1055,
          "Valid": "Y",
          "index": 0
         },
         {
          "QDate_QTime": "2019-08-13T10:11:52",
          "Queue No": 1056,
          "Valid": "Y",
          "index": 0
         },
         {
          "QDate_QTime": "2019-08-13T10:27:37",
          "Queue No": 1056,
          "Valid": "Y",
          "index": 1
         },
         {
          "QDate_QTime": "2019-08-13T10:14:23",
          "Queue No": 1057,
          "Valid": "Y",
          "index": 0
         },
         {
          "QDate_QTime": "2019-08-13T11:24:15",
          "Queue No": 1057,
          "Valid": "Y",
          "index": 1
         },
         {
          "QDate_QTime": "2019-08-13T10:21:17",
          "Queue No": 1058,
          "Valid": "Y",
          "index": 0
         },
         {
          "QDate_QTime": "2019-08-13T10:37:43",
          "Queue No": 1058,
          "Valid": "Y",
          "index": 1
         },
         {
          "QDate_QTime": "2019-08-13T11:18:41",
          "Queue No": 1059,
          "Valid": "Y",
          "index": 0
         },
         {
          "QDate_QTime": "2019-08-14T07:24:19",
          "Queue No": 1001,
          "Valid": "Y",
          "index": 0
         },
         {
          "QDate_QTime": "2019-08-14T08:02:14",
          "Queue No": 1001,
          "Valid": "Y",
          "index": 1
         },
         {
          "QDate_QTime": "2019-08-14T07:24:32",
          "Queue No": 1002,
          "Valid": "Y",
          "index": 0
         },
         {
          "QDate_QTime": "2019-08-14T08:14:47",
          "Queue No": 1002,
          "Valid": "Y",
          "index": 1
         },
         {
          "QDate_QTime": "2019-08-14T07:24:50",
          "Queue No": 1003,
          "Valid": "Y",
          "index": 0
         },
         {
          "QDate_QTime": "2019-08-14T07:24:55",
          "Queue No": 1004,
          "Valid": "Y",
          "index": 0
         },
         {
          "QDate_QTime": "2019-08-14T08:16:53",
          "Queue No": 1004,
          "Valid": "Y",
          "index": 1
         },
         {
          "QDate_QTime": "2019-08-14T07:32:47",
          "Queue No": 1005,
          "Valid": "Y",
          "index": 0
         },
         {
          "QDate_QTime": "2019-08-14T07:35:24",
          "Queue No": 1006,
          "Valid": "Y",
          "index": 0
         },
         {
          "QDate_QTime": "2019-08-14T08:23:21",
          "Queue No": 1006,
          "Valid": "Y",
          "index": 1
         },
         {
          "QDate_QTime": "2019-08-14T07:36:50",
          "Queue No": 1007,
          "Valid": "Y",
          "index": 0
         },
         {
          "QDate_QTime": "2019-08-14T07:37:07",
          "Queue No": 1008,
          "Valid": "Y",
          "index": 0
         },
         {
          "QDate_QTime": "2019-08-14T07:40:35",
          "Queue No": 1009,
          "Valid": "Y",
          "index": 0
         },
         {
          "QDate_QTime": "2019-08-14T07:42:20",
          "Queue No": 1010,
          "Valid": "Y",
          "index": 0
         },
         {
          "QDate_QTime": "2019-08-14T08:41:13",
          "Queue No": 1010,
          "Valid": "Y",
          "index": 1
         },
         {
          "QDate_QTime": "2019-08-14T07:45:15",
          "Queue No": 1011,
          "Valid": "N",
          "index": 0
         },
         {
          "QDate_QTime": "2019-08-14T07:47:41",
          "Queue No": 1012,
          "Valid": "Y",
          "index": 0
         },
         {
          "QDate_QTime": "2019-08-14T08:53:48",
          "Queue No": 1012,
          "Valid": "Y",
          "index": 1
         },
         {
          "QDate_QTime": "2019-08-14T08:55:35",
          "Queue No": 1012,
          "Valid": "Y",
          "index": 2
         },
         {
          "QDate_QTime": "2019-08-14T07:48:04",
          "Queue No": 1013,
          "Valid": "Y",
          "index": 0
         },
         {
          "QDate_QTime": "2019-08-14T09:11:54",
          "Queue No": 1013,
          "Valid": "Y",
          "index": 0
         },
         {
          "QDate_QTime": "2019-08-14T07:50:35",
          "Queue No": 1014,
          "Valid": "Y",
          "index": 0
         },
         {
          "QDate_QTime": "2019-08-14T07:56:40",
          "Queue No": 1015,
          "Valid": "Y",
          "index": 0
         },
         {
          "QDate_QTime": "2019-08-14T09:12:57",
          "Queue No": 1015,
          "Valid": "Y",
          "index": 1
         },
         {
          "QDate_QTime": "2019-08-14T09:16:59",
          "Queue No": 1015,
          "Valid": "Y",
          "index": 2
         },
         {
          "QDate_QTime": "2019-08-14T07:57:58",
          "Queue No": 1016,
          "Valid": "Y",
          "index": 0
         },
         {
          "QDate_QTime": "2019-08-14T07:59:10",
          "Queue No": 1017,
          "Valid": "Y",
          "index": 0
         },
         {
          "QDate_QTime": "2019-08-14T09:19:04",
          "Queue No": 1017,
          "Valid": "Y",
          "index": 1
         },
         {
          "QDate_QTime": "2019-08-14T09:23:48",
          "Queue No": 1017,
          "Valid": "Y",
          "index": 2
         },
         {
          "QDate_QTime": "2019-08-14T07:59:17",
          "Queue No": 1018,
          "Valid": "Y",
          "index": 0
         },
         {
          "QDate_QTime": "2019-08-14T08:10:14",
          "Queue No": 1019,
          "Valid": "Y",
          "index": 0
         },
         {
          "QDate_QTime": "2019-08-14T08:10:56",
          "Queue No": 1020,
          "Valid": "Y",
          "index": 0
         },
         {
          "QDate_QTime": "2019-08-14T09:35:37",
          "Queue No": 1020,
          "Valid": "Y",
          "index": 1
         },
         {
          "QDate_QTime": "2019-08-14T08:17:38",
          "Queue No": 1021,
          "Valid": "Y",
          "index": 0
         },
         {
          "QDate_QTime": "2019-08-14T09:42:19",
          "Queue No": 1021,
          "Valid": "Y",
          "index": 1
         },
         {
          "QDate_QTime": "2019-08-14T08:21:24",
          "Queue No": 1022,
          "Valid": "Y",
          "index": 0
         },
         {
          "QDate_QTime": "2019-08-14T08:23:26",
          "Queue No": 1023,
          "Valid": "Y",
          "index": 0
         },
         {
          "QDate_QTime": "2019-08-14T09:44:30",
          "Queue No": 1023,
          "Valid": "N",
          "index": 1
         },
         {
          "QDate_QTime": "2019-08-14T09:44:38",
          "Queue No": 1023,
          "Valid": "Y",
          "index": 2
         },
         {
          "QDate_QTime": "2019-08-14T09:48:45",
          "Queue No": 1023,
          "Valid": "Y",
          "index": 3
         },
         {
          "QDate_QTime": "2019-08-14T08:23:41",
          "Queue No": 1024,
          "Valid": "Y",
          "index": 0
         },
         {
          "QDate_QTime": "2019-08-14T08:24:29",
          "Queue No": 1025,
          "Valid": "Y",
          "index": 0
         },
         {
          "QDate_QTime": "2019-08-14T09:56:00",
          "Queue No": 1025,
          "Valid": "Y",
          "index": 1
         },
         {
          "QDate_QTime": "2019-08-14T08:26:35",
          "Queue No": 1026,
          "Valid": "Y",
          "index": 0
         },
         {
          "QDate_QTime": "2019-08-14T08:29:49",
          "Queue No": 1027,
          "Valid": "Y",
          "index": 0
         },
         {
          "QDate_QTime": "2019-08-14T08:36:13",
          "Queue No": 1028,
          "Valid": "Y",
          "index": 0
         },
         {
          "QDate_QTime": "2019-08-14T08:43:05",
          "Queue No": 1029,
          "Valid": "Y",
          "index": 0
         },
         {
          "QDate_QTime": "2019-08-14T08:45:50",
          "Queue No": 1030,
          "Valid": "Y",
          "index": 0
         },
         {
          "QDate_QTime": "2019-08-14T08:47:17",
          "Queue No": 1031,
          "Valid": "Y",
          "index": 0
         },
         {
          "QDate_QTime": "2019-08-14T10:11:32",
          "Queue No": 1031,
          "Valid": "N",
          "index": 1
         },
         {
          "QDate_QTime": "2019-08-14T08:49:49",
          "Queue No": 1032,
          "Valid": "Y",
          "index": 0
         },
         {
          "QDate_QTime": "2019-08-14T08:58:25",
          "Queue No": 1033,
          "Valid": "Y",
          "index": 0
         },
         {
          "QDate_QTime": "2019-08-14T09:04:42",
          "Queue No": 1034,
          "Valid": "Y",
          "index": 0
         },
         {
          "QDate_QTime": "2019-08-14T09:16:04",
          "Queue No": 1035,
          "Valid": "Y",
          "index": 0
         },
         {
          "QDate_QTime": "2019-08-14T09:25:41",
          "Queue No": 1036,
          "Valid": "Y",
          "index": 0
         },
         {
          "QDate_QTime": "2019-08-14T10:16:38",
          "Queue No": 1036,
          "Valid": "N",
          "index": 1
         },
         {
          "QDate_QTime": "2019-08-14T10:16:50",
          "Queue No": 1036,
          "Valid": "Y",
          "index": 2
         },
         {
          "QDate_QTime": "2019-08-14T09:28:03",
          "Queue No": 1037,
          "Valid": "Y",
          "index": 0
         },
         {
          "QDate_QTime": "2019-08-14T10:23:00",
          "Queue No": 1037,
          "Valid": "Y",
          "index": 1
         },
         {
          "QDate_QTime": "2019-08-14T10:28:45",
          "Queue No": 1037,
          "Valid": "Y",
          "index": 2
         },
         {
          "QDate_QTime": "2019-08-14T10:03:32",
          "Queue No": 1038,
          "Valid": "Y",
          "index": 0
         },
         {
          "QDate_QTime": "2019-08-14T10:29:01",
          "Queue No": 1038,
          "Valid": "Y",
          "index": 1
         },
         {
          "QDate_QTime": "2019-08-14T10:34:59",
          "Queue No": 1039,
          "Valid": "Y",
          "index": 0
         },
         {
          "QDate_QTime": "2019-08-14T11:54:14",
          "Queue No": 1040,
          "Valid": "N",
          "index": 0
         },
         {
          "QDate_QTime": "2019-08-14T12:27:14",
          "Queue No": 1041,
          "Valid": "N",
          "index": 0
         },
         {
          "QDate_QTime": "2019-08-14T12:27:18",
          "Queue No": 1042,
          "Valid": "N",
          "index": 0
         },
         {
          "QDate_QTime": "2019-08-15T07:24:21",
          "Queue No": 1001,
          "Valid": "Y",
          "index": 0
         },
         {
          "QDate_QTime": "2019-08-15T08:06:18",
          "Queue No": 1001,
          "Valid": "Y",
          "index": 1
         },
         {
          "QDate_QTime": "2019-08-15T07:24:27",
          "Queue No": 1002,
          "Valid": "Y",
          "index": 0
         },
         {
          "QDate_QTime": "2019-08-15T07:24:33",
          "Queue No": 1003,
          "Valid": "Y",
          "index": 0
         },
         {
          "QDate_QTime": "2019-08-15T08:18:44",
          "Queue No": 1003,
          "Valid": "Y",
          "index": 1
         },
         {
          "QDate_QTime": "2019-08-15T07:24:39",
          "Queue No": 1004,
          "Valid": "Y",
          "index": 0
         },
         {
          "QDate_QTime": "2019-08-15T07:25:08",
          "Queue No": 1005,
          "Valid": "Y",
          "index": 0
         },
         {
          "QDate_QTime": "2019-08-15T08:19:08",
          "Queue No": 1005,
          "Valid": "Y",
          "index": 1
         },
         {
          "QDate_QTime": "2019-08-15T08:23:13",
          "Queue No": 1005,
          "Valid": "Y",
          "index": 2
         },
         {
          "QDate_QTime": "2019-08-15T07:30:28",
          "Queue No": 1006,
          "Valid": "Y",
          "index": 0
         },
         {
          "QDate_QTime": "2019-08-15T07:35:17",
          "Queue No": 1007,
          "Valid": "N",
          "index": 0
         },
         {
          "QDate_QTime": "2019-08-15T07:39:48",
          "Queue No": 1008,
          "Valid": "N",
          "index": 0
         },
         {
          "QDate_QTime": "2019-08-15T07:49:33",
          "Queue No": 1009,
          "Valid": "N",
          "index": 0
         },
         {
          "QDate_QTime": "2019-08-15T07:52:15",
          "Queue No": 1010,
          "Valid": "Y",
          "index": 0
         },
         {
          "QDate_QTime": "2019-08-15T08:26:04",
          "Queue No": 1010,
          "Valid": "Y",
          "index": 1
         },
         {
          "QDate_QTime": "2019-08-15T08:32:13",
          "Queue No": 1010,
          "Valid": "Y",
          "index": 2
         },
         {
          "QDate_QTime": "2019-08-15T07:53:19",
          "Queue No": 1011,
          "Valid": "Y",
          "index": 0
         },
         {
          "QDate_QTime": "2019-08-15T07:53:57",
          "Queue No": 1012,
          "Valid": "Y",
          "index": 0
         },
         {
          "QDate_QTime": "2019-08-15T08:32:49",
          "Queue No": 1012,
          "Valid": "Y",
          "index": 1
         },
         {
          "QDate_QTime": "2019-08-15T08:33:09",
          "Queue No": 1012,
          "Valid": "N",
          "index": 2
         },
         {
          "QDate_QTime": "2019-08-15T08:42:11",
          "Queue No": 1012,
          "Valid": "N",
          "index": 3
         },
         {
          "QDate_QTime": "2019-08-15T08:42:24",
          "Queue No": 1012,
          "Valid": "Y",
          "index": 4
         },
         {
          "QDate_QTime": "2019-08-15T08:47:58",
          "Queue No": 1012,
          "Valid": "Y",
          "index": 5
         },
         {
          "QDate_QTime": "2019-08-15T09:29:35",
          "Queue No": 1012,
          "Valid": "Y",
          "index": 6
         },
         {
          "QDate_QTime": "2019-08-15T08:05:02",
          "Queue No": 1013,
          "Valid": "Y",
          "index": 0
         },
         {
          "QDate_QTime": "2019-08-15T08:07:55",
          "Queue No": 1014,
          "Valid": "Y",
          "index": 0
         },
         {
          "QDate_QTime": "2019-08-15T08:40:17",
          "Queue No": 1014,
          "Valid": "Y",
          "index": 1
         },
         {
          "QDate_QTime": "2019-08-15T08:09:10",
          "Queue No": 1015,
          "Valid": "Y",
          "index": 0
         },
         {
          "QDate_QTime": "2019-08-15T08:55:27",
          "Queue No": 1015,
          "Valid": "Y",
          "index": 1
         },
         {
          "QDate_QTime": "2019-08-15T08:09:45",
          "Queue No": 1016,
          "Valid": "Y",
          "index": 0
         },
         {
          "QDate_QTime": "2019-08-15T09:01:32",
          "Queue No": 1016,
          "Valid": "Y",
          "index": 1
         },
         {
          "QDate_QTime": "2019-08-15T08:16:07",
          "Queue No": 1017,
          "Valid": "N",
          "index": 0
         },
         {
          "QDate_QTime": "2019-08-15T08:16:50",
          "Queue No": 1018,
          "Valid": "Y",
          "index": 0
         },
         {
          "QDate_QTime": "2019-08-15T09:03:44",
          "Queue No": 1018,
          "Valid": "Y",
          "index": 1
         },
         {
          "QDate_QTime": "2019-08-15T09:08:15",
          "Queue No": 1018,
          "Valid": "Y",
          "index": 2
         },
         {
          "QDate_QTime": "2019-08-15T09:59:34",
          "Queue No": 1018,
          "Valid": "Y",
          "index": 3
         },
         {
          "QDate_QTime": "2019-08-15T08:19:43",
          "Queue No": 1019,
          "Valid": "Y",
          "index": 0
         },
         {
          "QDate_QTime": "2019-08-15T09:09:46",
          "Queue No": 1019,
          "Valid": "Y",
          "index": 1
         },
         {
          "QDate_QTime": "2019-08-15T09:15:15",
          "Queue No": 1019,
          "Valid": "Y",
          "index": 2
         },
         {
          "QDate_QTime": "2019-08-15T08:21:37",
          "Queue No": 1020,
          "Valid": "N",
          "index": 0
         },
         {
          "QDate_QTime": "2019-08-15T08:22:43",
          "Queue No": 1021,
          "Valid": "Y",
          "index": 0
         },
         {
          "QDate_QTime": "2019-08-15T08:25:47",
          "Queue No": 1022,
          "Valid": "Y",
          "index": 0
         },
         {
          "QDate_QTime": "2019-08-15T09:23:50",
          "Queue No": 1022,
          "Valid": "Y",
          "index": 1
         },
         {
          "QDate_QTime": "2019-08-15T08:29:40",
          "Queue No": 1023,
          "Valid": "Y",
          "index": 0
         },
         {
          "QDate_QTime": "2019-08-15T09:30:09",
          "Queue No": 1023,
          "Valid": "Y",
          "index": 1
         },
         {
          "QDate_QTime": "2019-08-15T08:47:14",
          "Queue No": 1024,
          "Valid": "Y",
          "index": 0
         },
         {
          "QDate_QTime": "2019-08-15T08:57:48",
          "Queue No": 1025,
          "Valid": "Y",
          "index": 0
         },
         {
          "QDate_QTime": "2019-08-15T09:38:05",
          "Queue No": 1025,
          "Valid": "Y",
          "index": 1
         },
         {
          "QDate_QTime": "2019-08-15T09:05:35",
          "Queue No": 1026,
          "Valid": "Y",
          "index": 0
         },
         {
          "QDate_QTime": "2019-08-15T09:16:53",
          "Queue No": 1027,
          "Valid": "N",
          "index": 0
         },
         {
          "QDate_QTime": "2019-08-15T09:23:07",
          "Queue No": 1028,
          "Valid": "N",
          "index": 0
         },
         {
          "QDate_QTime": "2019-08-15T09:25:55",
          "Queue No": 1029,
          "Valid": "Y",
          "index": 0
         },
         {
          "QDate_QTime": "2019-08-15T09:26:12",
          "Queue No": 1030,
          "Valid": "N",
          "index": 0
         },
         {
          "QDate_QTime": "2019-08-15T09:55:25",
          "Queue No": 1031,
          "Valid": "Y",
          "index": 0
         },
         {
          "QDate_QTime": "2019-08-15T10:03:40",
          "Queue No": 1031,
          "Valid": "Y",
          "index": 1
         },
         {
          "QDate_QTime": "2019-08-15T10:04:25",
          "Queue No": 1032,
          "Valid": "Y",
          "index": 0
         },
         {
          "QDate_QTime": "2019-08-15T10:05:24",
          "Queue No": 1032,
          "Valid": "Y",
          "index": 1
         },
         {
          "QDate_QTime": "2019-08-15T10:06:54",
          "Queue No": 1032,
          "Valid": "Y",
          "index": 2
         },
         {
          "QDate_QTime": "2019-08-15T10:13:15",
          "Queue No": 1032,
          "Valid": "Y",
          "index": 3
         },
         {
          "QDate_QTime": "2019-08-15T10:40:13",
          "Queue No": 1032,
          "Valid": "Y",
          "index": 4
         },
         {
          "QDate_QTime": "2019-08-15T10:25:35",
          "Queue No": 1033,
          "Valid": "Y",
          "index": 0
         },
         {
          "QDate_QTime": "2019-08-15T10:31:53",
          "Queue No": 1033,
          "Valid": "Y",
          "index": 1
         },
         {
          "QDate_QTime": "2019-08-15T10:59:19",
          "Queue No": 1034,
          "Valid": "Y",
          "index": 0
         },
         {
          "QDate_QTime": "2019-08-15T11:01:01",
          "Queue No": 1034,
          "Valid": "Y",
          "index": 1
         },
         {
          "QDate_QTime": "2019-08-15T11:06:28",
          "Queue No": 1034,
          "Valid": "Y",
          "index": 2
         },
         {
          "QDate_QTime": "2019-08-16T07:24:17",
          "Queue No": 1001,
          "Valid": "Y",
          "index": 0
         },
         {
          "QDate_QTime": "2019-08-16T08:30:58",
          "Queue No": 1001,
          "Valid": "Y",
          "index": 1
         },
         {
          "QDate_QTime": "2019-08-16T08:33:51",
          "Queue No": 1001,
          "Valid": "Y",
          "index": 2
         },
         {
          "QDate_QTime": "2019-08-16T07:24:22",
          "Queue No": 1002,
          "Valid": "Y",
          "index": 0
         },
         {
          "QDate_QTime": "2019-08-16T07:24:33",
          "Queue No": 1003,
          "Valid": "Y",
          "index": 0
         },
         {
          "QDate_QTime": "2019-08-16T08:31:06",
          "Queue No": 1003,
          "Valid": "Y",
          "index": 1
         },
         {
          "QDate_QTime": "2019-08-16T07:24:40",
          "Queue No": 1004,
          "Valid": "Y",
          "index": 0
         },
         {
          "QDate_QTime": "2019-08-16T07:32:21",
          "Queue No": 1005,
          "Valid": "Y",
          "index": 0
         },
         {
          "QDate_QTime": "2019-08-16T08:32:32",
          "Queue No": 1005,
          "Valid": "Y",
          "index": 1
         },
         {
          "QDate_QTime": "2019-08-16T07:32:47",
          "Queue No": 1006,
          "Valid": "Y",
          "index": 0
         },
         {
          "QDate_QTime": "2019-08-16T07:34:48",
          "Queue No": 1007,
          "Valid": "Y",
          "index": 0
         },
         {
          "QDate_QTime": "2019-08-16T08:32:38",
          "Queue No": 1007,
          "Valid": "Y",
          "index": 1
         },
         {
          "QDate_QTime": "2019-08-16T07:34:57",
          "Queue No": 1008,
          "Valid": "Y",
          "index": 0
         },
         {
          "QDate_QTime": "2019-08-16T07:37:01",
          "Queue No": 1009,
          "Valid": "Y",
          "index": 0
         },
         {
          "QDate_QTime": "2019-08-16T07:47:04",
          "Queue No": 1010,
          "Valid": "N",
          "index": 0
         },
         {
          "QDate_QTime": "2019-08-16T07:47:27",
          "Queue No": 1011,
          "Valid": "Y",
          "index": 0
         },
         {
          "QDate_QTime": "2019-08-16T08:48:45",
          "Queue No": 1011,
          "Valid": "Y",
          "index": 1
         },
         {
          "QDate_QTime": "2019-08-16T07:49:40",
          "Queue No": 1012,
          "Valid": "Y",
          "index": 0
         },
         {
          "QDate_QTime": "2019-08-16T07:50:21",
          "Queue No": 1013,
          "Valid": "N",
          "index": 0
         },
         {
          "QDate_QTime": "2019-08-16T07:55:04",
          "Queue No": 1014,
          "Valid": "N",
          "index": 0
         },
         {
          "QDate_QTime": "2019-08-16T07:56:02",
          "Queue No": 1015,
          "Valid": "Y",
          "index": 0
         },
         {
          "QDate_QTime": "2019-08-16T08:39:59",
          "Queue No": 1015,
          "Valid": "N",
          "index": 1
         },
         {
          "QDate_QTime": "2019-08-16T08:46:13",
          "Queue No": 1015,
          "Valid": "Y",
          "index": 2
         },
         {
          "QDate_QTime": "2019-08-16T07:56:31",
          "Queue No": 1016,
          "Valid": "Y",
          "index": 0
         },
         {
          "QDate_QTime": "2019-08-16T07:59:10",
          "Queue No": 1017,
          "Valid": "Y",
          "index": 0
         },
         {
          "QDate_QTime": "2019-08-16T08:32:26",
          "Queue No": 1017,
          "Valid": "Y",
          "index": 1
         },
         {
          "QDate_QTime": "2019-08-16T08:49:11",
          "Queue No": 1017,
          "Valid": "Y",
          "index": 2
         },
         {
          "QDate_QTime": "2019-08-16T08:01:04",
          "Queue No": 1018,
          "Valid": "Y",
          "index": 0
         },
         {
          "QDate_QTime": "2019-08-16T08:32:48",
          "Queue No": 1018,
          "Valid": "Y",
          "index": 1
         },
         {
          "QDate_QTime": "2019-08-16T08:03:57",
          "Queue No": 1019,
          "Valid": "Y",
          "index": 0
         },
         {
          "QDate_QTime": "2019-08-16T08:07:52",
          "Queue No": 1020,
          "Valid": "Y",
          "index": 0
         },
         {
          "QDate_QTime": "2019-08-16T08:08:04",
          "Queue No": 1021,
          "Valid": "Y",
          "index": 0
         },
         {
          "QDate_QTime": "2019-08-16T08:08:31",
          "Queue No": 1022,
          "Valid": "Y",
          "index": 0
         },
         {
          "QDate_QTime": "2019-08-16T08:10:31",
          "Queue No": 1023,
          "Valid": "Y",
          "index": 0
         },
         {
          "QDate_QTime": "2019-08-16T09:23:45",
          "Queue No": 1023,
          "Valid": "Y",
          "index": 1
         },
         {
          "QDate_QTime": "2019-08-16T08:11:46",
          "Queue No": 1024,
          "Valid": "Y",
          "index": 0
         },
         {
          "QDate_QTime": "2019-08-16T09:31:12",
          "Queue No": 1024,
          "Valid": "Y",
          "index": 1
         },
         {
          "QDate_QTime": "2019-08-16T08:12:18",
          "Queue No": 1025,
          "Valid": "Y",
          "index": 0
         },
         {
          "QDate_QTime": "2019-08-16T08:13:31",
          "Queue No": 1026,
          "Valid": "Y",
          "index": 0
         },
         {
          "QDate_QTime": "2019-08-16T08:51:20",
          "Queue No": 1026,
          "Valid": "Y",
          "index": 1
         },
         {
          "QDate_QTime": "2019-08-16T08:55:58",
          "Queue No": 1026,
          "Valid": "Y",
          "index": 2
         },
         {
          "QDate_QTime": "2019-08-16T08:14:42",
          "Queue No": 1027,
          "Valid": "Y",
          "index": 0
         },
         {
          "QDate_QTime": "2019-08-16T08:56:54",
          "Queue No": 1027,
          "Valid": "Y",
          "index": 1
         },
         {
          "QDate_QTime": "2019-08-16T09:02:43",
          "Queue No": 1027,
          "Valid": "Y",
          "index": 2
         },
         {
          "QDate_QTime": "2019-08-16T08:18:46",
          "Queue No": 1028,
          "Valid": "Y",
          "index": 0
         },
         {
          "QDate_QTime": "2019-08-16T09:06:32",
          "Queue No": 1028,
          "Valid": "Y",
          "index": 1
         },
         {
          "QDate_QTime": "2019-08-16T09:12:29",
          "Queue No": 1028,
          "Valid": "Y",
          "index": 2
         },
         {
          "QDate_QTime": "2019-08-16T08:21:38",
          "Queue No": 1029,
          "Valid": "Y",
          "index": 0
         },
         {
          "QDate_QTime": "2019-08-16T09:14:14",
          "Queue No": 1029,
          "Valid": "Y",
          "index": 1
         },
         {
          "QDate_QTime": "2019-08-16T08:22:25",
          "Queue No": 1030,
          "Valid": "Y",
          "index": 0
         },
         {
          "QDate_QTime": "2019-08-16T08:24:00",
          "Queue No": 1031,
          "Valid": "Y",
          "index": 0
         },
         {
          "QDate_QTime": "2019-08-16T08:36:20",
          "Queue No": 1032,
          "Valid": "N",
          "index": 0
         },
         {
          "QDate_QTime": "2019-08-16T08:36:31",
          "Queue No": 1033,
          "Valid": "Y",
          "index": 0
         },
         {
          "QDate_QTime": "2019-08-16T08:40:28",
          "Queue No": 1034,
          "Valid": "Y",
          "index": 0
         },
         {
          "QDate_QTime": "2019-08-16T09:31:23",
          "Queue No": 1034,
          "Valid": "Y",
          "index": 1
         },
         {
          "QDate_QTime": "2019-08-16T08:43:08",
          "Queue No": 1035,
          "Valid": "Y",
          "index": 0
         },
         {
          "QDate_QTime": "2019-08-16T08:48:23",
          "Queue No": 1036,
          "Valid": "Y",
          "index": 0
         },
         {
          "QDate_QTime": "2019-08-16T09:35:12",
          "Queue No": 1036,
          "Valid": "Y",
          "index": 1
         },
         {
          "QDate_QTime": "2019-08-16T08:50:16",
          "Queue No": 1037,
          "Valid": "Y",
          "index": 0
         },
         {
          "QDate_QTime": "2019-08-16T08:50:26",
          "Queue No": 1038,
          "Valid": "Y",
          "index": 0
         },
         {
          "QDate_QTime": "2019-08-16T09:40:47",
          "Queue No": 1038,
          "Valid": "Y",
          "index": 1
         },
         {
          "QDate_QTime": "2019-08-16T08:51:42",
          "Queue No": 1039,
          "Valid": "Y",
          "index": 0
         },
         {
          "QDate_QTime": "2019-08-16T09:04:48",
          "Queue No": 1040,
          "Valid": "Y",
          "index": 0
         },
         {
          "QDate_QTime": "2019-08-16T09:44:09",
          "Queue No": 1040,
          "Valid": "Y",
          "index": 1
         },
         {
          "QDate_QTime": "2019-08-16T09:51:22",
          "Queue No": 1040,
          "Valid": "Y",
          "index": 2
         },
         {
          "QDate_QTime": "2019-08-16T10:02:35",
          "Queue No": 1040,
          "Valid": "Y",
          "index": 3
         },
         {
          "QDate_QTime": "2019-08-16T09:10:18",
          "Queue No": 1041,
          "Valid": "Y",
          "index": 0
         },
         {
          "QDate_QTime": "2019-08-16T09:54:25",
          "Queue No": 1041,
          "Valid": "Y",
          "index": 1
         },
         {
          "QDate_QTime": "2019-08-16T09:11:38",
          "Queue No": 1042,
          "Valid": "Y",
          "index": 0
         },
         {
          "QDate_QTime": "2019-08-16T09:12:35",
          "Queue No": 1043,
          "Valid": "Y",
          "index": 0
         },
         {
          "QDate_QTime": "2019-08-16T09:19:45",
          "Queue No": 1044,
          "Valid": "Y",
          "index": 0
         },
         {
          "QDate_QTime": "2019-08-16T09:28:56",
          "Queue No": 1045,
          "Valid": "Y",
          "index": 0
         },
         {
          "QDate_QTime": "2019-08-16T09:59:01",
          "Queue No": 1045,
          "Valid": "Y",
          "index": 1
         },
         {
          "QDate_QTime": "2019-08-16T10:03:03",
          "Queue No": 1045,
          "Valid": "Y",
          "index": 2
         },
         {
          "QDate_QTime": "2019-08-16T09:44:57",
          "Queue No": 1046,
          "Valid": "N",
          "index": 0
         },
         {
          "QDate_QTime": "2019-08-16T09:46:32",
          "Queue No": 1047,
          "Valid": "Y",
          "index": 0
         },
         {
          "QDate_QTime": "2019-08-16T09:51:52",
          "Queue No": 1048,
          "Valid": "Y",
          "index": 0
         },
         {
          "QDate_QTime": "2019-08-16T10:12:56",
          "Queue No": 1048,
          "Valid": "Y",
          "index": 1
         },
         {
          "QDate_QTime": "2019-08-16T09:52:31",
          "Queue No": 1049,
          "Valid": "Y",
          "index": 0
         },
         {
          "QDate_QTime": "2019-08-16T10:20:29",
          "Queue No": 1049,
          "Valid": "Y",
          "index": 1
         },
         {
          "QDate_QTime": "2019-08-16T09:54:57",
          "Queue No": 1050,
          "Valid": "Y",
          "index": 0
         },
         {
          "QDate_QTime": "2019-08-16T10:28:37",
          "Queue No": 1050,
          "Valid": "Y",
          "index": 1
         },
         {
          "QDate_QTime": "2019-08-16T10:36:58",
          "Queue No": 1050,
          "Valid": "Y",
          "index": 2
         },
         {
          "QDate_QTime": "2019-08-16T09:56:02",
          "Queue No": 1051,
          "Valid": "Y",
          "index": 0
         },
         {
          "QDate_QTime": "2019-08-16T09:59:47",
          "Queue No": 1052,
          "Valid": "Y",
          "index": 0
         },
         {
          "QDate_QTime": "2019-08-16T10:33:44",
          "Queue No": 1053,
          "Valid": "Y",
          "index": 0
         },
         {
          "QDate_QTime": "2019-08-16T10:35:04",
          "Queue No": 1053,
          "Valid": "Y",
          "index": 1
         },
         {
          "QDate_QTime": "2019-08-16T10:36:10",
          "Queue No": 1053,
          "Valid": "Y",
          "index": 2
         },
         {
          "QDate_QTime": "2019-08-16T10:52:52",
          "Queue No": 1054,
          "Valid": "Y",
          "index": 0
         },
         {
          "QDate_QTime": "2019-08-16T11:01:11",
          "Queue No": 1054,
          "Valid": "Y",
          "index": 1
         },
         {
          "QDate_QTime": "2019-08-16T11:10:04",
          "Queue No": 1055,
          "Valid": "Y",
          "index": 0
         },
         {
          "QDate_QTime": "2019-08-16T11:18:03",
          "Queue No": 1055,
          "Valid": "Y",
          "index": 1
         },
         {
          "QDate_QTime": "2019-08-16T11:25:06",
          "Queue No": 1055,
          "Valid": "Y",
          "index": 2
         },
         {
          "QDate_QTime": "2019-08-16T14:18:49",
          "Queue No": 1056,
          "Valid": "Y",
          "index": 0
         },
         {
          "QDate_QTime": "2019-08-17T07:24:19",
          "Queue No": 1001,
          "Valid": "Y",
          "index": 0
         },
         {
          "QDate_QTime": "2019-08-17T07:51:43",
          "Queue No": 1001,
          "Valid": "Y",
          "index": 1
         },
         {
          "QDate_QTime": "2019-08-17T07:57:27",
          "Queue No": 1001,
          "Valid": "Y",
          "index": 2
         },
         {
          "QDate_QTime": "2019-08-17T07:24:30",
          "Queue No": 1002,
          "Valid": "Y",
          "index": 0
         },
         {
          "QDate_QTime": "2019-08-17T08:02:16",
          "Queue No": 1002,
          "Valid": "Y",
          "index": 1
         },
         {
          "QDate_QTime": "2019-08-17T07:24:39",
          "Queue No": 1003,
          "Valid": "Y",
          "index": 0
         },
         {
          "QDate_QTime": "2019-08-17T08:02:48",
          "Queue No": 1003,
          "Valid": "Y",
          "index": 1
         },
         {
          "QDate_QTime": "2019-08-17T08:07:04",
          "Queue No": 1003,
          "Valid": "Y",
          "index": 2
         },
         {
          "QDate_QTime": "2019-08-17T07:24:46",
          "Queue No": 1004,
          "Valid": "Y",
          "index": 0
         },
         {
          "QDate_QTime": "2019-08-17T08:12:07",
          "Queue No": 1004,
          "Valid": "Y",
          "index": 1
         },
         {
          "QDate_QTime": "2019-08-17T07:24:54",
          "Queue No": 1005,
          "Valid": "Y",
          "index": 0
         },
         {
          "QDate_QTime": "2019-08-17T08:17:32",
          "Queue No": 1005,
          "Valid": "N",
          "index": 1
         },
         {
          "QDate_QTime": "2019-08-17T07:25:12",
          "Queue No": 1006,
          "Valid": "Y",
          "index": 0
         },
         {
          "QDate_QTime": "2019-08-17T08:18:02",
          "Queue No": 1006,
          "Valid": "Y",
          "index": 1
         },
         {
          "QDate_QTime": "2019-08-17T08:26:30",
          "Queue No": 1006,
          "Valid": "Y",
          "index": 2
         },
         {
          "QDate_QTime": "2019-08-17T07:32:25",
          "Queue No": 1007,
          "Valid": "Y",
          "index": 0
         },
         {
          "QDate_QTime": "2019-08-17T08:27:03",
          "Queue No": 1007,
          "Valid": "Y",
          "index": 1
         },
         {
          "QDate_QTime": "2019-08-17T08:31:26",
          "Queue No": 1007,
          "Valid": "N",
          "index": 2
         },
         {
          "QDate_QTime": "2019-08-17T07:32:46",
          "Queue No": 1008,
          "Valid": "Y",
          "index": 0
         },
         {
          "QDate_QTime": "2019-08-17T08:36:02",
          "Queue No": 1008,
          "Valid": "Y",
          "index": 1
         },
         {
          "QDate_QTime": "2019-08-17T07:42:48",
          "Queue No": 1009,
          "Valid": "Y",
          "index": 0
         },
         {
          "QDate_QTime": "2019-08-17T08:42:53",
          "Queue No": 1009,
          "Valid": "Y",
          "index": 1
         },
         {
          "QDate_QTime": "2019-08-17T07:56:04",
          "Queue No": 1010,
          "Valid": "Y",
          "index": 0
         },
         {
          "QDate_QTime": "2019-08-17T08:43:32",
          "Queue No": 1010,
          "Valid": "N",
          "index": 1
         },
         {
          "QDate_QTime": "2019-08-17T08:43:51",
          "Queue No": 1010,
          "Valid": "Y",
          "index": 2
         },
         {
          "QDate_QTime": "2019-08-17T08:47:46",
          "Queue No": 1010,
          "Valid": "Y",
          "index": 3
         },
         {
          "QDate_QTime": "2019-08-17T08:50:04",
          "Queue No": 1010,
          "Valid": "Y",
          "index": 4
         },
         {
          "QDate_QTime": "2019-08-17T08:03:59",
          "Queue No": 1011,
          "Valid": "Y",
          "index": 0
         },
         {
          "QDate_QTime": "2019-08-17T08:50:29",
          "Queue No": 1011,
          "Valid": "Y",
          "index": 1
         },
         {
          "QDate_QTime": "2019-08-17T08:55:48",
          "Queue No": 1011,
          "Valid": "Y",
          "index": 2
         },
         {
          "QDate_QTime": "2019-08-17T08:04:16",
          "Queue No": 1012,
          "Valid": "Y",
          "index": 0
         },
         {
          "QDate_QTime": "2019-08-17T08:04:40",
          "Queue No": 1013,
          "Valid": "Y",
          "index": 0
         },
         {
          "QDate_QTime": "2019-08-17T08:11:24",
          "Queue No": 1014,
          "Valid": "Y",
          "index": 0
         },
         {
          "QDate_QTime": "2019-08-17T09:00:44",
          "Queue No": 1014,
          "Valid": "N",
          "index": 1
         },
         {
          "QDate_QTime": "2019-08-17T09:00:59",
          "Queue No": 1014,
          "Valid": "N",
          "index": 2
         },
         {
          "QDate_QTime": "2019-08-17T09:01:04",
          "Queue No": 1014,
          "Valid": "Y",
          "index": 3
         },
         {
          "QDate_QTime": "2019-08-17T09:07:00",
          "Queue No": 1014,
          "Valid": "Y",
          "index": 4
         },
         {
          "QDate_QTime": "2019-08-17T08:11:40",
          "Queue No": 1015,
          "Valid": "Y",
          "index": 0
         },
         {
          "QDate_QTime": "2019-08-17T09:07:27",
          "Queue No": 1015,
          "Valid": "N",
          "index": 1
         },
         {
          "QDate_QTime": "2019-08-17T09:07:45",
          "Queue No": 1015,
          "Valid": "Y",
          "index": 2
         },
         {
          "QDate_QTime": "2019-08-17T09:14:30",
          "Queue No": 1015,
          "Valid": "Y",
          "index": 3
         },
         {
          "QDate_QTime": "2019-08-17T08:14:35",
          "Queue No": 1016,
          "Valid": "Y",
          "index": 0
         },
         {
          "QDate_QTime": "2019-08-17T09:15:19",
          "Queue No": 1016,
          "Valid": "Y",
          "index": 1
         },
         {
          "QDate_QTime": "2019-08-17T09:21:52",
          "Queue No": 1016,
          "Valid": "Y",
          "index": 2
         },
         {
          "QDate_QTime": "2019-08-17T08:18:01",
          "Queue No": 1017,
          "Valid": "Y",
          "index": 0
         },
         {
          "QDate_QTime": "2019-08-17T09:28:07",
          "Queue No": 1017,
          "Valid": "N",
          "index": 1
         },
         {
          "QDate_QTime": "2019-08-17T09:28:38",
          "Queue No": 1017,
          "Valid": "Y",
          "index": 2
         },
         {
          "QDate_QTime": "2019-08-17T08:20:16",
          "Queue No": 1018,
          "Valid": "Y",
          "index": 0
         },
         {
          "QDate_QTime": "2019-08-17T08:24:15",
          "Queue No": 1019,
          "Valid": "Y",
          "index": 0
         },
         {
          "QDate_QTime": "2019-08-17T09:34:24",
          "Queue No": 1019,
          "Valid": "Y",
          "index": 1
         },
         {
          "QDate_QTime": "2019-08-17T09:40:52",
          "Queue No": 1019,
          "Valid": "N",
          "index": 2
         },
         {
          "QDate_QTime": "2019-08-17T09:41:42",
          "Queue No": 1019,
          "Valid": "Y",
          "index": 3
         },
         {
          "QDate_QTime": "2019-08-17T08:55:14",
          "Queue No": 1020,
          "Valid": "Y",
          "index": 0
         },
         {
          "QDate_QTime": "2019-08-17T09:42:11",
          "Queue No": 1020,
          "Valid": "Y",
          "index": 1
         },
         {
          "QDate_QTime": "2019-08-17T09:48:29",
          "Queue No": 1020,
          "Valid": "Y",
          "index": 2
         },
         {
          "QDate_QTime": "2019-08-17T09:11:09",
          "Queue No": 1021,
          "Valid": "Y",
          "index": 0
         },
         {
          "QDate_QTime": "2019-08-17T09:49:03",
          "Queue No": 1021,
          "Valid": "Y",
          "index": 1
         },
         {
          "QDate_QTime": "2019-08-17T09:56:05",
          "Queue No": 1021,
          "Valid": "N",
          "index": 2
         },
         {
          "QDate_QTime": "2019-08-17T09:56:33",
          "Queue No": 1021,
          "Valid": "Y",
          "index": 3
         },
         {
          "QDate_QTime": "2019-08-17T09:24:20",
          "Queue No": 1022,
          "Valid": "Y",
          "index": 0
         },
         {
          "QDate_QTime": "2019-08-17T09:56:53",
          "Queue No": 1022,
          "Valid": "Y",
          "index": 1
         },
         {
          "QDate_QTime": "2019-08-17T09:57:08",
          "Queue No": 1022,
          "Valid": "Y",
          "index": 2
         },
         {
          "QDate_QTime": "2019-08-17T10:04:05",
          "Queue No": 1022,
          "Valid": "Y",
          "index": 3
         },
         {
          "QDate_QTime": "2019-08-17T10:05:18",
          "Queue No": 1022,
          "Valid": "Y",
          "index": 4
         },
         {
          "QDate_QTime": "2019-08-17T10:24:19",
          "Queue No": 1023,
          "Valid": "Y",
          "index": 0
         },
         {
          "QDate_QTime": "2019-08-17T11:28:37",
          "Queue No": 1024,
          "Valid": "Y",
          "index": 0
         },
         {
          "QDate_QTime": "2019-08-19T11:59:02",
          "Queue No": 0,
          "Valid": "N",
          "index": 0
         },
         {
          "QDate_QTime": "2019-08-19T07:16:50",
          "Queue No": 1001,
          "Valid": "Y",
          "index": 0
         },
         {
          "QDate_QTime": "2019-08-19T07:24:27",
          "Queue No": 1002,
          "Valid": "Y",
          "index": 0
         },
         {
          "QDate_QTime": "2019-08-19T07:56:35",
          "Queue No": 1002,
          "Valid": "Y",
          "index": 1
         },
         {
          "QDate_QTime": "2019-08-19T08:03:20",
          "Queue No": 1002,
          "Valid": "Y",
          "index": 2
         },
         {
          "QDate_QTime": "2019-08-19T07:24:34",
          "Queue No": 1003,
          "Valid": "Y",
          "index": 0
         },
         {
          "QDate_QTime": "2019-08-19T07:24:43",
          "Queue No": 1004,
          "Valid": "Y",
          "index": 0
         },
         {
          "QDate_QTime": "2019-08-19T07:24:49",
          "Queue No": 1005,
          "Valid": "Y",
          "index": 0
         },
         {
          "QDate_QTime": "2019-08-19T08:10:33",
          "Queue No": 1005,
          "Valid": "Y",
          "index": 1
         },
         {
          "QDate_QTime": "2019-08-19T07:24:56",
          "Queue No": 1006,
          "Valid": "Y",
          "index": 0
         },
         {
          "QDate_QTime": "2019-08-19T07:25:06",
          "Queue No": 1007,
          "Valid": "Y",
          "index": 0
         },
         {
          "QDate_QTime": "2019-08-19T07:25:15",
          "Queue No": 1008,
          "Valid": "Y",
          "index": 0
         },
         {
          "QDate_QTime": "2019-08-19T08:16:02",
          "Queue No": 1008,
          "Valid": "Y",
          "index": 1
         },
         {
          "QDate_QTime": "2019-08-19T08:19:34",
          "Queue No": 1008,
          "Valid": "Y",
          "index": 2
         },
         {
          "QDate_QTime": "2019-08-19T07:25:21",
          "Queue No": 1009,
          "Valid": "Y",
          "index": 0
         },
         {
          "QDate_QTime": "2019-08-19T08:15:34",
          "Queue No": 1009,
          "Valid": "Y",
          "index": 1
         },
         {
          "QDate_QTime": "2019-08-19T07:25:28",
          "Queue No": 1010,
          "Valid": "Y",
          "index": 0
         },
         {
          "QDate_QTime": "2019-08-19T07:25:46",
          "Queue No": 1011,
          "Valid": "Y",
          "index": 0
         },
         {
          "QDate_QTime": "2019-08-19T08:29:28",
          "Queue No": 1011,
          "Valid": "Y",
          "index": 1
         },
         {
          "QDate_QTime": "2019-08-19T07:26:08",
          "Queue No": 1012,
          "Valid": "Y",
          "index": 0
         },
         {
          "QDate_QTime": "2019-08-19T07:30:19",
          "Queue No": 1013,
          "Valid": "Y",
          "index": 0
         },
         {
          "QDate_QTime": "2019-08-19T09:00:59",
          "Queue No": 1013,
          "Valid": "Y",
          "index": 1
         },
         {
          "QDate_QTime": "2019-08-19T07:32:16",
          "Queue No": 1014,
          "Valid": "Y",
          "index": 0
         },
         {
          "QDate_QTime": "2019-08-19T07:36:24",
          "Queue No": 1015,
          "Valid": "Y",
          "index": 0
         },
         {
          "QDate_QTime": "2019-08-19T09:05:34",
          "Queue No": 1015,
          "Valid": "Y",
          "index": 1
         },
         {
          "QDate_QTime": "2019-08-19T07:38:21",
          "Queue No": 1016,
          "Valid": "Y",
          "index": 0
         },
         {
          "QDate_QTime": "2019-08-19T08:33:32",
          "Queue No": 1016,
          "Valid": "Y",
          "index": 1
         },
         {
          "QDate_QTime": "2019-08-19T07:43:27",
          "Queue No": 1017,
          "Valid": "Y",
          "index": 0
         },
         {
          "QDate_QTime": "2019-08-19T07:44:14",
          "Queue No": 1018,
          "Valid": "Y",
          "index": 0
         },
         {
          "QDate_QTime": "2019-08-19T08:40:57",
          "Queue No": 1018,
          "Valid": "Y",
          "index": 1
         },
         {
          "QDate_QTime": "2019-08-19T07:52:50",
          "Queue No": 1019,
          "Valid": "Y",
          "index": 0
         },
         {
          "QDate_QTime": "2019-08-19T07:54:20",
          "Queue No": 1020,
          "Valid": "Y",
          "index": 0
         },
         {
          "QDate_QTime": "2019-08-19T08:48:54",
          "Queue No": 1020,
          "Valid": "Y",
          "index": 1
         },
         {
          "QDate_QTime": "2019-08-19T07:55:52",
          "Queue No": 1021,
          "Valid": "Y",
          "index": 0
         },
         {
          "QDate_QTime": "2019-08-19T07:56:00",
          "Queue No": 1022,
          "Valid": "Y",
          "index": 0
         },
         {
          "QDate_QTime": "2019-08-19T07:57:40",
          "Queue No": 1023,
          "Valid": "Y",
          "index": 0
         },
         {
          "QDate_QTime": "2019-08-19T07:59:04",
          "Queue No": 1024,
          "Valid": "Y",
          "index": 0
         },
         {
          "QDate_QTime": "2019-08-19T09:18:44",
          "Queue No": 1024,
          "Valid": "Y",
          "index": 1
         },
         {
          "QDate_QTime": "2019-08-19T08:01:38",
          "Queue No": 1025,
          "Valid": "Y",
          "index": 0
         },
         {
          "QDate_QTime": "2019-08-19T08:52:52",
          "Queue No": 1025,
          "Valid": "Y",
          "index": 1
         },
         {
          "QDate_QTime": "2019-08-19T09:29:06",
          "Queue No": 1025,
          "Valid": "N",
          "index": 2
         },
         {
          "QDate_QTime": "2019-08-19T08:02:46",
          "Queue No": 1026,
          "Valid": "Y",
          "index": 0
         },
         {
          "QDate_QTime": "2019-08-19T08:58:26",
          "Queue No": 1026,
          "Valid": "Y",
          "index": 1
         },
         {
          "QDate_QTime": "2019-08-19T08:07:12",
          "Queue No": 1027,
          "Valid": "Y",
          "index": 0
         },
         {
          "QDate_QTime": "2019-08-19T09:28:18",
          "Queue No": 1027,
          "Valid": "Y",
          "index": 1
         },
         {
          "QDate_QTime": "2019-08-19T08:07:49",
          "Queue No": 1028,
          "Valid": "Y",
          "index": 0
         },
         {
          "QDate_QTime": "2019-08-19T09:06:15",
          "Queue No": 1028,
          "Valid": "Y",
          "index": 1
         },
         {
          "QDate_QTime": "2019-08-19T08:10:01",
          "Queue No": 1029,
          "Valid": "Y",
          "index": 0
         },
         {
          "QDate_QTime": "2019-08-19T08:12:39",
          "Queue No": 1030,
          "Valid": "N",
          "index": 0
         },
         {
          "QDate_QTime": "2019-08-19T08:16:46",
          "Queue No": 1031,
          "Valid": "Y",
          "index": 0
         },
         {
          "QDate_QTime": "2019-08-19T08:18:34",
          "Queue No": 1032,
          "Valid": "Y",
          "index": 0
         },
         {
          "QDate_QTime": "2019-08-19T09:11:17",
          "Queue No": 1032,
          "Valid": "Y",
          "index": 1
         },
         {
          "QDate_QTime": "2019-08-19T09:17:00",
          "Queue No": 1032,
          "Valid": "Y",
          "index": 2
         },
         {
          "QDate_QTime": "2019-08-19T08:20:23",
          "Queue No": 1033,
          "Valid": "Y",
          "index": 0
         },
         {
          "QDate_QTime": "2019-08-19T08:27:07",
          "Queue No": 1034,
          "Valid": "Y",
          "index": 0
         },
         {
          "QDate_QTime": "2019-08-19T09:22:40",
          "Queue No": 1034,
          "Valid": "Y",
          "index": 1
         },
         {
          "QDate_QTime": "2019-08-19T08:28:54",
          "Queue No": 1035,
          "Valid": "Y",
          "index": 0
         },
         {
          "QDate_QTime": "2019-08-19T09:24:18",
          "Queue No": 1035,
          "Valid": "N",
          "index": 1
         },
         {
          "QDate_QTime": "2019-08-19T09:24:24",
          "Queue No": 1035,
          "Valid": "Y",
          "index": 2
         },
         {
          "QDate_QTime": "2019-08-19T09:28:50",
          "Queue No": 1035,
          "Valid": "Y",
          "index": 3
         },
         {
          "QDate_QTime": "2019-08-19T08:31:26",
          "Queue No": 1036,
          "Valid": "Y",
          "index": 0
         },
         {
          "QDate_QTime": "2019-08-19T10:07:03",
          "Queue No": 1036,
          "Valid": "Y",
          "index": 1
         },
         {
          "QDate_QTime": "2019-08-19T08:31:37",
          "Queue No": 1037,
          "Valid": "Y",
          "index": 0
         },
         {
          "QDate_QTime": "2019-08-19T09:36:17",
          "Queue No": 1037,
          "Valid": "Y",
          "index": 1
         },
         {
          "QDate_QTime": "2019-08-19T08:33:33",
          "Queue No": 1038,
          "Valid": "Y",
          "index": 0
         },
         {
          "QDate_QTime": "2019-08-19T10:26:21",
          "Queue No": 1038,
          "Valid": "Y",
          "index": 1
         },
         {
          "QDate_QTime": "2019-08-19T08:35:43",
          "Queue No": 1039,
          "Valid": "Y",
          "index": 0
         },
         {
          "QDate_QTime": "2019-08-19T08:39:11",
          "Queue No": 1040,
          "Valid": "Y",
          "index": 0
         },
         {
          "QDate_QTime": "2019-08-19T08:40:32",
          "Queue No": 1041,
          "Valid": "Y",
          "index": 0
         },
         {
          "QDate_QTime": "2019-08-19T09:45:47",
          "Queue No": 1041,
          "Valid": "Y",
          "index": 1
         },
         {
          "QDate_QTime": "2019-08-19T08:41:37",
          "Queue No": 1042,
          "Valid": "N",
          "index": 0
         },
         {
          "QDate_QTime": "2019-08-19T08:50:14",
          "Queue No": 1043,
          "Valid": "Y",
          "index": 0
         },
         {
          "QDate_QTime": "2019-08-19T09:57:47",
          "Queue No": 1043,
          "Valid": "Y",
          "index": 1
         },
         {
          "QDate_QTime": "2019-08-19T08:50:53",
          "Queue No": 1044,
          "Valid": "N",
          "index": 0
         },
         {
          "QDate_QTime": "2019-08-19T08:56:23",
          "Queue No": 1045,
          "Valid": "Y",
          "index": 0
         },
         {
          "QDate_QTime": "2019-08-19T09:05:10",
          "Queue No": 1046,
          "Valid": "Y",
          "index": 0
         },
         {
          "QDate_QTime": "2019-08-19T09:05:22",
          "Queue No": 1047,
          "Valid": "N",
          "index": 0
         },
         {
          "QDate_QTime": "2019-08-19T09:05:52",
          "Queue No": 1048,
          "Valid": "Y",
          "index": 0
         },
         {
          "QDate_QTime": "2019-08-19T09:06:05",
          "Queue No": 1049,
          "Valid": "Y",
          "index": 0
         },
         {
          "QDate_QTime": "2019-08-19T09:06:32",
          "Queue No": 1050,
          "Valid": "Y",
          "index": 0
         },
         {
          "QDate_QTime": "2019-08-19T10:00:45",
          "Queue No": 1050,
          "Valid": "Y",
          "index": 1
         },
         {
          "QDate_QTime": "2019-08-19T10:06:46",
          "Queue No": 1050,
          "Valid": "Y",
          "index": 2
         },
         {
          "QDate_QTime": "2019-08-19T09:07:31",
          "Queue No": 1051,
          "Valid": "Y",
          "index": 0
         },
         {
          "QDate_QTime": "2019-08-19T10:43:38",
          "Queue No": 1051,
          "Valid": "Y",
          "index": 1
         },
         {
          "QDate_QTime": "2019-08-19T09:09:50",
          "Queue No": 1052,
          "Valid": "Y",
          "index": 0
         },
         {
          "QDate_QTime": "2019-08-19T09:10:41",
          "Queue No": 1053,
          "Valid": "Y",
          "index": 0
         },
         {
          "QDate_QTime": "2019-08-19T10:08:32",
          "Queue No": 1053,
          "Valid": "N",
          "index": 1
         },
         {
          "QDate_QTime": "2019-08-19T10:08:43",
          "Queue No": 1053,
          "Valid": "Y",
          "index": 2
         },
         {
          "QDate_QTime": "2019-08-19T10:14:19",
          "Queue No": 1053,
          "Valid": "Y",
          "index": 3
         },
         {
          "QDate_QTime": "2019-08-19T09:15:29",
          "Queue No": 1054,
          "Valid": "Y",
          "index": 0
         },
         {
          "QDate_QTime": "2019-08-19T09:23:26",
          "Queue No": 1055,
          "Valid": "Y",
          "index": 0
         },
         {
          "QDate_QTime": "2019-08-19T10:14:57",
          "Queue No": 1055,
          "Valid": "Y",
          "index": 1
         },
         {
          "QDate_QTime": "2019-08-19T10:20:09",
          "Queue No": 1055,
          "Valid": "Y",
          "index": 2
         },
         {
          "QDate_QTime": "2019-08-19T09:27:41",
          "Queue No": 1056,
          "Valid": "Y",
          "index": 0
         },
         {
          "QDate_QTime": "2019-08-19T10:29:03",
          "Queue No": 1056,
          "Valid": "Y",
          "index": 1
         },
         {
          "QDate_QTime": "2019-08-19T09:37:32",
          "Queue No": 1057,
          "Valid": "Y",
          "index": 0
         },
         {
          "QDate_QTime": "2019-08-19T09:38:20",
          "Queue No": 1058,
          "Valid": "N",
          "index": 0
         },
         {
          "QDate_QTime": "2019-08-19T09:39:56",
          "Queue No": 1059,
          "Valid": "Y",
          "index": 0
         },
         {
          "QDate_QTime": "2019-08-19T10:33:42",
          "Queue No": 1059,
          "Valid": "Y",
          "index": 1
         },
         {
          "QDate_QTime": "2019-08-19T09:44:59",
          "Queue No": 1060,
          "Valid": "Y",
          "index": 0
         },
         {
          "QDate_QTime": "2019-08-19T09:46:41",
          "Queue No": 1061,
          "Valid": "Y",
          "index": 0
         },
         {
          "QDate_QTime": "2019-08-19T10:01:01",
          "Queue No": 1062,
          "Valid": "Y",
          "index": 0
         },
         {
          "QDate_QTime": "2019-08-19T10:34:58",
          "Queue No": 1062,
          "Valid": "Y",
          "index": 1
         },
         {
          "QDate_QTime": "2019-08-19T10:42:11",
          "Queue No": 1062,
          "Valid": "Y",
          "index": 2
         },
         {
          "QDate_QTime": "2019-08-19T10:01:21",
          "Queue No": 1063,
          "Valid": "Y",
          "index": 0
         },
         {
          "QDate_QTime": "2019-08-19T10:42:45",
          "Queue No": 1063,
          "Valid": "Y",
          "index": 1
         },
         {
          "QDate_QTime": "2019-08-19T10:53:16",
          "Queue No": 1063,
          "Valid": "Y",
          "index": 2
         },
         {
          "QDate_QTime": "2019-08-19T11:31:20",
          "Queue No": 1063,
          "Valid": "Y",
          "index": 3
         },
         {
          "QDate_QTime": "2019-08-19T10:08:21",
          "Queue No": 1064,
          "Valid": "Y",
          "index": 0
         },
         {
          "QDate_QTime": "2019-08-19T11:03:03",
          "Queue No": 1064,
          "Valid": "Y",
          "index": 1
         },
         {
          "QDate_QTime": "2019-08-19T10:13:48",
          "Queue No": 1065,
          "Valid": "Y",
          "index": 0
         },
         {
          "QDate_QTime": "2019-08-19T10:27:20",
          "Queue No": 1066,
          "Valid": "Y",
          "index": 0
         },
         {
          "QDate_QTime": "2019-08-19T10:34:12",
          "Queue No": 1067,
          "Valid": "Y",
          "index": 0
         },
         {
          "QDate_QTime": "2019-08-19T11:01:22",
          "Queue No": 1068,
          "Valid": "Y",
          "index": 0
         },
         {
          "QDate_QTime": "2019-08-19T11:09:47",
          "Queue No": 1068,
          "Valid": "Y",
          "index": 1
         },
         {
          "QDate_QTime": "2019-08-19T14:04:11",
          "Queue No": 1069,
          "Valid": "N",
          "index": 0
         },
         {
          "QDate_QTime": "2019-08-20T07:24:48",
          "Queue No": 1001,
          "Valid": "Y",
          "index": 0
         },
         {
          "QDate_QTime": "2019-08-20T07:59:40",
          "Queue No": 1001,
          "Valid": "Y",
          "index": 1
         },
         {
          "QDate_QTime": "2019-08-20T07:28:50",
          "Queue No": 1002,
          "Valid": "Y",
          "index": 0
         },
         {
          "QDate_QTime": "2019-08-20T07:30:57",
          "Queue No": 1003,
          "Valid": "Y",
          "index": 0
         },
         {
          "QDate_QTime": "2019-08-20T08:00:54",
          "Queue No": 1003,
          "Valid": "Y",
          "index": 1
         },
         {
          "QDate_QTime": "2019-08-20T08:06:34",
          "Queue No": 1003,
          "Valid": "Y",
          "index": 2
         },
         {
          "QDate_QTime": "2019-08-20T07:36:15",
          "Queue No": 1004,
          "Valid": "Y",
          "index": 0
         },
         {
          "QDate_QTime": "2019-08-20T07:37:06",
          "Queue No": 1005,
          "Valid": "Y",
          "index": 0
         },
         {
          "QDate_QTime": "2019-08-20T07:50:52",
          "Queue No": 1006,
          "Valid": "Y",
          "index": 0
         },
         {
          "QDate_QTime": "2019-08-20T08:23:50",
          "Queue No": 1006,
          "Valid": "Y",
          "index": 1
         },
         {
          "QDate_QTime": "2019-08-20T08:39:35",
          "Queue No": 1006,
          "Valid": "Y",
          "index": 2
         },
         {
          "QDate_QTime": "2019-08-20T07:56:48",
          "Queue No": 1007,
          "Valid": "Y",
          "index": 0
         },
         {
          "QDate_QTime": "2019-08-20T08:07:03",
          "Queue No": 1008,
          "Valid": "Y",
          "index": 0
         },
         {
          "QDate_QTime": "2019-08-20T08:15:48",
          "Queue No": 1008,
          "Valid": "Y",
          "index": 1
         },
         {
          "QDate_QTime": "2019-08-20T08:51:55",
          "Queue No": 1008,
          "Valid": "Y",
          "index": 2
         },
         {
          "QDate_QTime": "2019-08-20T09:00:01",
          "Queue No": 1008,
          "Valid": "Y",
          "index": 3
         },
         {
          "QDate_QTime": "2019-08-20T08:17:59",
          "Queue No": 1009,
          "Valid": "Y",
          "index": 0
         },
         {
          "QDate_QTime": "2019-08-20T08:19:48",
          "Queue No": 1010,
          "Valid": "Y",
          "index": 0
         },
         {
          "QDate_QTime": "2019-08-20T08:23:25",
          "Queue No": 1011,
          "Valid": "Y",
          "index": 0
         },
         {
          "QDate_QTime": "2019-08-20T08:30:07",
          "Queue No": 1011,
          "Valid": "Y",
          "index": 1
         },
         {
          "QDate_QTime": "2019-08-20T08:44:32",
          "Queue No": 1011,
          "Valid": "Y",
          "index": 2
         },
         {
          "QDate_QTime": "2019-08-20T08:27:20",
          "Queue No": 1012,
          "Valid": "Y",
          "index": 0
         },
         {
          "QDate_QTime": "2019-08-20T08:37:07",
          "Queue No": 1012,
          "Valid": "Y",
          "index": 1
         },
         {
          "QDate_QTime": "2019-08-20T08:38:18",
          "Queue No": 1013,
          "Valid": "Y",
          "index": 0
         },
         {
          "QDate_QTime": "2019-08-20T08:40:21",
          "Queue No": 1014,
          "Valid": "Y",
          "index": 0
         },
         {
          "QDate_QTime": "2019-08-20T08:49:28",
          "Queue No": 1014,
          "Valid": "Y",
          "index": 1
         },
         {
          "QDate_QTime": "2019-08-20T08:46:54",
          "Queue No": 1015,
          "Valid": "Y",
          "index": 0
         },
         {
          "QDate_QTime": "2019-08-20T09:03:26",
          "Queue No": 1015,
          "Valid": "Y",
          "index": 1
         },
         {
          "QDate_QTime": "2019-08-20T08:48:35",
          "Queue No": 1016,
          "Valid": "Y",
          "index": 0
         },
         {
          "QDate_QTime": "2019-08-20T09:04:57",
          "Queue No": 1016,
          "Valid": "N",
          "index": 1
         },
         {
          "QDate_QTime": "2019-08-20T09:05:02",
          "Queue No": 1016,
          "Valid": "Y",
          "index": 2
         },
         {
          "QDate_QTime": "2019-08-20T09:10:58",
          "Queue No": 1016,
          "Valid": "Y",
          "index": 3
         },
         {
          "QDate_QTime": "2019-08-20T09:20:19",
          "Queue No": 1016,
          "Valid": "N",
          "index": 4
         },
         {
          "QDate_QTime": "2019-08-20T09:20:32",
          "Queue No": 1016,
          "Valid": "N",
          "index": 5
         },
         {
          "QDate_QTime": "2019-08-20T09:20:39",
          "Queue No": 1016,
          "Valid": "Y",
          "index": 6
         },
         {
          "QDate_QTime": "2019-08-20T08:53:38",
          "Queue No": 1017,
          "Valid": "Y",
          "index": 0
         },
         {
          "QDate_QTime": "2019-08-20T08:59:56",
          "Queue No": 1018,
          "Valid": "Y",
          "index": 0
         },
         {
          "QDate_QTime": "2019-08-20T09:04:39",
          "Queue No": 1019,
          "Valid": "Y",
          "index": 0
         },
         {
          "QDate_QTime": "2019-08-20T09:17:27",
          "Queue No": 1019,
          "Valid": "Y",
          "index": 1
         },
         {
          "QDate_QTime": "2019-08-20T09:08:46",
          "Queue No": 1020,
          "Valid": "Y",
          "index": 0
         },
         {
          "QDate_QTime": "2019-08-20T09:18:37",
          "Queue No": 1020,
          "Valid": "Y",
          "index": 1
         },
         {
          "QDate_QTime": "2019-08-20T09:27:53",
          "Queue No": 1020,
          "Valid": "Y",
          "index": 2
         },
         {
          "QDate_QTime": "2019-08-20T09:14:05",
          "Queue No": 1021,
          "Valid": "Y",
          "index": 0
         },
         {
          "QDate_QTime": "2019-08-20T09:27:17",
          "Queue No": 1022,
          "Valid": "Y",
          "index": 0
         },
         {
          "QDate_QTime": "2019-08-20T09:32:27",
          "Queue No": 1022,
          "Valid": "N",
          "index": 1
         },
         {
          "QDate_QTime": "2019-08-20T09:28:34",
          "Queue No": 1023,
          "Valid": "Y",
          "index": 0
         },
         {
          "QDate_QTime": "2019-08-20T09:40:56",
          "Queue No": 1023,
          "Valid": "Y",
          "index": 1
         },
         {
          "QDate_QTime": "2019-08-20T09:31:03",
          "Queue No": 1024,
          "Valid": "Y",
          "index": 0
         },
         {
          "QDate_QTime": "2019-08-20T09:36:52",
          "Queue No": 1025,
          "Valid": "Y",
          "index": 0
         },
         {
          "QDate_QTime": "2019-08-20T09:44:06",
          "Queue No": 1025,
          "Valid": "Y",
          "index": 1
         },
         {
          "QDate_QTime": "2019-08-20T09:45:40",
          "Queue No": 1026,
          "Valid": "Y",
          "index": 0
         },
         {
          "QDate_QTime": "2019-08-20T09:51:03",
          "Queue No": 1026,
          "Valid": "Y",
          "index": 1
         },
         {
          "QDate_QTime": "2019-08-20T09:53:32",
          "Queue No": 1027,
          "Valid": "Y",
          "index": 0
         },
         {
          "QDate_QTime": "2019-08-20T09:55:47",
          "Queue No": 1028,
          "Valid": "Y",
          "index": 0
         },
         {
          "QDate_QTime": "2019-08-20T09:57:28",
          "Queue No": 1029,
          "Valid": "Y",
          "index": 0
         },
         {
          "QDate_QTime": "2019-08-20T10:07:34",
          "Queue No": 1029,
          "Valid": "Y",
          "index": 1
         },
         {
          "QDate_QTime": "2019-08-20T10:01:36",
          "Queue No": 1030,
          "Valid": "N",
          "index": 0
         },
         {
          "QDate_QTime": "2019-08-20T10:14:47",
          "Queue No": 1031,
          "Valid": "Y",
          "index": 0
         },
         {
          "QDate_QTime": "2019-08-20T10:20:02",
          "Queue No": 1031,
          "Valid": "Y",
          "index": 1
         },
         {
          "QDate_QTime": "2019-08-20T13:37:34",
          "Queue No": 1032,
          "Valid": "N",
          "index": 0
         },
         {
          "QDate_QTime": "2019-08-20T10:54:24",
          "Queue No": 8888,
          "Valid": "N",
          "index": 0
         },
         {
          "QDate_QTime": "2019-08-21T07:24:32",
          "Queue No": 1001,
          "Valid": "Y",
          "index": 0
         },
         {
          "QDate_QTime": "2019-08-21T07:24:41",
          "Queue No": 1002,
          "Valid": "Y",
          "index": 0
         },
         {
          "QDate_QTime": "2019-08-21T07:59:18",
          "Queue No": 1002,
          "Valid": "Y",
          "index": 1
         },
         {
          "QDate_QTime": "2019-08-21T08:08:11",
          "Queue No": 1002,
          "Valid": "Y",
          "index": 2
         },
         {
          "QDate_QTime": "2019-08-21T08:13:40",
          "Queue No": 1002,
          "Valid": "Y",
          "index": 3
         },
         {
          "QDate_QTime": "2019-08-21T07:24:56",
          "Queue No": 1003,
          "Valid": "Y",
          "index": 0
         },
         {
          "QDate_QTime": "2019-08-21T08:06:43",
          "Queue No": 1003,
          "Valid": "Y",
          "index": 1
         },
         {
          "QDate_QTime": "2019-08-21T07:28:24",
          "Queue No": 1004,
          "Valid": "Y",
          "index": 0
         },
         {
          "QDate_QTime": "2019-08-21T07:30:31",
          "Queue No": 1005,
          "Valid": "Y",
          "index": 0
         },
         {
          "QDate_QTime": "2019-08-21T08:17:57",
          "Queue No": 1005,
          "Valid": "Y",
          "index": 1
         },
         {
          "QDate_QTime": "2019-08-21T07:36:18",
          "Queue No": 1006,
          "Valid": "Y",
          "index": 0
         },
         {
          "QDate_QTime": "2019-08-21T07:40:35",
          "Queue No": 1007,
          "Valid": "Y",
          "index": 0
         },
         {
          "QDate_QTime": "2019-08-21T08:18:40",
          "Queue No": 1007,
          "Valid": "Y",
          "index": 1
         },
         {
          "QDate_QTime": "2019-08-21T08:24:01",
          "Queue No": 1007,
          "Valid": "Y",
          "index": 2
         },
         {
          "QDate_QTime": "2019-08-21T07:44:34",
          "Queue No": 1008,
          "Valid": "Y",
          "index": 0
         },
         {
          "QDate_QTime": "2019-08-21T08:31:57",
          "Queue No": 1008,
          "Valid": "Y",
          "index": 1
         },
         {
          "QDate_QTime": "2019-08-21T07:52:07",
          "Queue No": 1009,
          "Valid": "Y",
          "index": 0
         },
         {
          "QDate_QTime": "2019-08-21T07:53:55",
          "Queue No": 1010,
          "Valid": "Y",
          "index": 0
         },
         {
          "QDate_QTime": "2019-08-21T08:05:35",
          "Queue No": 1011,
          "Valid": "Y",
          "index": 0
         },
         {
          "QDate_QTime": "2019-08-21T08:42:06",
          "Queue No": 1011,
          "Valid": "Y",
          "index": 1
         },
         {
          "QDate_QTime": "2019-08-21T08:05:59",
          "Queue No": 1012,
          "Valid": "Y",
          "index": 0
         },
         {
          "QDate_QTime": "2019-08-21T08:14:04",
          "Queue No": 1013,
          "Valid": "Y",
          "index": 0
         },
         {
          "QDate_QTime": "2019-08-21T08:19:04",
          "Queue No": 1014,
          "Valid": "Y",
          "index": 0
         },
         {
          "QDate_QTime": "2019-08-21T08:48:14",
          "Queue No": 1014,
          "Valid": "Y",
          "index": 1
         },
         {
          "QDate_QTime": "2019-08-21T09:38:54",
          "Queue No": 1014,
          "Valid": "Y",
          "index": 2
         },
         {
          "QDate_QTime": "2019-08-21T08:21:40",
          "Queue No": 1015,
          "Valid": "Y",
          "index": 0
         },
         {
          "QDate_QTime": "2019-08-21T08:26:13",
          "Queue No": 1016,
          "Valid": "Y",
          "index": 0
         },
         {
          "QDate_QTime": "2019-08-21T08:55:14",
          "Queue No": 1016,
          "Valid": "Y",
          "index": 1
         },
         {
          "QDate_QTime": "2019-08-21T08:56:45",
          "Queue No": 1016,
          "Valid": "N",
          "index": 2
         },
         {
          "QDate_QTime": "2019-08-21T08:31:08",
          "Queue No": 1017,
          "Valid": "Y",
          "index": 0
         },
         {
          "QDate_QTime": "2019-08-21T08:38:06",
          "Queue No": 1018,
          "Valid": "Y",
          "index": 0
         },
         {
          "QDate_QTime": "2019-08-21T09:01:40",
          "Queue No": 1019,
          "Valid": "Y",
          "index": 0
         },
         {
          "QDate_QTime": "2019-08-21T09:10:45",
          "Queue No": 1019,
          "Valid": "Y",
          "index": 1
         },
         {
          "QDate_QTime": "2019-08-21T09:07:13",
          "Queue No": 1020,
          "Valid": "Y",
          "index": 0
         },
         {
          "QDate_QTime": "2019-08-21T09:29:08",
          "Queue No": 1021,
          "Valid": "Y",
          "index": 0
         },
         {
          "QDate_QTime": "2019-08-21T09:32:59",
          "Queue No": 1021,
          "Valid": "Y",
          "index": 1
         },
         {
          "QDate_QTime": "2019-08-21T09:39:48",
          "Queue No": 1021,
          "Valid": "Y",
          "index": 2
         },
         {
          "QDate_QTime": "2019-08-21T09:34:45",
          "Queue No": 1022,
          "Valid": "Y",
          "index": 0
         },
         {
          "QDate_QTime": "2019-08-21T09:50:18",
          "Queue No": 1022,
          "Valid": "Y",
          "index": 1
         },
         {
          "QDate_QTime": "2019-08-21T09:48:33",
          "Queue No": 1023,
          "Valid": "Y",
          "index": 0
         },
         {
          "QDate_QTime": "2019-08-21T09:57:02",
          "Queue No": 1023,
          "Valid": "Y",
          "index": 1
         },
         {
          "QDate_QTime": "2019-08-21T09:54:15",
          "Queue No": 1024,
          "Valid": "Y",
          "index": 0
         },
         {
          "QDate_QTime": "2019-08-21T10:10:09",
          "Queue No": 1024,
          "Valid": "Y",
          "index": 1
         },
         {
          "QDate_QTime": "2019-08-21T10:30:15",
          "Queue No": 1025,
          "Valid": "Y",
          "index": 0
         },
         {
          "QDate_QTime": "2019-08-21T10:44:27",
          "Queue No": 1026,
          "Valid": "Y",
          "index": 0
         },
         {
          "QDate_QTime": "2019-08-21T10:54:38",
          "Queue No": 1026,
          "Valid": "Y",
          "index": 1
         },
         {
          "QDate_QTime": "2019-08-21T11:16:56",
          "Queue No": 1027,
          "Valid": "Y",
          "index": 0
         },
         {
          "QDate_QTime": "2019-08-22T07:24:35",
          "Queue No": 1001,
          "Valid": "Y",
          "index": 0
         },
         {
          "QDate_QTime": "2019-08-22T07:24:48",
          "Queue No": 1002,
          "Valid": "Y",
          "index": 0
         },
         {
          "QDate_QTime": "2019-08-22T08:00:57",
          "Queue No": 1002,
          "Valid": "Y",
          "index": 1
         },
         {
          "QDate_QTime": "2019-08-22T07:34:45",
          "Queue No": 1003,
          "Valid": "Y",
          "index": 0
         },
         {
          "QDate_QTime": "2019-08-22T07:57:57",
          "Queue No": 1004,
          "Valid": "Y",
          "index": 0
         },
         {
          "QDate_QTime": "2019-08-22T08:09:37",
          "Queue No": 1004,
          "Valid": "Y",
          "index": 1
         },
         {
          "QDate_QTime": "2019-08-22T08:02:25",
          "Queue No": 1005,
          "Valid": "Y",
          "index": 0
         },
         {
          "QDate_QTime": "2019-08-22T08:03:17",
          "Queue No": 1006,
          "Valid": "Y",
          "index": 0
         },
         {
          "QDate_QTime": "2019-08-22T08:19:39",
          "Queue No": 1006,
          "Valid": "Y",
          "index": 1
         },
         {
          "QDate_QTime": "2019-08-22T08:12:33",
          "Queue No": 1007,
          "Valid": "Y",
          "index": 0
         },
         {
          "QDate_QTime": "2019-08-22T08:17:47",
          "Queue No": 1008,
          "Valid": "Y",
          "index": 0
         },
         {
          "QDate_QTime": "2019-08-22T08:28:36",
          "Queue No": 1008,
          "Valid": "Y",
          "index": 1
         },
         {
          "QDate_QTime": "2019-08-22T08:20:16",
          "Queue No": 1009,
          "Valid": "Y",
          "index": 0
         },
         {
          "QDate_QTime": "2019-08-22T08:20:33",
          "Queue No": 1010,
          "Valid": "Y",
          "index": 0
         },
         {
          "QDate_QTime": "2019-08-22T08:29:55",
          "Queue No": 1010,
          "Valid": "Y",
          "index": 1
         },
         {
          "QDate_QTime": "2019-08-22T08:35:41",
          "Queue No": 1010,
          "Valid": "Y",
          "index": 2
         },
         {
          "QDate_QTime": "2019-08-22T08:25:23",
          "Queue No": 1011,
          "Valid": "Y",
          "index": 0
         },
         {
          "QDate_QTime": "2019-08-22T08:30:57",
          "Queue No": 1012,
          "Valid": "Y",
          "index": 0
         },
         {
          "QDate_QTime": "2019-08-22T09:01:10",
          "Queue No": 1012,
          "Valid": "Y",
          "index": 1
         },
         {
          "QDate_QTime": "2019-08-22T09:35:14",
          "Queue No": 1012,
          "Valid": "Y",
          "index": 2
         },
         {
          "QDate_QTime": "2019-08-22T09:41:01",
          "Queue No": 1012,
          "Valid": "Y",
          "index": 3
         },
         {
          "QDate_QTime": "2019-08-22T08:51:12",
          "Queue No": 1013,
          "Valid": "Y",
          "index": 0
         },
         {
          "QDate_QTime": "2019-08-22T08:52:40",
          "Queue No": 1014,
          "Valid": "Y",
          "index": 0
         },
         {
          "QDate_QTime": "2019-08-22T08:57:11",
          "Queue No": 1014,
          "Valid": "Y",
          "index": 1
         },
         {
          "QDate_QTime": "2019-08-22T09:03:50",
          "Queue No": 1015,
          "Valid": "Y",
          "index": 0
         },
         {
          "QDate_QTime": "2019-08-22T09:12:03",
          "Queue No": 1015,
          "Valid": "Y",
          "index": 1
         },
         {
          "QDate_QTime": "2019-08-22T09:07:16",
          "Queue No": 1016,
          "Valid": "Y",
          "index": 0
         },
         {
          "QDate_QTime": "2019-08-22T09:09:07",
          "Queue No": 1017,
          "Valid": "Y",
          "index": 0
         },
         {
          "QDate_QTime": "2019-08-22T09:17:54",
          "Queue No": 1017,
          "Valid": "Y",
          "index": 1
         },
         {
          "QDate_QTime": "2019-08-22T09:13:04",
          "Queue No": 1018,
          "Valid": "Y",
          "index": 0
         },
         {
          "QDate_QTime": "2019-08-22T09:13:13",
          "Queue No": 1019,
          "Valid": "Y",
          "index": 0
         },
         {
          "QDate_QTime": "2019-08-22T09:26:49",
          "Queue No": 1019,
          "Valid": "Y",
          "index": 1
         },
         {
          "QDate_QTime": "2019-08-22T09:15:22",
          "Queue No": 1020,
          "Valid": "Y",
          "index": 0
         },
         {
          "QDate_QTime": "2019-08-22T09:26:25",
          "Queue No": 1021,
          "Valid": "Y",
          "index": 0
         },
         {
          "QDate_QTime": "2019-08-22T09:27:59",
          "Queue No": 1021,
          "Valid": "Y",
          "index": 1
         },
         {
          "QDate_QTime": "2019-08-22T09:34:05",
          "Queue No": 1021,
          "Valid": "Y",
          "index": 2
         },
         {
          "QDate_QTime": "2019-08-22T09:28:02",
          "Queue No": 1022,
          "Valid": "Y",
          "index": 0
         },
         {
          "QDate_QTime": "2019-08-22T09:33:43",
          "Queue No": 1023,
          "Valid": "Y",
          "index": 0
         },
         {
          "QDate_QTime": "2019-08-22T09:37:32",
          "Queue No": 1024,
          "Valid": "Y",
          "index": 0
         },
         {
          "QDate_QTime": "2019-08-22T09:48:18",
          "Queue No": 1025,
          "Valid": "Y",
          "index": 0
         },
         {
          "QDate_QTime": "2019-08-22T09:52:44",
          "Queue No": 1025,
          "Valid": "N",
          "index": 1
         },
         {
          "QDate_QTime": "2019-08-22T09:52:55",
          "Queue No": 1025,
          "Valid": "Y",
          "index": 2
         },
         {
          "QDate_QTime": "2019-08-22T09:55:23",
          "Queue No": 1025,
          "Valid": "Y",
          "index": 3
         },
         {
          "QDate_QTime": "2019-08-22T10:01:15",
          "Queue No": 1026,
          "Valid": "Y",
          "index": 0
         },
         {
          "QDate_QTime": "2019-08-22T10:07:56",
          "Queue No": 1026,
          "Valid": "Y",
          "index": 1
         },
         {
          "QDate_QTime": "2019-08-22T10:12:43",
          "Queue No": 1026,
          "Valid": "Y",
          "index": 2
         },
         {
          "QDate_QTime": "2019-08-22T10:01:22",
          "Queue No": 1027,
          "Valid": "Y",
          "index": 0
         },
         {
          "QDate_QTime": "2019-08-22T10:05:01",
          "Queue No": 1028,
          "Valid": "Y",
          "index": 0
         },
         {
          "QDate_QTime": "2019-08-22T10:09:19",
          "Queue No": 1029,
          "Valid": "Y",
          "index": 0
         },
         {
          "QDate_QTime": "2019-08-22T10:29:16",
          "Queue No": 1029,
          "Valid": "Y",
          "index": 1
         },
         {
          "QDate_QTime": "2019-08-22T10:13:01",
          "Queue No": 1030,
          "Valid": "Y",
          "index": 0
         },
         {
          "QDate_QTime": "2019-08-22T10:29:22",
          "Queue No": 1030,
          "Valid": "Y",
          "index": 1
         },
         {
          "QDate_QTime": "2019-08-22T10:36:13",
          "Queue No": 1030,
          "Valid": "Y",
          "index": 2
         },
         {
          "QDate_QTime": "2019-08-22T14:03:20",
          "Queue No": 1031,
          "Valid": "N",
          "index": 0
         },
         {
          "QDate_QTime": "2019-08-22T08:08:44",
          "Queue No": 4001,
          "Valid": "N",
          "index": 0
         },
         {
          "QDate_QTime": "2019-08-23T07:25:43",
          "Queue No": 1001,
          "Valid": "Y",
          "index": 0
         },
         {
          "QDate_QTime": "2019-08-23T08:01:35",
          "Queue No": 1001,
          "Valid": "Y",
          "index": 1
         },
         {
          "QDate_QTime": "2019-08-23T07:25:50",
          "Queue No": 1002,
          "Valid": "Y",
          "index": 0
         },
         {
          "QDate_QTime": "2019-08-23T07:25:57",
          "Queue No": 1003,
          "Valid": "Y",
          "index": 0
         },
         {
          "QDate_QTime": "2019-08-23T07:26:06",
          "Queue No": 1004,
          "Valid": "Y",
          "index": 0
         },
         {
          "QDate_QTime": "2019-08-23T07:26:13",
          "Queue No": 1005,
          "Valid": "Y",
          "index": 0
         },
         {
          "QDate_QTime": "2019-08-23T08:07:26",
          "Queue No": 1005,
          "Valid": "Y",
          "index": 1
         },
         {
          "QDate_QTime": "2019-08-23T07:26:19",
          "Queue No": 1006,
          "Valid": "Y",
          "index": 0
         },
         {
          "QDate_QTime": "2019-08-23T07:26:26",
          "Queue No": 1007,
          "Valid": "Y",
          "index": 0
         },
         {
          "QDate_QTime": "2019-08-23T08:13:22",
          "Queue No": 1007,
          "Valid": "Y",
          "index": 1
         },
         {
          "QDate_QTime": "2019-08-23T08:37:13",
          "Queue No": 1007,
          "Valid": "Y",
          "index": 2
         },
         {
          "QDate_QTime": "2019-08-23T07:26:32",
          "Queue No": 1008,
          "Valid": "Y",
          "index": 0
         },
         {
          "QDate_QTime": "2019-08-23T08:18:01",
          "Queue No": 1008,
          "Valid": "Y",
          "index": 1
         },
         {
          "QDate_QTime": "2019-08-23T07:26:48",
          "Queue No": 1009,
          "Valid": "Y",
          "index": 0
         },
         {
          "QDate_QTime": "2019-08-23T07:26:54",
          "Queue No": 1010,
          "Valid": "Y",
          "index": 0
         },
         {
          "QDate_QTime": "2019-08-23T07:29:16",
          "Queue No": 1011,
          "Valid": "Y",
          "index": 0
         },
         {
          "QDate_QTime": "2019-08-23T08:23:01",
          "Queue No": 1011,
          "Valid": "Y",
          "index": 1
         },
         {
          "QDate_QTime": "2019-08-23T07:32:31",
          "Queue No": 1012,
          "Valid": "Y",
          "index": 0
         },
         {
          "QDate_QTime": "2019-08-23T07:34:03",
          "Queue No": 1013,
          "Valid": "Y",
          "index": 0
         },
         {
          "QDate_QTime": "2019-08-23T08:27:16",
          "Queue No": 1013,
          "Valid": "Y",
          "index": 1
         },
         {
          "QDate_QTime": "2019-08-23T08:52:43",
          "Queue No": 1013,
          "Valid": "Y",
          "index": 2
         },
         {
          "QDate_QTime": "2019-08-23T07:36:59",
          "Queue No": 1014,
          "Valid": "Y",
          "index": 0
         },
         {
          "QDate_QTime": "2019-08-23T07:39:11",
          "Queue No": 1015,
          "Valid": "Y",
          "index": 0
         },
         {
          "QDate_QTime": "2019-08-23T07:41:13",
          "Queue No": 1016,
          "Valid": "Y",
          "index": 0
         },
         {
          "QDate_QTime": "2019-08-23T08:31:39",
          "Queue No": 1016,
          "Valid": "Y",
          "index": 1
         },
         {
          "QDate_QTime": "2019-08-23T07:41:22",
          "Queue No": 1017,
          "Valid": "Y",
          "index": 0
         },
         {
          "QDate_QTime": "2019-08-23T07:47:37",
          "Queue No": 1018,
          "Valid": "Y",
          "index": 0
         },
         {
          "QDate_QTime": "2019-08-23T08:32:20",
          "Queue No": 1018,
          "Valid": "Y",
          "index": 1
         },
         {
          "QDate_QTime": "2019-08-23T08:38:16",
          "Queue No": 1018,
          "Valid": "Y",
          "index": 2
         },
         {
          "QDate_QTime": "2019-08-23T07:51:18",
          "Queue No": 1019,
          "Valid": "Y",
          "index": 0
         },
         {
          "QDate_QTime": "2019-08-23T07:52:05",
          "Queue No": 1020,
          "Valid": "Y",
          "index": 0
         },
         {
          "QDate_QTime": "2019-08-23T07:58:50",
          "Queue No": 1021,
          "Valid": "Y",
          "index": 0
         },
         {
          "QDate_QTime": "2019-08-23T08:38:36",
          "Queue No": 1021,
          "Valid": "N",
          "index": 1
         },
         {
          "QDate_QTime": "2019-08-23T08:38:44",
          "Queue No": 1021,
          "Valid": "Y",
          "index": 2
         },
         {
          "QDate_QTime": "2019-08-23T08:44:36",
          "Queue No": 1021,
          "Valid": "Y",
          "index": 3
         },
         {
          "QDate_QTime": "2019-08-23T07:59:16",
          "Queue No": 1022,
          "Valid": "Y",
          "index": 0
         },
         {
          "QDate_QTime": "2019-08-23T07:59:59",
          "Queue No": 1023,
          "Valid": "Y",
          "index": 0
         },
         {
          "QDate_QTime": "2019-08-23T08:45:19",
          "Queue No": 1023,
          "Valid": "N",
          "index": 1
         },
         {
          "QDate_QTime": "2019-08-23T08:45:25",
          "Queue No": 1023,
          "Valid": "Y",
          "index": 2
         },
         {
          "QDate_QTime": "2019-08-23T08:52:40",
          "Queue No": 1023,
          "Valid": "Y",
          "index": 3
         },
         {
          "QDate_QTime": "2019-08-23T08:01:15",
          "Queue No": 1024,
          "Valid": "Y",
          "index": 0
         },
         {
          "QDate_QTime": "2019-08-23T09:11:40",
          "Queue No": 1024,
          "Valid": "Y",
          "index": 1
         },
         {
          "QDate_QTime": "2019-08-23T08:01:49",
          "Queue No": 1025,
          "Valid": "Y",
          "index": 0
         },
         {
          "QDate_QTime": "2019-08-23T08:10:15",
          "Queue No": 1026,
          "Valid": "Y",
          "index": 0
         },
         {
          "QDate_QTime": "2019-08-23T09:16:50",
          "Queue No": 1026,
          "Valid": "Y",
          "index": 1
         },
         {
          "QDate_QTime": "2019-08-23T08:11:08",
          "Queue No": 1027,
          "Valid": "Y",
          "index": 0
         },
         {
          "QDate_QTime": "2019-08-23T08:11:48",
          "Queue No": 1028,
          "Valid": "Y",
          "index": 0
         },
         {
          "QDate_QTime": "2019-08-23T08:51:21",
          "Queue No": 1028,
          "Valid": "N",
          "index": 1
         },
         {
          "QDate_QTime": "2019-08-23T08:51:44",
          "Queue No": 1028,
          "Valid": "Y",
          "index": 2
         },
         {
          "QDate_QTime": "2019-08-23T08:52:46",
          "Queue No": 1028,
          "Valid": "Y",
          "index": 3
         },
         {
          "QDate_QTime": "2019-08-23T08:57:24",
          "Queue No": 1028,
          "Valid": "Y",
          "index": 4
         },
         {
          "QDate_QTime": "2019-08-23T08:13:53",
          "Queue No": 1029,
          "Valid": "Y",
          "index": 0
         },
         {
          "QDate_QTime": "2019-08-23T08:16:26",
          "Queue No": 1030,
          "Valid": "Y",
          "index": 0
         },
         {
          "QDate_QTime": "2019-08-23T09:04:01",
          "Queue No": 1030,
          "Valid": "Y",
          "index": 1
         },
         {
          "QDate_QTime": "2019-08-23T08:18:57",
          "Queue No": 1031,
          "Valid": "Y",
          "index": 0
         },
         {
          "QDate_QTime": "2019-08-23T08:21:29",
          "Queue No": 1032,
          "Valid": "Y",
          "index": 0
         },
         {
          "QDate_QTime": "2019-08-23T08:24:10",
          "Queue No": 1033,
          "Valid": "Y",
          "index": 0
         },
         {
          "QDate_QTime": "2019-08-23T09:30:43",
          "Queue No": 1033,
          "Valid": "Y",
          "index": 1
         },
         {
          "QDate_QTime": "2019-08-23T08:29:58",
          "Queue No": 1034,
          "Valid": "Y",
          "index": 0
         },
         {
          "QDate_QTime": "2019-08-23T08:30:43",
          "Queue No": 1035,
          "Valid": "Y",
          "index": 0
         },
         {
          "QDate_QTime": "2019-08-23T09:04:40",
          "Queue No": 1035,
          "Valid": "Y",
          "index": 1
         },
         {
          "QDate_QTime": "2019-08-23T09:13:13",
          "Queue No": 1035,
          "Valid": "Y",
          "index": 2
         },
         {
          "QDate_QTime": "2019-08-23T08:33:02",
          "Queue No": 1036,
          "Valid": "Y",
          "index": 0
         },
         {
          "QDate_QTime": "2019-08-23T09:18:44",
          "Queue No": 1036,
          "Valid": "Y",
          "index": 1
         },
         {
          "QDate_QTime": "2019-08-23T08:38:08",
          "Queue No": 1037,
          "Valid": "Y",
          "index": 0
         },
         {
          "QDate_QTime": "2019-08-23T08:38:14",
          "Queue No": 1038,
          "Valid": "Y",
          "index": 0
         },
         {
          "QDate_QTime": "2019-08-23T09:22:34",
          "Queue No": 1038,
          "Valid": "Y",
          "index": 1
         },
         {
          "QDate_QTime": "2019-08-23T08:40:01",
          "Queue No": 1039,
          "Valid": "Y",
          "index": 0
         },
         {
          "QDate_QTime": "2019-08-23T09:44:37",
          "Queue No": 1039,
          "Valid": "Y",
          "index": 1
         },
         {
          "QDate_QTime": "2019-08-23T09:53:11",
          "Queue No": 1039,
          "Valid": "Y",
          "index": 2
         },
         {
          "QDate_QTime": "2019-08-23T08:42:35",
          "Queue No": 1040,
          "Valid": "Y",
          "index": 0
         },
         {
          "QDate_QTime": "2019-08-23T08:42:51",
          "Queue No": 1041,
          "Valid": "Y",
          "index": 0
         },
         {
          "QDate_QTime": "2019-08-23T08:45:29",
          "Queue No": 1042,
          "Valid": "Y",
          "index": 0
         },
         {
          "QDate_QTime": "2019-08-23T09:23:27",
          "Queue No": 1042,
          "Valid": "Y",
          "index": 1
         },
         {
          "QDate_QTime": "2019-08-23T09:26:06",
          "Queue No": 1042,
          "Valid": "N",
          "index": 2
         },
         {
          "QDate_QTime": "2019-08-23T09:26:37",
          "Queue No": 1042,
          "Valid": "Y",
          "index": 3
         },
         {
          "QDate_QTime": "2019-08-23T09:27:06",
          "Queue No": 1042,
          "Valid": "Y",
          "index": 4
         },
         {
          "QDate_QTime": "2019-08-23T09:32:19",
          "Queue No": 1042,
          "Valid": "Y",
          "index": 5
         },
         {
          "QDate_QTime": "2019-08-23T08:47:59",
          "Queue No": 1043,
          "Valid": "Y",
          "index": 0
         },
         {
          "QDate_QTime": "2019-08-23T08:48:36",
          "Queue No": 1044,
          "Valid": "Y",
          "index": 0
         },
         {
          "QDate_QTime": "2019-08-23T08:49:21",
          "Queue No": 1045,
          "Valid": "Y",
          "index": 0
         },
         {
          "QDate_QTime": "2019-08-23T08:59:21",
          "Queue No": 1046,
          "Valid": "Y",
          "index": 0
         },
         {
          "QDate_QTime": "2019-08-23T09:34:13",
          "Queue No": 1046,
          "Valid": "N",
          "index": 1
         },
         {
          "QDate_QTime": "2019-08-23T09:34:22",
          "Queue No": 1046,
          "Valid": "Y",
          "index": 2
         },
         {
          "QDate_QTime": "2019-08-23T09:40:01",
          "Queue No": 1046,
          "Valid": "Y",
          "index": 3
         },
         {
          "QDate_QTime": "2019-08-23T09:06:03",
          "Queue No": 1047,
          "Valid": "Y",
          "index": 0
         },
         {
          "QDate_QTime": "2019-08-23T10:06:21",
          "Queue No": 1047,
          "Valid": "Y",
          "index": 1
         },
         {
          "QDate_QTime": "2019-08-23T10:12:02",
          "Queue No": 1047,
          "Valid": "N",
          "index": 2
         },
         {
          "QDate_QTime": "2019-08-23T10:12:09",
          "Queue No": 1047,
          "Valid": "N",
          "index": 3
         },
         {
          "QDate_QTime": "2019-08-23T10:14:14",
          "Queue No": 1047,
          "Valid": "Y",
          "index": 4
         },
         {
          "QDate_QTime": "2019-08-23T10:15:01",
          "Queue No": 1047,
          "Valid": "N",
          "index": 5
         },
         {
          "QDate_QTime": "2019-08-23T10:25:43",
          "Queue No": 1047,
          "Valid": "Y",
          "index": 6
         },
         {
          "QDate_QTime": "2019-08-23T10:28:28",
          "Queue No": 1047,
          "Valid": "N",
          "index": 7
         },
         {
          "QDate_QTime": "2019-08-23T10:28:58",
          "Queue No": 1047,
          "Valid": "Y",
          "index": 8
         },
         {
          "QDate_QTime": "2019-08-23T10:33:29",
          "Queue No": 1047,
          "Valid": "Y",
          "index": 9
         },
         {
          "QDate_QTime": "2019-08-23T09:07:34",
          "Queue No": 1048,
          "Valid": "Y",
          "index": 0
         },
         {
          "QDate_QTime": "2019-08-23T09:08:55",
          "Queue No": 1049,
          "Valid": "Y",
          "index": 0
         },
         {
          "QDate_QTime": "2019-08-23T09:44:44",
          "Queue No": 1049,
          "Valid": "Y",
          "index": 1
         },
         {
          "QDate_QTime": "2019-08-23T09:09:40",
          "Queue No": 1050,
          "Valid": "Y",
          "index": 0
         },
         {
          "QDate_QTime": "2019-08-23T09:49:14",
          "Queue No": 1050,
          "Valid": "Y",
          "index": 1
         },
         {
          "QDate_QTime": "2019-08-23T09:10:49",
          "Queue No": 1051,
          "Valid": "Y",
          "index": 0
         },
         {
          "QDate_QTime": "2019-08-23T09:11:35",
          "Queue No": 1052,
          "Valid": "Y",
          "index": 0
         },
         {
          "QDate_QTime": "2019-08-23T09:57:00",
          "Queue No": 1052,
          "Valid": "Y",
          "index": 1
         },
         {
          "QDate_QTime": "2019-08-23T09:20:11",
          "Queue No": 1053,
          "Valid": "Y",
          "index": 0
         },
         {
          "QDate_QTime": "2019-08-23T09:21:10",
          "Queue No": 1054,
          "Valid": "Y",
          "index": 0
         },
         {
          "QDate_QTime": "2019-08-23T09:23:45",
          "Queue No": 1055,
          "Valid": "Y",
          "index": 0
         },
         {
          "QDate_QTime": "2019-08-23T09:25:10",
          "Queue No": 1056,
          "Valid": "Y",
          "index": 0
         },
         {
          "QDate_QTime": "2019-08-23T09:57:35",
          "Queue No": 1056,
          "Valid": "Y",
          "index": 1
         },
         {
          "QDate_QTime": "2019-08-23T10:01:25",
          "Queue No": 1056,
          "Valid": "Y",
          "index": 2
         },
         {
          "QDate_QTime": "2019-08-23T09:27:16",
          "Queue No": 1057,
          "Valid": "Y",
          "index": 0
         },
         {
          "QDate_QTime": "2019-08-23T10:02:36",
          "Queue No": 1057,
          "Valid": "Y",
          "index": 1
         },
         {
          "QDate_QTime": "2019-08-23T10:08:33",
          "Queue No": 1057,
          "Valid": "Y",
          "index": 2
         },
         {
          "QDate_QTime": "2019-08-23T09:27:52",
          "Queue No": 1058,
          "Valid": "Y",
          "index": 0
         },
         {
          "QDate_QTime": "2019-08-23T09:33:21",
          "Queue No": 1059,
          "Valid": "Y",
          "index": 0
         },
         {
          "QDate_QTime": "2019-08-23T10:15:24",
          "Queue No": 1059,
          "Valid": "Y",
          "index": 1
         },
         {
          "QDate_QTime": "2019-08-23T09:48:36",
          "Queue No": 1060,
          "Valid": "Y",
          "index": 0
         },
         {
          "QDate_QTime": "2019-08-23T09:50:34",
          "Queue No": 1061,
          "Valid": "Y",
          "index": 0
         },
         {
          "QDate_QTime": "2019-08-23T09:58:51",
          "Queue No": 1062,
          "Valid": "Y",
          "index": 0
         },
         {
          "QDate_QTime": "2019-08-23T10:20:12",
          "Queue No": 1062,
          "Valid": "Y",
          "index": 1
         },
         {
          "QDate_QTime": "2019-08-23T10:35:31",
          "Queue No": 1062,
          "Valid": "Y",
          "index": 2
         },
         {
          "QDate_QTime": "2019-08-23T10:02:03",
          "Queue No": 1063,
          "Valid": "Y",
          "index": 0
         },
         {
          "QDate_QTime": "2019-08-23T10:06:24",
          "Queue No": 1064,
          "Valid": "Y",
          "index": 0
         },
         {
          "QDate_QTime": "2019-08-23T10:19:35",
          "Queue No": 1065,
          "Valid": "Y",
          "index": 0
         },
         {
          "QDate_QTime": "2019-08-23T10:29:57",
          "Queue No": 1066,
          "Valid": "Y",
          "index": 0
         },
         {
          "QDate_QTime": "2019-08-23T10:38:18",
          "Queue No": 1066,
          "Valid": "Y",
          "index": 1
         },
         {
          "QDate_QTime": "2019-08-23T10:32:28",
          "Queue No": 1067,
          "Valid": "Y",
          "index": 0
         },
         {
          "QDate_QTime": "2019-08-23T10:44:00",
          "Queue No": 1067,
          "Valid": "Y",
          "index": 1
         },
         {
          "QDate_QTime": "2019-08-23T10:49:54",
          "Queue No": 1067,
          "Valid": "Y",
          "index": 2
         },
         {
          "QDate_QTime": "2019-08-23T10:38:07",
          "Queue No": 1068,
          "Valid": "Y",
          "index": 0
         },
         {
          "QDate_QTime": "2019-08-23T10:41:02",
          "Queue No": 1069,
          "Valid": "Y",
          "index": 0
         },
         {
          "QDate_QTime": "2019-08-23T10:55:55",
          "Queue No": 1069,
          "Valid": "Y",
          "index": 1
         },
         {
          "QDate_QTime": "2019-08-23T11:13:43",
          "Queue No": 1069,
          "Valid": "Y",
          "index": 2
         },
         {
          "QDate_QTime": "2019-08-23T10:48:50",
          "Queue No": 1070,
          "Valid": "Y",
          "index": 0
         },
         {
          "QDate_QTime": "2019-08-23T12:15:20",
          "Queue No": 8888,
          "Valid": "N",
          "index": 0
         },
         {
          "QDate_QTime": "2019-08-24T07:36:10",
          "Queue No": 1001,
          "Valid": "Y",
          "index": 0
         },
         {
          "QDate_QTime": "2019-08-24T08:01:06",
          "Queue No": 1001,
          "Valid": "Y",
          "index": 1
         },
         {
          "QDate_QTime": "2019-08-24T07:36:30",
          "Queue No": 1002,
          "Valid": "Y",
          "index": 0
         },
         {
          "QDate_QTime": "2019-08-24T08:04:06",
          "Queue No": 1002,
          "Valid": "Y",
          "index": 1
         },
         {
          "QDate_QTime": "2019-08-24T07:44:41",
          "Queue No": 1003,
          "Valid": "Y",
          "index": 0
         },
         {
          "QDate_QTime": "2019-08-24T07:49:24",
          "Queue No": 1004,
          "Valid": "Y",
          "index": 0
         },
         {
          "QDate_QTime": "2019-08-24T08:08:48",
          "Queue No": 1004,
          "Valid": "Y",
          "index": 1
         },
         {
          "QDate_QTime": "2019-08-24T07:50:47",
          "Queue No": 1005,
          "Valid": "Y",
          "index": 0
         },
         {
          "QDate_QTime": "2019-08-24T08:20:43",
          "Queue No": 1005,
          "Valid": "Y",
          "index": 1
         },
         {
          "QDate_QTime": "2019-08-24T07:51:42",
          "Queue No": 1006,
          "Valid": "Y",
          "index": 0
         },
         {
          "QDate_QTime": "2019-08-24T08:32:02",
          "Queue No": 1006,
          "Valid": "Y",
          "index": 1
         },
         {
          "QDate_QTime": "2019-08-24T07:52:01",
          "Queue No": 1007,
          "Valid": "Y",
          "index": 0
         },
         {
          "QDate_QTime": "2019-08-24T07:57:41",
          "Queue No": 1008,
          "Valid": "Y",
          "index": 0
         },
         {
          "QDate_QTime": "2019-08-24T08:39:27",
          "Queue No": 1008,
          "Valid": "Y",
          "index": 1
         },
         {
          "QDate_QTime": "2019-08-24T07:59:14",
          "Queue No": 1009,
          "Valid": "Y",
          "index": 0
         },
         {
          "QDate_QTime": "2019-08-24T08:48:22",
          "Queue No": 1009,
          "Valid": "Y",
          "index": 1
         },
         {
          "QDate_QTime": "2019-08-24T08:04:29",
          "Queue No": 1010,
          "Valid": "Y",
          "index": 0
         },
         {
          "QDate_QTime": "2019-08-24T08:56:32",
          "Queue No": 1010,
          "Valid": "N",
          "index": 1
         },
         {
          "QDate_QTime": "2019-08-24T08:05:40",
          "Queue No": 1011,
          "Valid": "Y",
          "index": 0
         },
         {
          "QDate_QTime": "2019-08-24T08:57:21",
          "Queue No": 1011,
          "Valid": "Y",
          "index": 1
         },
         {
          "QDate_QTime": "2019-08-24T08:10:04",
          "Queue No": 1012,
          "Valid": "Y",
          "index": 0
         },
         {
          "QDate_QTime": "2019-08-24T09:09:14",
          "Queue No": 1012,
          "Valid": "Y",
          "index": 0
         },
         {
          "QDate_QTime": "2019-08-24T08:11:53",
          "Queue No": 1013,
          "Valid": "Y",
          "index": 0
         },
         {
          "QDate_QTime": "2019-08-24T09:09:27",
          "Queue No": 1013,
          "Valid": "N",
          "index": 1
         },
         {
          "QDate_QTime": "2019-08-24T09:09:32",
          "Queue No": 1013,
          "Valid": "Y",
          "index": 2
         },
         {
          "QDate_QTime": "2019-08-24T08:12:44",
          "Queue No": 1014,
          "Valid": "Y",
          "index": 0
         },
         {
          "QDate_QTime": "2019-08-24T08:25:30",
          "Queue No": 1015,
          "Valid": "Y",
          "index": 0
         },
         {
          "QDate_QTime": "2019-08-24T09:21:06",
          "Queue No": 1015,
          "Valid": "Y",
          "index": 1
         },
         {
          "QDate_QTime": "2019-08-24T08:31:18",
          "Queue No": 1016,
          "Valid": "Y",
          "index": 0
         },
         {
          "QDate_QTime": "2019-08-24T09:33:02",
          "Queue No": 1016,
          "Valid": "Y",
          "index": 1
         },
         {
          "QDate_QTime": "2019-08-24T08:39:13",
          "Queue No": 1017,
          "Valid": "Y",
          "index": 0
         },
         {
          "QDate_QTime": "2019-08-24T09:37:55",
          "Queue No": 1017,
          "Valid": "Y",
          "index": 1
         },
         {
          "QDate_QTime": "2019-08-24T09:38:04",
          "Queue No": 1017,
          "Valid": "Y",
          "index": 2
         },
         {
          "QDate_QTime": "2019-08-24T09:42:31",
          "Queue No": 1017,
          "Valid": "Y",
          "index": 3
         },
         {
          "QDate_QTime": "2019-08-24T08:44:49",
          "Queue No": 1018,
          "Valid": "Y",
          "index": 0
         },
         {
          "QDate_QTime": "2019-08-24T09:49:52",
          "Queue No": 1018,
          "Valid": "Y",
          "index": 1
         },
         {
          "QDate_QTime": "2019-08-24T10:21:36",
          "Queue No": 1018,
          "Valid": "Y",
          "index": 2
         },
         {
          "QDate_QTime": "2019-08-24T09:07:37",
          "Queue No": 1019,
          "Valid": "Y",
          "index": 0
         },
         {
          "QDate_QTime": "2019-08-24T09:16:45",
          "Queue No": 1020,
          "Valid": "Y",
          "index": 0
         },
         {
          "QDate_QTime": "2019-08-24T10:02:43",
          "Queue No": 1020,
          "Valid": "Y",
          "index": 1
         },
         {
          "QDate_QTime": "2019-08-24T09:19:35",
          "Queue No": 1021,
          "Valid": "Y",
          "index": 0
         },
         {
          "QDate_QTime": "2019-08-24T10:08:08",
          "Queue No": 1021,
          "Valid": "N",
          "index": 1
         },
         {
          "QDate_QTime": "2019-08-24T10:08:57",
          "Queue No": 1021,
          "Valid": "Y",
          "index": 2
         },
         {
          "QDate_QTime": "2019-08-24T09:23:51",
          "Queue No": 1022,
          "Valid": "Y",
          "index": 0
         },
         {
          "QDate_QTime": "2019-08-24T10:11:54",
          "Queue No": 1022,
          "Valid": "Y",
          "index": 1
         },
         {
          "QDate_QTime": "2019-08-24T10:13:01",
          "Queue No": 1022,
          "Valid": "Y",
          "index": 2
         },
         {
          "QDate_QTime": "2019-08-24T10:13:12",
          "Queue No": 1022,
          "Valid": "Y",
          "index": 3
         },
         {
          "QDate_QTime": "2019-08-24T09:44:10",
          "Queue No": 1023,
          "Valid": "Y",
          "index": 0
         },
         {
          "QDate_QTime": "2019-08-24T10:20:44",
          "Queue No": 1023,
          "Valid": "Y",
          "index": 1
         },
         {
          "QDate_QTime": "2019-08-24T10:18:52",
          "Queue No": 1024,
          "Valid": "Y",
          "index": 0
         },
         {
          "QDate_QTime": "2019-08-24T10:23:10",
          "Queue No": 1024,
          "Valid": "Y",
          "index": 1
         },
         {
          "QDate_QTime": "2019-08-24T10:28:08",
          "Queue No": 1024,
          "Valid": "Y",
          "index": 2
         },
         {
          "QDate_QTime": "2019-08-24T09:42:07",
          "Queue No": 4007,
          "Valid": "Y",
          "index": 0
         },
         {
          "QDate_QTime": "2019-08-26T07:24:25",
          "Queue No": 1001,
          "Valid": "Y",
          "index": 0
         },
         {
          "QDate_QTime": "2019-08-26T07:57:05",
          "Queue No": 1001,
          "Valid": "Y",
          "index": 1
         },
         {
          "QDate_QTime": "2019-08-26T07:24:30",
          "Queue No": 1002,
          "Valid": "Y",
          "index": 0
         },
         {
          "QDate_QTime": "2019-08-26T07:24:35",
          "Queue No": 1003,
          "Valid": "Y",
          "index": 0
         },
         {
          "QDate_QTime": "2019-08-26T07:24:45",
          "Queue No": 1004,
          "Valid": "Y",
          "index": 0
         },
         {
          "QDate_QTime": "2019-08-26T07:24:50",
          "Queue No": 1005,
          "Valid": "Y",
          "index": 0
         },
         {
          "QDate_QTime": "2019-08-26T07:25:09",
          "Queue No": 1006,
          "Valid": "Y",
          "index": 0
         },
         {
          "QDate_QTime": "2019-08-26T08:06:02",
          "Queue No": 1006,
          "Valid": "Y",
          "index": 1
         },
         {
          "QDate_QTime": "2019-08-26T07:25:14",
          "Queue No": 1007,
          "Valid": "Y",
          "index": 0
         },
         {
          "QDate_QTime": "2019-08-26T08:08:04",
          "Queue No": 1007,
          "Valid": "Y",
          "index": 1
         },
         {
          "QDate_QTime": "2019-08-26T07:25:22",
          "Queue No": 1008,
          "Valid": "Y",
          "index": 0
         },
         {
          "QDate_QTime": "2019-08-26T07:28:25",
          "Queue No": 1009,
          "Valid": "Y",
          "index": 0
         },
         {
          "QDate_QTime": "2019-08-26T08:15:59",
          "Queue No": 1009,
          "Valid": "Y",
          "index": 1
         },
         {
          "QDate_QTime": "2019-08-26T07:32:05",
          "Queue No": 1010,
          "Valid": "Y",
          "index": 0
         },
         {
          "QDate_QTime": "2019-08-26T07:32:14",
          "Queue No": 1011,
          "Valid": "Y",
          "index": 0
         },
         {
          "QDate_QTime": "2019-08-26T07:33:40",
          "Queue No": 1012,
          "Valid": "Y",
          "index": 0
         },
         {
          "QDate_QTime": "2019-08-26T08:23:55",
          "Queue No": 1012,
          "Valid": "Y",
          "index": 1
         },
         {
          "QDate_QTime": "2019-08-26T07:34:39",
          "Queue No": 1013,
          "Valid": "Y",
          "index": 0
         },
         {
          "QDate_QTime": "2019-08-26T07:35:36",
          "Queue No": 1014,
          "Valid": "Y",
          "index": 0
         },
         {
          "QDate_QTime": "2019-08-26T07:36:06",
          "Queue No": 1015,
          "Valid": "Y",
          "index": 0
         },
         {
          "QDate_QTime": "2019-08-26T08:29:00",
          "Queue No": 1015,
          "Valid": "Y",
          "index": 1
         },
         {
          "QDate_QTime": "2019-08-26T07:39:58",
          "Queue No": 1016,
          "Valid": "Y",
          "index": 0
         },
         {
          "QDate_QTime": "2019-08-26T07:43:14",
          "Queue No": 1017,
          "Valid": "Y",
          "index": 0
         },
         {
          "QDate_QTime": "2019-08-26T08:35:03",
          "Queue No": 1017,
          "Valid": "Y",
          "index": 1
         },
         {
          "QDate_QTime": "2019-08-26T07:45:25",
          "Queue No": 1018,
          "Valid": "Y",
          "index": 0
         },
         {
          "QDate_QTime": "2019-08-26T07:48:48",
          "Queue No": 1019,
          "Valid": "Y",
          "index": 0
         },
         {
          "QDate_QTime": "2019-08-26T07:52:07",
          "Queue No": 1020,
          "Valid": "Y",
          "index": 0
         },
         {
          "QDate_QTime": "2019-08-26T08:43:43",
          "Queue No": 1020,
          "Valid": "Y",
          "index": 1
         },
         {
          "QDate_QTime": "2019-08-26T07:52:19",
          "Queue No": 1021,
          "Valid": "Y",
          "index": 0
         },
         {
          "QDate_QTime": "2019-08-26T09:05:00",
          "Queue No": 1021,
          "Valid": "Y",
          "index": 1
         },
         {
          "QDate_QTime": "2019-08-26T07:54:47",
          "Queue No": 1022,
          "Valid": "Y",
          "index": 0
         },
         {
          "QDate_QTime": "2019-08-26T07:55:53",
          "Queue No": 1023,
          "Valid": "Y",
          "index": 0
         },
         {
          "QDate_QTime": "2019-08-26T07:56:16",
          "Queue No": 1024,
          "Valid": "N",
          "index": 0
         },
         {
          "QDate_QTime": "2019-08-26T07:57:02",
          "Queue No": 1025,
          "Valid": "Y",
          "index": 0
         },
         {
          "QDate_QTime": "2019-08-26T07:57:13",
          "Queue No": 1026,
          "Valid": "Y",
          "index": 0
         },
         {
          "QDate_QTime": "2019-08-26T07:57:54",
          "Queue No": 1027,
          "Valid": "N",
          "index": 0
         },
         {
          "QDate_QTime": "2019-08-26T07:58:35",
          "Queue No": 1028,
          "Valid": "Y",
          "index": 0
         },
         {
          "QDate_QTime": "2019-08-26T09:11:16",
          "Queue No": 1028,
          "Valid": "N",
          "index": 1
         },
         {
          "QDate_QTime": "2019-08-26T09:11:24",
          "Queue No": 1028,
          "Valid": "Y",
          "index": 2
         },
         {
          "QDate_QTime": "2019-08-26T09:17:35",
          "Queue No": 1028,
          "Valid": "Y",
          "index": 3
         },
         {
          "QDate_QTime": "2019-08-26T07:58:46",
          "Queue No": 1029,
          "Valid": "Y",
          "index": 0
         },
         {
          "QDate_QTime": "2019-08-26T08:02:18",
          "Queue No": 1030,
          "Valid": "Y",
          "index": 0
         },
         {
          "QDate_QTime": "2019-08-26T08:04:42",
          "Queue No": 1031,
          "Valid": "Y",
          "index": 0
         },
         {
          "QDate_QTime": "2019-08-26T08:04:52",
          "Queue No": 1032,
          "Valid": "Y",
          "index": 0
         },
         {
          "QDate_QTime": "2019-08-26T09:34:13",
          "Queue No": 1032,
          "Valid": "Y",
          "index": 1
         },
         {
          "QDate_QTime": "2019-08-26T08:09:47",
          "Queue No": 1033,
          "Valid": "Y",
          "index": 0
         },
         {
          "QDate_QTime": "2019-08-26T08:09:49",
          "Queue No": 1034,
          "Valid": "Y",
          "index": 0
         },
         {
          "QDate_QTime": "2019-08-26T08:11:13",
          "Queue No": 1035,
          "Valid": "Y",
          "index": 0
         },
         {
          "QDate_QTime": "2019-08-26T08:16:45",
          "Queue No": 1036,
          "Valid": "Y",
          "index": 0
         },
         {
          "QDate_QTime": "2019-08-26T08:23:22",
          "Queue No": 1037,
          "Valid": "Y",
          "index": 0
         },
         {
          "QDate_QTime": "2019-08-26T09:23:02",
          "Queue No": 1037,
          "Valid": "Y",
          "index": 1
         },
         {
          "QDate_QTime": "2019-08-26T08:25:19",
          "Queue No": 1038,
          "Valid": "Y",
          "index": 0
         },
         {
          "QDate_QTime": "2019-08-26T08:27:29",
          "Queue No": 1039,
          "Valid": "Y",
          "index": 0
         },
         {
          "QDate_QTime": "2019-08-26T08:29:21",
          "Queue No": 1040,
          "Valid": "Y",
          "index": 0
         },
         {
          "QDate_QTime": "2019-08-26T08:37:06",
          "Queue No": 1041,
          "Valid": "Y",
          "index": 0
         },
         {
          "QDate_QTime": "2019-08-26T09:31:58",
          "Queue No": 1041,
          "Valid": "Y",
          "index": 1
         },
         {
          "QDate_QTime": "2019-08-26T08:42:42",
          "Queue No": 1042,
          "Valid": "Y",
          "index": 0
         },
         {
          "QDate_QTime": "2019-08-26T08:48:35",
          "Queue No": 1043,
          "Valid": "Y",
          "index": 0
         },
         {
          "QDate_QTime": "2019-08-26T09:37:28",
          "Queue No": 1043,
          "Valid": "Y",
          "index": 1
         },
         {
          "QDate_QTime": "2019-08-26T08:48:44",
          "Queue No": 1044,
          "Valid": "Y",
          "index": 0
         },
         {
          "QDate_QTime": "2019-08-26T09:39:39",
          "Queue No": 1044,
          "Valid": "Y",
          "index": 1
         },
         {
          "QDate_QTime": "2019-08-26T10:41:08",
          "Queue No": 1044,
          "Valid": "Y",
          "index": 2
         },
         {
          "QDate_QTime": "2019-08-26T09:01:27",
          "Queue No": 1045,
          "Valid": "Y",
          "index": 0
         },
         {
          "QDate_QTime": "2019-08-26T09:01:56",
          "Queue No": 1046,
          "Valid": "Y",
          "index": 0
         },
         {
          "QDate_QTime": "2019-08-26T09:02:03",
          "Queue No": 1047,
          "Valid": "Y",
          "index": 0
         },
         {
          "QDate_QTime": "2019-08-26T09:02:10",
          "Queue No": 1048,
          "Valid": "Y",
          "index": 0
         },
         {
          "QDate_QTime": "2019-08-26T09:43:32",
          "Queue No": 1048,
          "Valid": "Y",
          "index": 1
         },
         {
          "QDate_QTime": "2019-08-26T09:45:21",
          "Queue No": 1048,
          "Valid": "Y",
          "index": 2
         },
         {
          "QDate_QTime": "2019-08-26T10:49:43",
          "Queue No": 1048,
          "Valid": "Y",
          "index": 3
         },
         {
          "QDate_QTime": "2019-08-26T09:02:32",
          "Queue No": 1049,
          "Valid": "Y",
          "index": 0
         },
         {
          "QDate_QTime": "2019-08-26T09:50:34",
          "Queue No": 1049,
          "Valid": "Y",
          "index": 1
         },
         {
          "QDate_QTime": "2019-08-26T09:51:56",
          "Queue No": 1049,
          "Valid": "Y",
          "index": 2
         },
         {
          "QDate_QTime": "2019-08-26T10:23:43",
          "Queue No": 1049,
          "Valid": "Y",
          "index": 3
         },
         {
          "QDate_QTime": "2019-08-26T10:24:03",
          "Queue No": 1049,
          "Valid": "Y",
          "index": 4
         },
         {
          "QDate_QTime": "2019-08-26T09:05:20",
          "Queue No": 1050,
          "Valid": "Y",
          "index": 0
         },
         {
          "QDate_QTime": "2019-08-26T09:08:31",
          "Queue No": 1051,
          "Valid": "Y",
          "index": 0
         },
         {
          "QDate_QTime": "2019-08-26T09:13:59",
          "Queue No": 1052,
          "Valid": "Y",
          "index": 0
         },
         {
          "QDate_QTime": "2019-08-26T10:00:19",
          "Queue No": 1052,
          "Valid": "Y",
          "index": 1
         },
         {
          "QDate_QTime": "2019-08-26T11:22:27",
          "Queue No": 1052,
          "Valid": "Y",
          "index": 2
         },
         {
          "QDate_QTime": "2019-08-26T09:14:06",
          "Queue No": 1053,
          "Valid": "Y",
          "index": 0
         },
         {
          "QDate_QTime": "2019-08-26T10:01:02",
          "Queue No": 1053,
          "Valid": "Y",
          "index": 1
         },
         {
          "QDate_QTime": "2019-08-26T09:16:02",
          "Queue No": 1054,
          "Valid": "Y",
          "index": 0
         },
         {
          "QDate_QTime": "2019-08-26T09:16:41",
          "Queue No": 1055,
          "Valid": "Y",
          "index": 0
         },
         {
          "QDate_QTime": "2019-08-26T10:11:38",
          "Queue No": 1055,
          "Valid": "Y",
          "index": 1
         },
         {
          "QDate_QTime": "2019-08-26T09:17:16",
          "Queue No": 1056,
          "Valid": "Y",
          "index": 0
         },
         {
          "QDate_QTime": "2019-08-26T10:14:56",
          "Queue No": 1056,
          "Valid": "Y",
          "index": 1
         },
         {
          "QDate_QTime": "2019-08-26T09:22:56",
          "Queue No": 1057,
          "Valid": "N",
          "index": 0
         },
         {
          "QDate_QTime": "2019-08-26T09:28:09",
          "Queue No": 1058,
          "Valid": "Y",
          "index": 0
         },
         {
          "QDate_QTime": "2019-08-26T11:17:08",
          "Queue No": 1058,
          "Valid": "Y",
          "index": 1
         },
         {
          "QDate_QTime": "2019-08-26T09:36:53",
          "Queue No": 1059,
          "Valid": "Y",
          "index": 0
         },
         {
          "QDate_QTime": "2019-08-26T10:27:29",
          "Queue No": 1059,
          "Valid": "Y",
          "index": 1
         },
         {
          "QDate_QTime": "2019-08-26T09:40:16",
          "Queue No": 1060,
          "Valid": "Y",
          "index": 0
         },
         {
          "QDate_QTime": "2019-08-26T09:43:50",
          "Queue No": 1061,
          "Valid": "Y",
          "index": 0
         },
         {
          "QDate_QTime": "2019-08-26T09:45:45",
          "Queue No": 1062,
          "Valid": "Y",
          "index": 0
         },
         {
          "QDate_QTime": "2019-08-26T10:29:00",
          "Queue No": 1062,
          "Valid": "Y",
          "index": 1
         },
         {
          "QDate_QTime": "2019-08-26T09:47:27",
          "Queue No": 1063,
          "Valid": "Y",
          "index": 0
         },
         {
          "QDate_QTime": "2019-08-26T09:47:43",
          "Queue No": 1064,
          "Valid": "Y",
          "index": 0
         },
         {
          "QDate_QTime": "2019-08-26T09:48:19",
          "Queue No": 1065,
          "Valid": "N",
          "index": 0
         },
         {
          "QDate_QTime": "2019-08-26T09:49:40",
          "Queue No": 1066,
          "Valid": "Y",
          "index": 0
         },
         {
          "QDate_QTime": "2019-08-26T10:38:36",
          "Queue No": 1066,
          "Valid": "Y",
          "index": 1
         },
         {
          "QDate_QTime": "2019-08-26T10:39:05",
          "Queue No": 1066,
          "Valid": "Y",
          "index": 2
         },
         {
          "QDate_QTime": "2019-08-26T10:44:53",
          "Queue No": 1066,
          "Valid": "Y",
          "index": 3
         },
         {
          "QDate_QTime": "2019-08-26T11:20:27",
          "Queue No": 1066,
          "Valid": "Y",
          "index": 4
         },
         {
          "QDate_QTime": "2019-08-26T09:51:11",
          "Queue No": 1067,
          "Valid": "N",
          "index": 0
         },
         {
          "QDate_QTime": "2019-08-26T09:53:10",
          "Queue No": 1068,
          "Valid": "Y",
          "index": 0
         },
         {
          "QDate_QTime": "2019-08-26T10:45:17",
          "Queue No": 1068,
          "Valid": "Y",
          "index": 1
         },
         {
          "QDate_QTime": "2019-08-26T10:47:34",
          "Queue No": 1068,
          "Valid": "Y",
          "index": 2
         },
         {
          "QDate_QTime": "2019-08-26T09:59:44",
          "Queue No": 1069,
          "Valid": "Y",
          "index": 0
         },
         {
          "QDate_QTime": "2019-08-26T10:20:35",
          "Queue No": 1070,
          "Valid": "Y",
          "index": 0
         },
         {
          "QDate_QTime": "2019-08-26T11:28:30",
          "Queue No": 1070,
          "Valid": "Y",
          "index": 1
         },
         {
          "QDate_QTime": "2019-08-26T10:22:00",
          "Queue No": 1071,
          "Valid": "Y",
          "index": 0
         },
         {
          "QDate_QTime": "2019-08-26T11:04:59",
          "Queue No": 1071,
          "Valid": "Y",
          "index": 1
         },
         {
          "QDate_QTime": "2019-08-26T10:31:20",
          "Queue No": 1072,
          "Valid": "N",
          "index": 0
         },
         {
          "QDate_QTime": "2019-08-26T10:32:09",
          "Queue No": 1073,
          "Valid": "Y",
          "index": 0
         },
         {
          "QDate_QTime": "2019-08-26T10:35:10",
          "Queue No": 1074,
          "Valid": "Y",
          "index": 0
         },
         {
          "QDate_QTime": "2019-08-26T11:13:45",
          "Queue No": 1074,
          "Valid": "Y",
          "index": 1
         },
         {
          "QDate_QTime": "2019-08-26T11:15:49",
          "Queue No": 1074,
          "Valid": "Y",
          "index": 2
         },
         {
          "QDate_QTime": "2019-08-26T10:43:33",
          "Queue No": 1075,
          "Valid": "Y",
          "index": 0
         },
         {
          "QDate_QTime": "2019-08-26T11:49:01",
          "Queue No": 1075,
          "Valid": "Y",
          "index": 1
         },
         {
          "QDate_QTime": "2019-08-26T10:55:01",
          "Queue No": 1076,
          "Valid": "Y",
          "index": 0
         },
         {
          "QDate_QTime": "2019-08-26T11:19:54",
          "Queue No": 1076,
          "Valid": "Y",
          "index": 1
         },
         {
          "QDate_QTime": "2019-08-26T11:24:15",
          "Queue No": 1076,
          "Valid": "Y",
          "index": 2
         },
         {
          "QDate_QTime": "2019-08-26T11:05:56",
          "Queue No": 1077,
          "Valid": "Y",
          "index": 0
         },
         {
          "QDate_QTime": "2019-08-26T13:58:45",
          "Queue No": 1078,
          "Valid": "N",
          "index": 0
         },
         {
          "QDate_QTime": "2019-08-26T14:03:45",
          "Queue No": 1079,
          "Valid": "N",
          "index": 0
         },
         {
          "QDate_QTime": "2019-08-27T07:24:27",
          "Queue No": 1001,
          "Valid": "Y",
          "index": 0
         },
         {
          "QDate_QTime": "2019-08-27T07:59:10",
          "Queue No": 1001,
          "Valid": "Y",
          "index": 1
         },
         {
          "QDate_QTime": "2019-08-27T07:35:39",
          "Queue No": 1002,
          "Valid": "Y",
          "index": 0
         },
         {
          "QDate_QTime": "2019-08-27T07:44:52",
          "Queue No": 1003,
          "Valid": "Y",
          "index": 0
         },
         {
          "QDate_QTime": "2019-08-27T07:48:25",
          "Queue No": 1004,
          "Valid": "Y",
          "index": 0
         },
         {
          "QDate_QTime": "2019-08-27T08:07:05",
          "Queue No": 1004,
          "Valid": "Y",
          "index": 1
         },
         {
          "QDate_QTime": "2019-08-27T07:49:26",
          "Queue No": 1005,
          "Valid": "Y",
          "index": 0
         },
         {
          "QDate_QTime": "2019-08-27T08:15:44",
          "Queue No": 1005,
          "Valid": "N",
          "index": 1
         },
         {
          "QDate_QTime": "2019-08-27T08:16:10",
          "Queue No": 1005,
          "Valid": "Y",
          "index": 2
         },
         {
          "QDate_QTime": "2019-08-27T07:51:52",
          "Queue No": 1006,
          "Valid": "Y",
          "index": 0
         },
         {
          "QDate_QTime": "2019-08-27T07:58:40",
          "Queue No": 1007,
          "Valid": "Y",
          "index": 0
         },
         {
          "QDate_QTime": "2019-08-27T08:40:52",
          "Queue No": 1007,
          "Valid": "Y",
          "index": 0
         },
         {
          "QDate_QTime": "2019-08-27T07:59:13",
          "Queue No": 1008,
          "Valid": "Y",
          "index": 0
         },
         {
          "QDate_QTime": "2019-08-27T07:59:52",
          "Queue No": 1009,
          "Valid": "Y",
          "index": 0
         },
         {
          "QDate_QTime": "2019-08-27T08:02:24",
          "Queue No": 1010,
          "Valid": "Y",
          "index": 0
         },
         {
          "QDate_QTime": "2019-08-27T08:08:51",
          "Queue No": 1011,
          "Valid": "Y",
          "index": 0
         },
         {
          "QDate_QTime": "2019-08-27T08:53:55",
          "Queue No": 1011,
          "Valid": "Y",
          "index": 1
         },
         {
          "QDate_QTime": "2019-08-27T08:18:06",
          "Queue No": 1012,
          "Valid": "Y",
          "index": 0
         },
         {
          "QDate_QTime": "2019-08-27T08:24:26",
          "Queue No": 1013,
          "Valid": "Y",
          "index": 0
         },
         {
          "QDate_QTime": "2019-08-27T08:24:46",
          "Queue No": 1014,
          "Valid": "Y",
          "index": 0
         },
         {
          "QDate_QTime": "2019-08-27T08:54:11",
          "Queue No": 1014,
          "Valid": "Y",
          "index": 1
         },
         {
          "QDate_QTime": "2019-08-27T08:33:13",
          "Queue No": 1015,
          "Valid": "Y",
          "index": 0
         },
         {
          "QDate_QTime": "2019-08-27T08:43:04",
          "Queue No": 1016,
          "Valid": "Y",
          "index": 0
         },
         {
          "QDate_QTime": "2019-08-27T09:02:58",
          "Queue No": 1016,
          "Valid": "Y",
          "index": 1
         },
         {
          "QDate_QTime": "2019-08-27T08:43:39",
          "Queue No": 1017,
          "Valid": "Y",
          "index": 0
         },
         {
          "QDate_QTime": "2019-08-27T08:43:45",
          "Queue No": 1018,
          "Valid": "Y",
          "index": 0
         },
         {
          "QDate_QTime": "2019-08-27T09:19:54",
          "Queue No": 1018,
          "Valid": "Y",
          "index": 1
         },
         {
          "QDate_QTime": "2019-08-27T10:03:21",
          "Queue No": 1018,
          "Valid": "Y",
          "index": 2
         },
         {
          "QDate_QTime": "2019-08-27T08:46:49",
          "Queue No": 1019,
          "Valid": "Y",
          "index": 0
         },
         {
          "QDate_QTime": "2019-08-27T09:24:37",
          "Queue No": 1019,
          "Valid": "Y",
          "index": 1
         },
         {
          "QDate_QTime": "2019-08-27T08:46:57",
          "Queue No": 1020,
          "Valid": "Y",
          "index": 0
         },
         {
          "QDate_QTime": "2019-08-27T09:26:05",
          "Queue No": 1020,
          "Valid": "Y",
          "index": 1
         },
         {
          "QDate_QTime": "2019-08-27T08:48:04",
          "Queue No": 1021,
          "Valid": "N",
          "index": 0
         },
         {
          "QDate_QTime": "2019-08-27T08:51:37",
          "Queue No": 1022,
          "Valid": "Y",
          "index": 0
         },
         {
          "QDate_QTime": "2019-08-27T08:52:29",
          "Queue No": 1023,
          "Valid": "Y",
          "index": 0
         },
         {
          "QDate_QTime": "2019-08-27T09:32:21",
          "Queue No": 1023,
          "Valid": "Y",
          "index": 1
         },
         {
          "QDate_QTime": "2019-08-27T08:59:09",
          "Queue No": 1024,
          "Valid": "Y",
          "index": 0
         },
         {
          "QDate_QTime": "2019-08-27T09:00:13",
          "Queue No": 1025,
          "Valid": "Y",
          "index": 0
         },
         {
          "QDate_QTime": "2019-08-27T09:37:48",
          "Queue No": 1025,
          "Valid": "Y",
          "index": 1
         },
         {
          "QDate_QTime": "2019-08-27T09:39:19",
          "Queue No": 1025,
          "Valid": "N",
          "index": 2
         },
         {
          "QDate_QTime": "2019-08-27T09:03:15",
          "Queue No": 1026,
          "Valid": "Y",
          "index": 0
         },
         {
          "QDate_QTime": "2019-08-27T09:09:47",
          "Queue No": 1027,
          "Valid": "Y",
          "index": 0
         },
         {
          "QDate_QTime": "2019-08-27T09:24:56",
          "Queue No": 1028,
          "Valid": "Y",
          "index": 0
         },
         {
          "QDate_QTime": "2019-08-27T09:29:23",
          "Queue No": 1029,
          "Valid": "Y",
          "index": 0
         },
         {
          "QDate_QTime": "2019-08-27T09:46:30",
          "Queue No": 1029,
          "Valid": "Y",
          "index": 1
         },
         {
          "QDate_QTime": "2019-08-27T09:32:14",
          "Queue No": 1030,
          "Valid": "Y",
          "index": 0
         },
         {
          "QDate_QTime": "2019-08-27T09:52:27",
          "Queue No": 1030,
          "Valid": "Y",
          "index": 1
         },
         {
          "QDate_QTime": "2019-08-27T09:34:51",
          "Queue No": 1031,
          "Valid": "Y",
          "index": 0
         },
         {
          "QDate_QTime": "2019-08-27T10:42:23",
          "Queue No": 1031,
          "Valid": "Y",
          "index": 1
         },
         {
          "QDate_QTime": "2019-08-27T09:38:05",
          "Queue No": 1032,
          "Valid": "Y",
          "index": 0
         },
         {
          "QDate_QTime": "2019-08-27T10:07:07",
          "Queue No": 1032,
          "Valid": "Y",
          "index": 0
         },
         {
          "QDate_QTime": "2019-08-27T09:38:48",
          "Queue No": 1033,
          "Valid": "Y",
          "index": 0
         },
         {
          "QDate_QTime": "2019-08-27T10:02:10",
          "Queue No": 1034,
          "Valid": "Y",
          "index": 0
         },
         {
          "QDate_QTime": "2019-08-27T10:02:50",
          "Queue No": 1035,
          "Valid": "Y",
          "index": 0
         },
         {
          "QDate_QTime": "2019-08-27T10:13:39",
          "Queue No": 1035,
          "Valid": "Y",
          "index": 1
         },
         {
          "QDate_QTime": "2019-08-27T10:12:29",
          "Queue No": 1036,
          "Valid": "Y",
          "index": 0
         },
         {
          "QDate_QTime": "2019-08-27T10:21:17",
          "Queue No": 1036,
          "Valid": "Y",
          "index": 1
         },
         {
          "QDate_QTime": "2019-08-27T11:01:55",
          "Queue No": 1037,
          "Valid": "Y",
          "index": 0
         },
         {
          "QDate_QTime": "2019-08-28T07:24:28",
          "Queue No": 1001,
          "Valid": "Y",
          "index": 0
         },
         {
          "QDate_QTime": "2019-08-28T08:01:23",
          "Queue No": 1001,
          "Valid": "Y",
          "index": 1
         },
         {
          "QDate_QTime": "2019-08-28T07:24:54",
          "Queue No": 1002,
          "Valid": "Y",
          "index": 0
         },
         {
          "QDate_QTime": "2019-08-28T07:26:08",
          "Queue No": 1003,
          "Valid": "Y",
          "index": 0
         },
         {
          "QDate_QTime": "2019-08-28T07:28:26",
          "Queue No": 1004,
          "Valid": "Y",
          "index": 0
         },
         {
          "QDate_QTime": "2019-08-28T08:50:36",
          "Queue No": 1004,
          "Valid": "Y",
          "index": 1
         },
         {
          "QDate_QTime": "2019-08-28T07:30:25",
          "Queue No": 1005,
          "Valid": "Y",
          "index": 0
         },
         {
          "QDate_QTime": "2019-08-28T08:08:06",
          "Queue No": 1005,
          "Valid": "Y",
          "index": 1
         },
         {
          "QDate_QTime": "2019-08-28T07:34:56",
          "Queue No": 1006,
          "Valid": "Y",
          "index": 0
         },
         {
          "QDate_QTime": "2019-08-28T07:40:11",
          "Queue No": 1007,
          "Valid": "Y",
          "index": 0
         },
         {
          "QDate_QTime": "2019-08-28T08:12:59",
          "Queue No": 1007,
          "Valid": "Y",
          "index": 1
         },
         {
          "QDate_QTime": "2019-08-28T07:42:38",
          "Queue No": 1008,
          "Valid": "Y",
          "index": 0
         },
         {
          "QDate_QTime": "2019-08-28T08:17:28",
          "Queue No": 1008,
          "Valid": "Y",
          "index": 1
         },
         {
          "QDate_QTime": "2019-08-28T07:43:04",
          "Queue No": 1009,
          "Valid": "Y",
          "index": 0
         },
         {
          "QDate_QTime": "2019-08-28T08:22:21",
          "Queue No": 1009,
          "Valid": "Y",
          "index": 1
         },
         {
          "QDate_QTime": "2019-08-28T08:23:02",
          "Queue No": 1009,
          "Valid": "Y",
          "index": 2
         },
         {
          "QDate_QTime": "2019-08-28T07:53:27",
          "Queue No": 1010,
          "Valid": "Y",
          "index": 0
         },
         {
          "QDate_QTime": "2019-08-28T07:56:40",
          "Queue No": 1011,
          "Valid": "Y",
          "index": 0
         },
         {
          "QDate_QTime": "2019-08-28T08:36:12",
          "Queue No": 1011,
          "Valid": "Y",
          "index": 1
         },
         {
          "QDate_QTime": "2019-08-28T07:58:29",
          "Queue No": 1012,
          "Valid": "Y",
          "index": 0
         },
         {
          "QDate_QTime": "2019-08-28T08:38:02",
          "Queue No": 1012,
          "Valid": "Y",
          "index": 1
         },
         {
          "QDate_QTime": "2019-08-28T07:58:42",
          "Queue No": 1013,
          "Valid": "Y",
          "index": 0
         },
         {
          "QDate_QTime": "2019-08-28T07:59:35",
          "Queue No": 1014,
          "Valid": "Y",
          "index": 0
         },
         {
          "QDate_QTime": "2019-08-28T08:42:08",
          "Queue No": 1014,
          "Valid": "Y",
          "index": 1
         },
         {
          "QDate_QTime": "2019-08-28T08:01:22",
          "Queue No": 1015,
          "Valid": "Y",
          "index": 0
         },
         {
          "QDate_QTime": "2019-08-28T08:02:27",
          "Queue No": 1016,
          "Valid": "Y",
          "index": 0
         },
         {
          "QDate_QTime": "2019-08-28T08:03:45",
          "Queue No": 1017,
          "Valid": "Y",
          "index": 0
         },
         {
          "QDate_QTime": "2019-08-28T08:47:31",
          "Queue No": 1017,
          "Valid": "Y",
          "index": 1
         },
         {
          "QDate_QTime": "2019-08-28T08:03:58",
          "Queue No": 1018,
          "Valid": "Y",
          "index": 0
         },
         {
          "QDate_QTime": "2019-08-28T08:58:08",
          "Queue No": 1018,
          "Valid": "Y",
          "index": 1
         },
         {
          "QDate_QTime": "2019-08-28T10:09:13",
          "Queue No": 1018,
          "Valid": "Y",
          "index": 2
         },
         {
          "QDate_QTime": "2019-08-28T08:04:53",
          "Queue No": 1019,
          "Valid": "Y",
          "index": 0
         },
         {
          "QDate_QTime": "2019-08-28T08:13:35",
          "Queue No": 1020,
          "Valid": "Y",
          "index": 0
         },
         {
          "QDate_QTime": "2019-08-28T09:04:36",
          "Queue No": 1020,
          "Valid": "Y",
          "index": 1
         },
         {
          "QDate_QTime": "2019-08-28T08:20:37",
          "Queue No": 1021,
          "Valid": "Y",
          "index": 0
         },
         {
          "QDate_QTime": "2019-08-28T08:20:48",
          "Queue No": 1022,
          "Valid": "Y",
          "index": 0
         },
         {
          "QDate_QTime": "2019-08-28T09:10:42",
          "Queue No": 1022,
          "Valid": "Y",
          "index": 1
         },
         {
          "QDate_QTime": "2019-08-28T08:26:20",
          "Queue No": 1023,
          "Valid": "Y",
          "index": 0
         },
         {
          "QDate_QTime": "2019-08-28T09:22:27",
          "Queue No": 1023,
          "Valid": "Y",
          "index": 1
         },
         {
          "QDate_QTime": "2019-08-28T08:27:20",
          "Queue No": 1024,
          "Valid": "Y",
          "index": 0
         },
         {
          "QDate_QTime": "2019-08-28T09:23:03",
          "Queue No": 1024,
          "Valid": "Y",
          "index": 1
         },
         {
          "QDate_QTime": "2019-08-28T08:28:00",
          "Queue No": 1025,
          "Valid": "Y",
          "index": 0
         },
         {
          "QDate_QTime": "2019-08-28T08:30:44",
          "Queue No": 1026,
          "Valid": "Y",
          "index": 0
         },
         {
          "QDate_QTime": "2019-08-28T09:32:31",
          "Queue No": 1026,
          "Valid": "Y",
          "index": 1
         },
         {
          "QDate_QTime": "2019-08-28T08:32:49",
          "Queue No": 1027,
          "Valid": "Y",
          "index": 0
         },
         {
          "QDate_QTime": "2019-08-28T08:33:13",
          "Queue No": 1028,
          "Valid": "Y",
          "index": 0
         },
         {
          "QDate_QTime": "2019-08-28T08:35:14",
          "Queue No": 1029,
          "Valid": "Y",
          "index": 0
         },
         {
          "QDate_QTime": "2019-08-28T09:37:17",
          "Queue No": 1029,
          "Valid": "Y",
          "index": 1
         },
         {
          "QDate_QTime": "2019-08-28T10:23:58",
          "Queue No": 1029,
          "Valid": "Y",
          "index": 2
         },
         {
          "QDate_QTime": "2019-08-28T08:45:38",
          "Queue No": 1030,
          "Valid": "Y",
          "index": 0
         },
         {
          "QDate_QTime": "2019-08-28T08:47:44",
          "Queue No": 1031,
          "Valid": "Y",
          "index": 0
         },
         {
          "QDate_QTime": "2019-08-28T09:46:00",
          "Queue No": 1031,
          "Valid": "Y",
          "index": 1
         },
         {
          "QDate_QTime": "2019-08-28T08:49:48",
          "Queue No": 1032,
          "Valid": "Y",
          "index": 0
         },
         {
          "QDate_QTime": "2019-08-28T08:59:48",
          "Queue No": 1033,
          "Valid": "Y",
          "index": 0
         },
         {
          "QDate_QTime": "2019-08-28T09:03:13",
          "Queue No": 1034,
          "Valid": "Y",
          "index": 0
         },
         {
          "QDate_QTime": "2019-08-28T09:06:29",
          "Queue No": 1035,
          "Valid": "Y",
          "index": 0
         },
         {
          "QDate_QTime": "2019-08-28T09:47:59",
          "Queue No": 1035,
          "Valid": "Y",
          "index": 1
         },
         {
          "QDate_QTime": "2019-08-28T09:09:36",
          "Queue No": 1036,
          "Valid": "Y",
          "index": 0
         },
         {
          "QDate_QTime": "2019-08-28T09:12:00",
          "Queue No": 1037,
          "Valid": "Y",
          "index": 0
         },
         {
          "QDate_QTime": "2019-08-28T09:53:09",
          "Queue No": 1037,
          "Valid": "Y",
          "index": 1
         },
         {
          "QDate_QTime": "2019-08-28T09:57:06",
          "Queue No": 1037,
          "Valid": "Y",
          "index": 2
         },
         {
          "QDate_QTime": "2019-08-28T09:17:14",
          "Queue No": 1038,
          "Valid": "Y",
          "index": 0
         },
         {
          "QDate_QTime": "2019-08-28T09:19:38",
          "Queue No": 1039,
          "Valid": "Y",
          "index": 0
         },
         {
          "QDate_QTime": "2019-08-28T10:01:29",
          "Queue No": 1039,
          "Valid": "Y",
          "index": 1
         },
         {
          "QDate_QTime": "2019-08-28T09:19:58",
          "Queue No": 1040,
          "Valid": "Y",
          "index": 0
         },
         {
          "QDate_QTime": "2019-08-28T09:33:05",
          "Queue No": 1041,
          "Valid": "Y",
          "index": 0
         },
         {
          "QDate_QTime": "2019-08-28T10:01:52",
          "Queue No": 1041,
          "Valid": "Y",
          "index": 1
         },
         {
          "QDate_QTime": "2019-08-28T10:02:04",
          "Queue No": 1041,
          "Valid": "Y",
          "index": 2
         },
         {
          "QDate_QTime": "2019-08-28T10:06:34",
          "Queue No": 1041,
          "Valid": "Y",
          "index": 3
         },
         {
          "QDate_QTime": "2019-08-28T11:06:29",
          "Queue No": 1041,
          "Valid": "Y",
          "index": 4
         },
         {
          "QDate_QTime": "2019-08-28T09:35:08",
          "Queue No": 1042,
          "Valid": "Y",
          "index": 0
         },
         {
          "QDate_QTime": "2019-08-28T09:39:17",
          "Queue No": 1043,
          "Valid": "Y",
          "index": 0
         },
         {
          "QDate_QTime": "2019-08-28T10:10:12",
          "Queue No": 1043,
          "Valid": "Y",
          "index": 1
         },
         {
          "QDate_QTime": "2019-08-28T09:43:25",
          "Queue No": 1044,
          "Valid": "Y",
          "index": 0
         },
         {
          "QDate_QTime": "2019-08-28T09:51:41",
          "Queue No": 1045,
          "Valid": "Y",
          "index": 0
         },
         {
          "QDate_QTime": "2019-08-28T10:22:41",
          "Queue No": 1045,
          "Valid": "Y",
          "index": 1
         },
         {
          "QDate_QTime": "2019-08-28T10:01:25",
          "Queue No": 1046,
          "Valid": "Y",
          "index": 0
         },
         {
          "QDate_QTime": "2019-08-28T10:23:25",
          "Queue No": 1046,
          "Valid": "Y",
          "index": 1
         },
         {
          "QDate_QTime": "2019-08-28T10:26:52",
          "Queue No": 1046,
          "Valid": "Y",
          "index": 0
         },
         {
          "QDate_QTime": "2019-08-28T10:07:34",
          "Queue No": 1047,
          "Valid": "Y",
          "index": 0
         },
         {
          "QDate_QTime": "2019-08-28T11:27:30",
          "Queue No": 1047,
          "Valid": "N",
          "index": 1
         },
         {
          "QDate_QTime": "2019-08-28T10:09:30",
          "Queue No": 1048,
          "Valid": "Y",
          "index": 0
         },
         {
          "QDate_QTime": "2019-08-28T10:11:18",
          "Queue No": 1049,
          "Valid": "Y",
          "index": 0
         },
         {
          "QDate_QTime": "2019-08-28T10:23:48",
          "Queue No": 1050,
          "Valid": "Y",
          "index": 0
         },
         {
          "QDate_QTime": "2019-08-28T10:27:01",
          "Queue No": 1050,
          "Valid": "Y",
          "index": 1
         },
         {
          "QDate_QTime": "2019-08-28T10:29:25",
          "Queue No": 1050,
          "Valid": "Y",
          "index": 2
         },
         {
          "QDate_QTime": "2019-08-28T10:23:58",
          "Queue No": 1051,
          "Valid": "Y",
          "index": 0
         },
         {
          "QDate_QTime": "2019-08-28T10:36:16",
          "Queue No": 1051,
          "Valid": "Y",
          "index": 1
         },
         {
          "QDate_QTime": "2019-08-28T10:24:48",
          "Queue No": 1052,
          "Valid": "Y",
          "index": 0
         },
         {
          "QDate_QTime": "2019-08-29T07:24:24",
          "Queue No": 1001,
          "Valid": "Y",
          "index": 0
         },
         {
          "QDate_QTime": "2019-08-29T07:55:12",
          "Queue No": 1001,
          "Valid": "Y",
          "index": 1
         },
         {
          "QDate_QTime": "2019-08-29T07:24:31",
          "Queue No": 1002,
          "Valid": "Y",
          "index": 0
         },
         {
          "QDate_QTime": "2019-08-29T07:24:36",
          "Queue No": 1003,
          "Valid": "Y",
          "index": 0
         },
         {
          "QDate_QTime": "2019-08-29T07:58:44",
          "Queue No": 1003,
          "Valid": "Y",
          "index": 1
         },
         {
          "QDate_QTime": "2019-08-29T08:03:21",
          "Queue No": 1003,
          "Valid": "Y",
          "index": 2
         },
         {
          "QDate_QTime": "2019-08-29T07:24:44",
          "Queue No": 1004,
          "Valid": "Y",
          "index": 0
         },
         {
          "QDate_QTime": "2019-08-29T08:03:45",
          "Queue No": 1004,
          "Valid": "Y",
          "index": 1
         },
         {
          "QDate_QTime": "2019-08-29T08:04:08",
          "Queue No": 1004,
          "Valid": "Y",
          "index": 2
         },
         {
          "QDate_QTime": "2019-08-29T07:24:53",
          "Queue No": 1005,
          "Valid": "Y",
          "index": 0
         },
         {
          "QDate_QTime": "2019-08-29T07:35:34",
          "Queue No": 1006,
          "Valid": "Y",
          "index": 0
         },
         {
          "QDate_QTime": "2019-08-29T08:11:58",
          "Queue No": 1006,
          "Valid": "Y",
          "index": 1
         },
         {
          "QDate_QTime": "2019-08-29T08:17:10",
          "Queue No": 1006,
          "Valid": "Y",
          "index": 2
         },
         {
          "QDate_QTime": "2019-08-29T07:48:12",
          "Queue No": 1007,
          "Valid": "Y",
          "index": 0
         },
         {
          "QDate_QTime": "2019-08-29T07:52:28",
          "Queue No": 1008,
          "Valid": "Y",
          "index": 0
         },
         {
          "QDate_QTime": "2019-08-29T08:04:24",
          "Queue No": 1009,
          "Valid": "Y",
          "index": 0
         },
         {
          "QDate_QTime": "2019-08-29T08:17:45",
          "Queue No": 1009,
          "Valid": "Y",
          "index": 1
         },
         {
          "QDate_QTime": "2019-08-29T08:25:41",
          "Queue No": 1009,
          "Valid": "Y",
          "index": 2
         },
         {
          "QDate_QTime": "2019-08-29T08:06:36",
          "Queue No": 1010,
          "Valid": "Y",
          "index": 0
         },
         {
          "QDate_QTime": "2019-08-29T08:08:53",
          "Queue No": 1011,
          "Valid": "Y",
          "index": 0
         },
         {
          "QDate_QTime": "2019-08-29T08:27:49",
          "Queue No": 1011,
          "Valid": "Y",
          "index": 1
         },
         {
          "QDate_QTime": "2019-08-29T08:18:02",
          "Queue No": 1012,
          "Valid": "N",
          "index": 0
         },
         {
          "QDate_QTime": "2019-08-29T08:25:55",
          "Queue No": 1013,
          "Valid": "Y",
          "index": 0
         },
         {
          "QDate_QTime": "2019-08-29T08:35:20",
          "Queue No": 1013,
          "Valid": "Y",
          "index": 1
         },
         {
          "QDate_QTime": "2019-08-29T08:35:14",
          "Queue No": 1014,
          "Valid": "Y",
          "index": 0
         },
         {
          "QDate_QTime": "2019-08-29T08:39:34",
          "Queue No": 1014,
          "Valid": "Y",
          "index": 1
         },
         {
          "QDate_QTime": "2019-08-29T08:45:47",
          "Queue No": 1015,
          "Valid": "Y",
          "index": 0
         },
         {
          "QDate_QTime": "2019-08-29T08:47:26",
          "Queue No": 1015,
          "Valid": "Y",
          "index": 1
         },
         {
          "QDate_QTime": "2019-08-29T08:48:59",
          "Queue No": 1015,
          "Valid": "Y",
          "index": 2
         },
         {
          "QDate_QTime": "2019-08-29T08:46:41",
          "Queue No": 1016,
          "Valid": "Y",
          "index": 0
         },
         {
          "QDate_QTime": "2019-08-29T08:46:55",
          "Queue No": 1017,
          "Valid": "Y",
          "index": 0
         },
         {
          "QDate_QTime": "2019-08-29T09:39:35",
          "Queue No": 1017,
          "Valid": "Y",
          "index": 1
         },
         {
          "QDate_QTime": "2019-08-29T08:59:18",
          "Queue No": 1018,
          "Valid": "Y",
          "index": 0
         },
         {
          "QDate_QTime": "2019-08-29T09:42:18",
          "Queue No": 1018,
          "Valid": "Y",
          "index": 1
         },
         {
          "QDate_QTime": "2019-08-29T09:01:24",
          "Queue No": 1019,
          "Valid": "Y",
          "index": 0
         },
         {
          "QDate_QTime": "2019-08-29T09:08:37",
          "Queue No": 1019,
          "Valid": "Y",
          "index": 1
         },
         {
          "QDate_QTime": "2019-08-29T09:04:18",
          "Queue No": 1020,
          "Valid": "Y",
          "index": 0
         },
         {
          "QDate_QTime": "2019-08-29T09:17:07",
          "Queue No": 1020,
          "Valid": "Y",
          "index": 1
         },
         {
          "QDate_QTime": "2019-08-29T09:06:51",
          "Queue No": 1021,
          "Valid": "Y",
          "index": 0
         },
         {
          "QDate_QTime": "2019-08-29T09:48:28",
          "Queue No": 1021,
          "Valid": "Y",
          "index": 1
         },
         {
          "QDate_QTime": "2019-08-29T09:12:12",
          "Queue No": 1022,
          "Valid": "Y",
          "index": 0
         },
         {
          "QDate_QTime": "2019-08-29T09:18:42",
          "Queue No": 1023,
          "Valid": "Y",
          "index": 0
         },
         {
          "QDate_QTime": "2019-08-29T09:32:37",
          "Queue No": 1023,
          "Valid": "Y",
          "index": 1
         },
         {
          "QDate_QTime": "2019-08-29T09:24:25",
          "Queue No": 1024,
          "Valid": "Y",
          "index": 0
         },
         {
          "QDate_QTime": "2019-08-29T09:39:27",
          "Queue No": 1024,
          "Valid": "Y",
          "index": 0
         },
         {
          "QDate_QTime": "2019-08-29T09:24:43",
          "Queue No": 1025,
          "Valid": "Y",
          "index": 0
         },
         {
          "QDate_QTime": "2019-08-29T09:26:35",
          "Queue No": 1026,
          "Valid": "Y",
          "index": 0
         },
         {
          "QDate_QTime": "2019-08-29T09:27:57",
          "Queue No": 1027,
          "Valid": "Y",
          "index": 0
         },
         {
          "QDate_QTime": "2019-08-29T09:40:59",
          "Queue No": 1027,
          "Valid": "Y",
          "index": 1
         },
         {
          "QDate_QTime": "2019-08-29T09:38:53",
          "Queue No": 1028,
          "Valid": "Y",
          "index": 0
         },
         {
          "QDate_QTime": "2019-08-29T10:17:33",
          "Queue No": 1029,
          "Valid": "Y",
          "index": 0
         },
         {
          "QDate_QTime": "2019-08-29T10:33:08",
          "Queue No": 1030,
          "Valid": "Y",
          "index": 0
         },
         {
          "QDate_QTime": "2019-08-29T10:40:08",
          "Queue No": 1030,
          "Valid": "Y",
          "index": 1
         },
         {
          "QDate_QTime": "2019-08-29T10:38:50",
          "Queue No": 1031,
          "Valid": "Y",
          "index": 0
         },
         {
          "QDate_QTime": "2019-08-29T10:41:43",
          "Queue No": 1031,
          "Valid": "Y",
          "index": 1
         },
         {
          "QDate_QTime": "2019-08-29T10:42:25",
          "Queue No": 1031,
          "Valid": "Y",
          "index": 2
         },
         {
          "QDate_QTime": "2019-08-29T10:47:30",
          "Queue No": 1031,
          "Valid": "N",
          "index": 3
         },
         {
          "QDate_QTime": "2019-08-29T10:44:20",
          "Queue No": 1032,
          "Valid": "Y",
          "index": 0
         },
         {
          "QDate_QTime": "2019-08-29T10:48:56",
          "Queue No": 1032,
          "Valid": "Y",
          "index": 1
         },
         {
          "QDate_QTime": "2019-08-29T10:50:54",
          "Queue No": 1032,
          "Valid": "N",
          "index": 2
         },
         {
          "QDate_QTime": "2019-08-29T11:04:40",
          "Queue No": 1032,
          "Valid": "Y",
          "index": 0
         },
         {
          "QDate_QTime": "2019-08-29T13:30:03",
          "Queue No": 1033,
          "Valid": "N",
          "index": 0
         },
         {
          "QDate_QTime": "2019-08-30T07:24:41",
          "Queue No": 1001,
          "Valid": "Y",
          "index": 0
         },
         {
          "QDate_QTime": "2019-08-30T07:55:33",
          "Queue No": 1001,
          "Valid": "Y",
          "index": 1
         },
         {
          "QDate_QTime": "2019-08-30T07:24:51",
          "Queue No": 1002,
          "Valid": "Y",
          "index": 0
         },
         {
          "QDate_QTime": "2019-08-30T07:24:58",
          "Queue No": 1003,
          "Valid": "Y",
          "index": 0
         },
         {
          "QDate_QTime": "2019-08-30T07:27:49",
          "Queue No": 1004,
          "Valid": "Y",
          "index": 0
         },
         {
          "QDate_QTime": "2019-08-30T07:30:09",
          "Queue No": 1005,
          "Valid": "Y",
          "index": 0
         },
         {
          "QDate_QTime": "2019-08-30T07:59:20",
          "Queue No": 1005,
          "Valid": "Y",
          "index": 1
         },
         {
          "QDate_QTime": "2019-08-30T08:02:39",
          "Queue No": 1005,
          "Valid": "Y",
          "index": 2
         },
         {
          "QDate_QTime": "2019-08-30T07:30:40",
          "Queue No": 1006,
          "Valid": "Y",
          "index": 0
         },
         {
          "QDate_QTime": "2019-08-30T07:31:12",
          "Queue No": 1007,
          "Valid": "Y",
          "index": 0
         },
         {
          "QDate_QTime": "2019-08-30T07:31:39",
          "Queue No": 1008,
          "Valid": "Y",
          "index": 0
         },
         {
          "QDate_QTime": "2019-08-30T08:07:50",
          "Queue No": 1008,
          "Valid": "Y",
          "index": 1
         },
         {
          "QDate_QTime": "2019-08-30T08:08:10",
          "Queue No": 1008,
          "Valid": "N",
          "index": 2
         },
         {
          "QDate_QTime": "2019-08-30T08:08:18",
          "Queue No": 1008,
          "Valid": "Y",
          "index": 3
         },
         {
          "QDate_QTime": "2019-08-30T08:11:37",
          "Queue No": 1008,
          "Valid": "N",
          "index": 4
         },
         {
          "QDate_QTime": "2019-08-30T07:32:32",
          "Queue No": 1009,
          "Valid": "Y",
          "index": 0
         },
         {
          "QDate_QTime": "2019-08-30T08:16:31",
          "Queue No": 1009,
          "Valid": "Y",
          "index": 1
         },
         {
          "QDate_QTime": "2019-08-30T08:26:57",
          "Queue No": 1009,
          "Valid": "Y",
          "index": 2
         },
         {
          "QDate_QTime": "2019-08-30T07:40:43",
          "Queue No": 1010,
          "Valid": "Y",
          "index": 0
         },
         {
          "QDate_QTime": "2019-08-30T07:41:25",
          "Queue No": 1011,
          "Valid": "N",
          "index": 0
         },
         {
          "QDate_QTime": "2019-08-30T07:44:02",
          "Queue No": 1012,
          "Valid": "Y",
          "index": 0
         },
         {
          "QDate_QTime": "2019-08-30T07:44:38",
          "Queue No": 1013,
          "Valid": "Y",
          "index": 0
         },
         {
          "QDate_QTime": "2019-08-30T08:19:25",
          "Queue No": 1013,
          "Valid": "Y",
          "index": 1
         },
         {
          "QDate_QTime": "2019-08-30T08:25:13",
          "Queue No": 1013,
          "Valid": "Y",
          "index": 2
         },
         {
          "QDate_QTime": "2019-08-30T07:44:50",
          "Queue No": 1014,
          "Valid": "Y",
          "index": 0
         },
         {
          "QDate_QTime": "2019-08-30T07:52:46",
          "Queue No": 1015,
          "Valid": "Y",
          "index": 0
         },
         {
          "QDate_QTime": "2019-08-30T08:34:07",
          "Queue No": 1015,
          "Valid": "Y",
          "index": 1
         },
         {
          "QDate_QTime": "2019-08-30T07:52:59",
          "Queue No": 1016,
          "Valid": "N",
          "index": 0
         },
         {
          "QDate_QTime": "2019-08-30T07:53:18",
          "Queue No": 1017,
          "Valid": "Y",
          "index": 0
         },
         {
          "QDate_QTime": "2019-08-30T07:54:48",
          "Queue No": 1018,
          "Valid": "Y",
          "index": 0
         },
         {
          "QDate_QTime": "2019-08-30T07:57:28",
          "Queue No": 1019,
          "Valid": "Y",
          "index": 0
         },
         {
          "QDate_QTime": "2019-08-30T08:41:20",
          "Queue No": 1019,
          "Valid": "Y",
          "index": 1
         },
         {
          "QDate_QTime": "2019-08-30T10:04:58",
          "Queue No": 1019,
          "Valid": "Y",
          "index": 2
         },
         {
          "QDate_QTime": "2019-08-30T07:58:48",
          "Queue No": 1020,
          "Valid": "Y",
          "index": 0
         },
         {
          "QDate_QTime": "2019-08-30T08:00:28",
          "Queue No": 1021,
          "Valid": "Y",
          "index": 0
         },
         {
          "QDate_QTime": "2019-08-30T08:00:35",
          "Queue No": 1022,
          "Valid": "Y",
          "index": 0
         },
         {
          "QDate_QTime": "2019-08-30T08:04:33",
          "Queue No": 1023,
          "Valid": "Y",
          "index": 0
         },
         {
          "QDate_QTime": "2019-08-30T08:06:17",
          "Queue No": 1024,
          "Valid": "Y",
          "index": 0
         },
         {
          "QDate_QTime": "2019-08-30T08:09:43",
          "Queue No": 1025,
          "Valid": "Y",
          "index": 0
         },
         {
          "QDate_QTime": "2019-08-30T09:14:25",
          "Queue No": 1025,
          "Valid": "Y",
          "index": 1
         },
         {
          "QDate_QTime": "2019-08-30T08:11:24",
          "Queue No": 1026,
          "Valid": "Y",
          "index": 0
         },
         {
          "QDate_QTime": "2019-08-30T08:12:44",
          "Queue No": 1027,
          "Valid": "Y",
          "index": 0
         },
         {
          "QDate_QTime": "2019-08-30T08:55:35",
          "Queue No": 1027,
          "Valid": "Y",
          "index": 1
         },
         {
          "QDate_QTime": "2019-08-30T08:56:12",
          "Queue No": 1027,
          "Valid": "Y",
          "index": 2
         },
         {
          "QDate_QTime": "2019-08-30T09:15:50",
          "Queue No": 1027,
          "Valid": "Y",
          "index": 3
         },
         {
          "QDate_QTime": "2019-08-30T08:23:42",
          "Queue No": 1028,
          "Valid": "Y",
          "index": 0
         },
         {
          "QDate_QTime": "2019-08-30T08:25:49",
          "Queue No": 1029,
          "Valid": "Y",
          "index": 0
         },
         {
          "QDate_QTime": "2019-08-30T08:59:19",
          "Queue No": 1029,
          "Valid": "Y",
          "index": 1
         },
         {
          "QDate_QTime": "2019-08-30T09:00:00",
          "Queue No": 1029,
          "Valid": "Y",
          "index": 2
         },
         {
          "QDate_QTime": "2019-08-30T08:28:37",
          "Queue No": 1030,
          "Valid": "Y",
          "index": 0
         },
         {
          "QDate_QTime": "2019-08-30T10:11:25",
          "Queue No": 1030,
          "Valid": "Y",
          "index": 1
         },
         {
          "QDate_QTime": "2019-08-30T08:30:26",
          "Queue No": 1031,
          "Valid": "Y",
          "index": 0
         },
         {
          "QDate_QTime": "2019-08-30T08:52:50",
          "Queue No": 1031,
          "Valid": "Y",
          "index": 1
         },
         {
          "QDate_QTime": "2019-08-30T08:33:23",
          "Queue No": 1032,
          "Valid": "Y",
          "index": 0
         },
         {
          "QDate_QTime": "2019-08-30T08:36:26",
          "Queue No": 1033,
          "Valid": "Y",
          "index": 0
         },
         {
          "QDate_QTime": "2019-08-30T08:36:34",
          "Queue No": 1034,
          "Valid": "Y",
          "index": 0
         },
         {
          "QDate_QTime": "2019-08-30T09:15:00",
          "Queue No": 1034,
          "Valid": "Y",
          "index": 1
         },
         {
          "QDate_QTime": "2019-08-30T09:17:34",
          "Queue No": 1034,
          "Valid": "Y",
          "index": 2
         },
         {
          "QDate_QTime": "2019-08-30T08:36:46",
          "Queue No": 1035,
          "Valid": "Y",
          "index": 0
         },
         {
          "QDate_QTime": "2019-08-30T08:41:14",
          "Queue No": 1036,
          "Valid": "Y",
          "index": 0
         },
         {
          "QDate_QTime": "2019-08-30T09:20:29",
          "Queue No": 1036,
          "Valid": "Y",
          "index": 1
         },
         {
          "QDate_QTime": "2019-08-30T09:22:16",
          "Queue No": 1036,
          "Valid": "Y",
          "index": 2
         },
         {
          "QDate_QTime": "2019-08-30T08:45:35",
          "Queue No": 1037,
          "Valid": "Y",
          "index": 0
         },
         {
          "QDate_QTime": "2019-08-30T08:45:59",
          "Queue No": 1038,
          "Valid": "Y",
          "index": 0
         },
         {
          "QDate_QTime": "2019-08-30T09:26:51",
          "Queue No": 1038,
          "Valid": "Y",
          "index": 1
         },
         {
          "QDate_QTime": "2019-08-30T08:48:32",
          "Queue No": 1039,
          "Valid": "N",
          "index": 0
         },
         {
          "QDate_QTime": "2019-08-30T08:49:07",
          "Queue No": 1040,
          "Valid": "N",
          "index": 0
         },
         {
          "QDate_QTime": "2019-08-30T08:49:24",
          "Queue No": 1041,
          "Valid": "Y",
          "index": 0
         },
         {
          "QDate_QTime": "2019-08-30T09:48:32",
          "Queue No": 1041,
          "Valid": "Y",
          "index": 1
         },
         {
          "QDate_QTime": "2019-08-30T08:50:15",
          "Queue No": 1042,
          "Valid": "Y",
          "index": 0
         },
         {
          "QDate_QTime": "2019-08-30T08:50:48",
          "Queue No": 1043,
          "Valid": "Y",
          "index": 0
         },
         {
          "QDate_QTime": "2019-08-30T09:31:34",
          "Queue No": 1043,
          "Valid": "Y",
          "index": 1
         },
         {
          "QDate_QTime": "2019-08-30T08:51:14",
          "Queue No": 1044,
          "Valid": "Y",
          "index": 0
         },
         {
          "QDate_QTime": "2019-08-30T08:53:58",
          "Queue No": 1045,
          "Valid": "N",
          "index": 0
         },
         {
          "QDate_QTime": "2019-08-30T08:56:35",
          "Queue No": 1046,
          "Valid": "Y",
          "index": 0
         },
         {
          "QDate_QTime": "2019-08-30T09:40:27",
          "Queue No": 1046,
          "Valid": "Y",
          "index": 1
         },
         {
          "QDate_QTime": "2019-08-30T09:43:06",
          "Queue No": 1046,
          "Valid": "Y",
          "index": 2
         },
         {
          "QDate_QTime": "2019-08-30T08:57:12",
          "Queue No": 1047,
          "Valid": "N",
          "index": 0
         },
         {
          "QDate_QTime": "2019-08-30T08:59:06",
          "Queue No": 1048,
          "Valid": "Y",
          "index": 0
         },
         {
          "QDate_QTime": "2019-08-30T10:30:22",
          "Queue No": 1048,
          "Valid": "Y",
          "index": 1
         },
         {
          "QDate_QTime": "2019-08-30T08:59:41",
          "Queue No": 1049,
          "Valid": "Y",
          "index": 0
         },
         {
          "QDate_QTime": "2019-08-30T09:01:21",
          "Queue No": 1050,
          "Valid": "Y",
          "index": 0
         },
         {
          "QDate_QTime": "2019-08-30T09:01:42",
          "Queue No": 1051,
          "Valid": "Y",
          "index": 0
         },
         {
          "QDate_QTime": "2019-08-30T09:02:01",
          "Queue No": 1052,
          "Valid": "Y",
          "index": 0
         },
         {
          "QDate_QTime": "2019-08-30T09:45:54",
          "Queue No": 1052,
          "Valid": "Y",
          "index": 1
         },
         {
          "QDate_QTime": "2019-08-30T09:05:00",
          "Queue No": 1053,
          "Valid": "Y",
          "index": 0
         },
         {
          "QDate_QTime": "2019-08-30T09:05:24",
          "Queue No": 1054,
          "Valid": "Y",
          "index": 0
         },
         {
          "QDate_QTime": "2019-08-30T09:07:06",
          "Queue No": 1055,
          "Valid": "N",
          "index": 0
         },
         {
          "QDate_QTime": "2019-08-30T09:08:42",
          "Queue No": 1056,
          "Valid": "Y",
          "index": 0
         },
         {
          "QDate_QTime": "2019-08-30T09:10:27",
          "Queue No": 1057,
          "Valid": "Y",
          "index": 0
         },
         {
          "QDate_QTime": "2019-08-30T09:12:28",
          "Queue No": 1058,
          "Valid": "Y",
          "index": 0
         },
         {
          "QDate_QTime": "2019-08-30T09:49:32",
          "Queue No": 1058,
          "Valid": "Y",
          "index": 1
         },
         {
          "QDate_QTime": "2019-08-30T09:52:54",
          "Queue No": 1058,
          "Valid": "Y",
          "index": 2
         },
         {
          "QDate_QTime": "2019-08-30T10:10:09",
          "Queue No": 1058,
          "Valid": "Y",
          "index": 3
         },
         {
          "QDate_QTime": "2019-08-30T09:16:43",
          "Queue No": 1059,
          "Valid": "Y",
          "index": 0
         },
         {
          "QDate_QTime": "2019-08-30T09:57:04",
          "Queue No": 1059,
          "Valid": "Y",
          "index": 1
         },
         {
          "QDate_QTime": "2019-08-30T09:23:46",
          "Queue No": 1060,
          "Valid": "Y",
          "index": 0
         },
         {
          "QDate_QTime": "2019-08-30T09:59:39",
          "Queue No": 1060,
          "Valid": "Y",
          "index": 1
         },
         {
          "QDate_QTime": "2019-08-30T10:01:25",
          "Queue No": 1060,
          "Valid": "Y",
          "index": 2
         },
         {
          "QDate_QTime": "2019-08-30T10:18:05",
          "Queue No": 1060,
          "Valid": "Y",
          "index": 3
         },
         {
          "QDate_QTime": "2019-08-30T09:27:54",
          "Queue No": 1061,
          "Valid": "Y",
          "index": 0
         },
         {
          "QDate_QTime": "2019-08-30T10:10:50",
          "Queue No": 1061,
          "Valid": "Y",
          "index": 1
         },
         {
          "QDate_QTime": "2019-08-30T09:38:19",
          "Queue No": 1062,
          "Valid": "Y",
          "index": 0
         },
         {
          "QDate_QTime": "2019-08-30T10:14:30",
          "Queue No": 1062,
          "Valid": "Y",
          "index": 1
         },
         {
          "QDate_QTime": "2019-08-30T09:39:58",
          "Queue No": 1063,
          "Valid": "Y",
          "index": 0
         },
         {
          "QDate_QTime": "2019-08-30T10:20:25",
          "Queue No": 1063,
          "Valid": "Y",
          "index": 1
         },
         {
          "QDate_QTime": "2019-08-30T09:40:05",
          "Queue No": 1064,
          "Valid": "Y",
          "index": 0
         },
         {
          "QDate_QTime": "2019-08-30T10:23:36",
          "Queue No": 1064,
          "Valid": "Y",
          "index": 1
         },
         {
          "QDate_QTime": "2019-08-30T10:26:54",
          "Queue No": 1064,
          "Valid": "Y",
          "index": 2
         },
         {
          "QDate_QTime": "2019-08-30T09:41:54",
          "Queue No": 1065,
          "Valid": "Y",
          "index": 0
         },
         {
          "QDate_QTime": "2019-08-30T09:42:35",
          "Queue No": 1066,
          "Valid": "Y",
          "index": 0
         },
         {
          "QDate_QTime": "2019-08-30T10:29:37",
          "Queue No": 1066,
          "Valid": "Y",
          "index": 1
         },
         {
          "QDate_QTime": "2019-08-30T09:43:22",
          "Queue No": 1067,
          "Valid": "Y",
          "index": 0
         },
         {
          "QDate_QTime": "2019-08-30T09:49:10",
          "Queue No": 1068,
          "Valid": "Y",
          "index": 0
         },
         {
          "QDate_QTime": "2019-08-30T10:36:51",
          "Queue No": 1068,
          "Valid": "Y",
          "index": 1
         },
         {
          "QDate_QTime": "2019-08-30T09:55:18",
          "Queue No": 1069,
          "Valid": "Y",
          "index": 0
         },
         {
          "QDate_QTime": "2019-08-30T09:56:58",
          "Queue No": 1070,
          "Valid": "Y",
          "index": 0
         },
         {
          "QDate_QTime": "2019-08-30T09:59:06",
          "Queue No": 1071,
          "Valid": "Y",
          "index": 0
         },
         {
          "QDate_QTime": "2019-08-30T10:08:24",
          "Queue No": 1072,
          "Valid": "Y",
          "index": 0
         },
         {
          "QDate_QTime": "2019-08-30T10:53:18",
          "Queue No": 1072,
          "Valid": "Y",
          "index": 1
         },
         {
          "QDate_QTime": "2019-08-30T10:12:25",
          "Queue No": 1073,
          "Valid": "N",
          "index": 0
         },
         {
          "QDate_QTime": "2019-08-30T10:14:18",
          "Queue No": 1074,
          "Valid": "Y",
          "index": 0
         },
         {
          "QDate_QTime": "2019-08-30T10:59:12",
          "Queue No": 1074,
          "Valid": "Y",
          "index": 1
         },
         {
          "QDate_QTime": "2019-08-30T10:16:05",
          "Queue No": 1075,
          "Valid": "Y",
          "index": 0
         },
         {
          "QDate_QTime": "2019-08-30T10:30:49",
          "Queue No": 1076,
          "Valid": "Y",
          "index": 0
         },
         {
          "QDate_QTime": "2019-08-30T10:33:05",
          "Queue No": 1077,
          "Valid": "N",
          "index": 0
         },
         {
          "QDate_QTime": "2019-08-30T10:36:28",
          "Queue No": 1078,
          "Valid": "Y",
          "index": 0
         },
         {
          "QDate_QTime": "2019-08-31T07:24:35",
          "Queue No": 1001,
          "Valid": "Y",
          "index": 0
         },
         {
          "QDate_QTime": "2019-08-31T07:28:39",
          "Queue No": 1002,
          "Valid": "Y",
          "index": 0
         },
         {
          "QDate_QTime": "2019-08-31T07:35:30",
          "Queue No": 1003,
          "Valid": "Y",
          "index": 0
         },
         {
          "QDate_QTime": "2019-08-31T07:59:36",
          "Queue No": 1003,
          "Valid": "Y",
          "index": 1
         },
         {
          "QDate_QTime": "2019-08-31T07:37:29",
          "Queue No": 1004,
          "Valid": "Y",
          "index": 0
         },
         {
          "QDate_QTime": "2019-08-31T08:05:46",
          "Queue No": 1004,
          "Valid": "Y",
          "index": 0
         },
         {
          "QDate_QTime": "2019-08-31T07:41:23",
          "Queue No": 1005,
          "Valid": "Y",
          "index": 0
         },
         {
          "QDate_QTime": "2019-08-31T07:45:38",
          "Queue No": 1006,
          "Valid": "Y",
          "index": 0
         },
         {
          "QDate_QTime": "2019-08-31T08:14:18",
          "Queue No": 1006,
          "Valid": "Y",
          "index": 1
         },
         {
          "QDate_QTime": "2019-08-31T08:19:43",
          "Queue No": 1006,
          "Valid": "Y",
          "index": 2
         },
         {
          "QDate_QTime": "2019-08-31T07:46:09",
          "Queue No": 1007,
          "Valid": "Y",
          "index": 0
         },
         {
          "QDate_QTime": "2019-08-31T08:23:41",
          "Queue No": 1007,
          "Valid": "Y",
          "index": 1
         },
         {
          "QDate_QTime": "2019-08-31T07:48:29",
          "Queue No": 1008,
          "Valid": "Y",
          "index": 0
         },
         {
          "QDate_QTime": "2019-08-31T08:28:30",
          "Queue No": 1008,
          "Valid": "Y",
          "index": 1
         },
         {
          "QDate_QTime": "2019-08-31T07:48:58",
          "Queue No": 1009,
          "Valid": "Y",
          "index": 0
         },
         {
          "QDate_QTime": "2019-08-31T08:29:50",
          "Queue No": 1009,
          "Valid": "N",
          "index": 1
         },
         {
          "QDate_QTime": "2019-08-31T08:29:55",
          "Queue No": 1009,
          "Valid": "N",
          "index": 2
         },
         {
          "QDate_QTime": "2019-08-31T08:30:00",
          "Queue No": 1009,
          "Valid": "N",
          "index": 3
         },
         {
          "QDate_QTime": "2019-08-31T08:30:08",
          "Queue No": 1009,
          "Valid": "Y",
          "index": 4
         },
         {
          "QDate_QTime": "2019-08-31T08:31:54",
          "Queue No": 1009,
          "Valid": "Y",
          "index": 5
         },
         {
          "QDate_QTime": "2019-08-31T07:49:54",
          "Queue No": 1010,
          "Valid": "Y",
          "index": 0
         },
         {
          "QDate_QTime": "2019-08-31T08:36:37",
          "Queue No": 1010,
          "Valid": "N",
          "index": 1
         },
         {
          "QDate_QTime": "2019-08-31T08:36:42",
          "Queue No": 1010,
          "Valid": "Y",
          "index": 2
         },
         {
          "QDate_QTime": "2019-08-31T08:42:36",
          "Queue No": 1010,
          "Valid": "Y",
          "index": 3
         },
         {
          "QDate_QTime": "2019-08-31T07:51:15",
          "Queue No": 1011,
          "Valid": "Y",
          "index": 0
         },
         {
          "QDate_QTime": "2019-08-31T08:43:41",
          "Queue No": 1011,
          "Valid": "Y",
          "index": 1
         },
         {
          "QDate_QTime": "2019-08-31T07:52:33",
          "Queue No": 1012,
          "Valid": "Y",
          "index": 0
         },
         {
          "QDate_QTime": "2019-08-31T08:50:02",
          "Queue No": 1012,
          "Valid": "N",
          "index": 1
         },
         {
          "QDate_QTime": "2019-08-31T08:50:07",
          "Queue No": 1012,
          "Valid": "Y",
          "index": 2
         },
         {
          "QDate_QTime": "2019-08-31T08:59:14",
          "Queue No": 1012,
          "Valid": "Y",
          "index": 3
         },
         {
          "QDate_QTime": "2019-08-31T07:52:52",
          "Queue No": 1013,
          "Valid": "Y",
          "index": 0
         },
         {
          "QDate_QTime": "2019-08-31T09:24:14",
          "Queue No": 1013,
          "Valid": "Y",
          "index": 1
         },
         {
          "QDate_QTime": "2019-08-31T09:27:33",
          "Queue No": 1013,
          "Valid": "Y",
          "index": 2
         },
         {
          "QDate_QTime": "2019-08-31T07:53:20",
          "Queue No": 1014,
          "Valid": "Y",
          "index": 0
         },
         {
          "QDate_QTime": "2019-08-31T09:02:05",
          "Queue No": 1014,
          "Valid": "N",
          "index": 1
         },
         {
          "QDate_QTime": "2019-08-31T09:02:20",
          "Queue No": 1014,
          "Valid": "Y",
          "index": 2
         },
         {
          "QDate_QTime": "2019-08-31T09:05:55",
          "Queue No": 1014,
          "Valid": "N",
          "index": 3
         },
         {
          "QDate_QTime": "2019-08-31T09:07:19",
          "Queue No": 1014,
          "Valid": "Y",
          "index": 4
         },
         {
          "QDate_QTime": "2019-08-31T07:57:36",
          "Queue No": 1015,
          "Valid": "Y",
          "index": 0
         },
         {
          "QDate_QTime": "2019-08-31T09:07:41",
          "Queue No": 1015,
          "Valid": "N",
          "index": 1
         },
         {
          "QDate_QTime": "2019-08-31T09:07:46",
          "Queue No": 1015,
          "Valid": "Y",
          "index": 2
         },
         {
          "QDate_QTime": "2019-08-31T08:02:26",
          "Queue No": 1016,
          "Valid": "Y",
          "index": 0
         },
         {
          "QDate_QTime": "2019-08-31T09:13:27",
          "Queue No": 1016,
          "Valid": "N",
          "index": 1
         },
         {
          "QDate_QTime": "2019-08-31T09:13:36",
          "Queue No": 1016,
          "Valid": "Y",
          "index": 2
         },
         {
          "QDate_QTime": "2019-08-31T08:05:27",
          "Queue No": 1017,
          "Valid": "Y",
          "index": 0
         },
         {
          "QDate_QTime": "2019-08-31T09:18:05",
          "Queue No": 1017,
          "Valid": "N",
          "index": 1
         },
         {
          "QDate_QTime": "2019-08-31T09:18:10",
          "Queue No": 1017,
          "Valid": "N",
          "index": 2
         },
         {
          "QDate_QTime": "2019-08-31T09:18:15",
          "Queue No": 1017,
          "Valid": "N",
          "index": 3
         },
         {
          "QDate_QTime": "2019-08-31T09:18:20",
          "Queue No": 1017,
          "Valid": "N",
          "index": 4
         },
         {
          "QDate_QTime": "2019-08-31T09:18:25",
          "Queue No": 1017,
          "Valid": "Y",
          "index": 5
         },
         {
          "QDate_QTime": "2019-08-31T08:06:02",
          "Queue No": 1018,
          "Valid": "Y",
          "index": 0
         },
         {
          "QDate_QTime": "2019-08-31T09:28:53",
          "Queue No": 1018,
          "Valid": "Y",
          "index": 1
         },
         {
          "QDate_QTime": "2019-08-31T09:32:50",
          "Queue No": 1018,
          "Valid": "Y",
          "index": 2
         },
         {
          "QDate_QTime": "2019-08-31T09:33:26",
          "Queue No": 1018,
          "Valid": "N",
          "index": 3
         },
         {
          "QDate_QTime": "2019-08-31T09:33:37",
          "Queue No": 1018,
          "Valid": "Y",
          "index": 4
         },
         {
          "QDate_QTime": "2019-08-31T09:34:00",
          "Queue No": 1018,
          "Valid": "N",
          "index": 5
         },
         {
          "QDate_QTime": "2019-08-31T09:34:28",
          "Queue No": 1018,
          "Valid": "Y",
          "index": 6
         },
         {
          "QDate_QTime": "2019-08-31T08:10:23",
          "Queue No": 1019,
          "Valid": "Y",
          "index": 0
         },
         {
          "QDate_QTime": "2019-08-31T09:33:05",
          "Queue No": 1019,
          "Valid": "N",
          "index": 1
         },
         {
          "QDate_QTime": "2019-08-31T09:33:10",
          "Queue No": 1019,
          "Valid": "Y",
          "index": 2
         },
         {
          "QDate_QTime": "2019-08-31T09:36:13",
          "Queue No": 1019,
          "Valid": "Y",
          "index": 3
         },
         {
          "QDate_QTime": "2019-08-31T08:10:49",
          "Queue No": 1020,
          "Valid": "Y",
          "index": 0
         },
         {
          "QDate_QTime": "2019-08-31T09:36:26",
          "Queue No": 1020,
          "Valid": "N",
          "index": 1
         },
         {
          "QDate_QTime": "2019-08-31T09:36:32",
          "Queue No": 1020,
          "Valid": "N",
          "index": 2
         },
         {
          "QDate_QTime": "2019-08-31T09:36:37",
          "Queue No": 1020,
          "Valid": "Y",
          "index": 3
         },
         {
          "QDate_QTime": "2019-08-31T08:28:25",
          "Queue No": 1021,
          "Valid": "Y",
          "index": 0
         },
         {
          "QDate_QTime": "2019-08-31T08:56:57",
          "Queue No": 1021,
          "Valid": "Y",
          "index": 0
         },
         {
          "QDate_QTime": "2019-08-31T09:39:41",
          "Queue No": 1021,
          "Valid": "Y",
          "index": 1
         },
         {
          "QDate_QTime": "2019-08-31T09:43:17",
          "Queue No": 1021,
          "Valid": "Y",
          "index": 2
         },
         {
          "QDate_QTime": "2019-08-31T09:44:35",
          "Queue No": 1021,
          "Valid": "Y",
          "index": 3
         },
         {
          "QDate_QTime": "2019-08-31T09:45:05",
          "Queue No": 1021,
          "Valid": "N",
          "index": 4
         },
         {
          "QDate_QTime": "2019-08-31T08:29:02",
          "Queue No": 1022,
          "Valid": "Y",
          "index": 0
         },
         {
          "QDate_QTime": "2019-08-31T09:45:13",
          "Queue No": 1022,
          "Valid": "N",
          "index": 1
         },
         {
          "QDate_QTime": "2019-08-31T09:45:18",
          "Queue No": 1022,
          "Valid": "N",
          "index": 2
         },
         {
          "QDate_QTime": "2019-08-31T09:45:24",
          "Queue No": 1022,
          "Valid": "N",
          "index": 3
         },
         {
          "QDate_QTime": "2019-08-31T09:45:29",
          "Queue No": 1022,
          "Valid": "N",
          "index": 4
         },
         {
          "QDate_QTime": "2019-08-31T09:45:38",
          "Queue No": 1022,
          "Valid": "Y",
          "index": 5
         },
         {
          "QDate_QTime": "2019-08-31T09:49:43",
          "Queue No": 1022,
          "Valid": "Y",
          "index": 6
         },
         {
          "QDate_QTime": "2019-08-31T09:56:11",
          "Queue No": 1022,
          "Valid": "Y",
          "index": 7
         },
         {
          "QDate_QTime": "2019-08-31T08:30:09",
          "Queue No": 1023,
          "Valid": "Y",
          "index": 0
         },
         {
          "QDate_QTime": "2019-08-31T09:52:58",
          "Queue No": 1023,
          "Valid": "Y",
          "index": 1
         },
         {
          "QDate_QTime": "2019-08-31T08:30:10",
          "Queue No": 1024,
          "Valid": "Y",
          "index": 0
         },
         {
          "QDate_QTime": "2019-08-31T09:53:15",
          "Queue No": 1024,
          "Valid": "N",
          "index": 1
         },
         {
          "QDate_QTime": "2019-08-31T09:53:27",
          "Queue No": 1024,
          "Valid": "N",
          "index": 2
         },
         {
          "QDate_QTime": "2019-08-31T08:40:48",
          "Queue No": 1025,
          "Valid": "Y",
          "index": 0
         },
         {
          "QDate_QTime": "2019-08-31T09:57:22",
          "Queue No": 1025,
          "Valid": "Y",
          "index": 1
         },
         {
          "QDate_QTime": "2019-08-31T08:41:17",
          "Queue No": 1026,
          "Valid": "Y",
          "index": 0
         },
         {
          "QDate_QTime": "2019-08-31T10:00:24",
          "Queue No": 1026,
          "Valid": "Y",
          "index": 1
         },
         {
          "QDate_QTime": "2019-08-31T08:43:44",
          "Queue No": 1027,
          "Valid": "Y",
          "index": 0
         },
         {
          "QDate_QTime": "2019-08-31T10:02:36",
          "Queue No": 1027,
          "Valid": "Y",
          "index": 1
         },
         {
          "QDate_QTime": "2019-08-31T10:06:43",
          "Queue No": 1027,
          "Valid": "Y",
          "index": 2
         },
         {
          "QDate_QTime": "2019-08-31T10:15:36",
          "Queue No": 1027,
          "Valid": "Y",
          "index": 3
         },
         {
          "QDate_QTime": "2019-08-31T08:48:38",
          "Queue No": 1028,
          "Valid": "Y",
          "index": 0
         },
         {
          "QDate_QTime": "2019-08-31T10:07:46",
          "Queue No": 1028,
          "Valid": "Y",
          "index": 1
         },
         {
          "QDate_QTime": "2019-08-31T10:11:12",
          "Queue No": 1028,
          "Valid": "Y",
          "index": 2
         },
         {
          "QDate_QTime": "2019-08-31T09:36:57",
          "Queue No": 1029,
          "Valid": "Y",
          "index": 0
         },
         {
          "QDate_QTime": "2019-08-31T10:12:55",
          "Queue No": 1029,
          "Valid": "Y",
          "index": 1
         },
         {
          "QDate_QTime": "2019-08-31T10:17:23",
          "Queue No": 1029,
          "Valid": "Y",
          "index": 2
         },
         {
          "QDate_QTime": "2019-08-31T09:52:36",
          "Queue No": 1030,
          "Valid": "Y",
          "index": 0
         },
         {
          "QDate_QTime": "2019-08-31T10:29:00",
          "Queue No": 1030,
          "Valid": "Y",
          "index": 0
         },
         {
          "QDate_QTime": "2019-08-31T10:33:08",
          "Queue No": 1030,
          "Valid": "N",
          "index": 1
         }
        ]
       },
       "hconcat": [
        {
         "encoding": {
          "tooltip": [
           {
            "field": "QDate_QTime",
            "timeUnit": "monthdate",
            "title": "Date",
            "type": "ordinal"
           },
           {
            "aggregate": "distinct",
            "field": "Queue No",
            "title": "# of Patients",
            "type": "nominal"
           }
          ],
          "x": {
           "field": "QDate_QTime",
           "timeUnit": "monthdate",
           "title": "Date",
           "type": "ordinal"
          },
          "y": {
           "aggregate": "distinct",
           "field": "Queue No",
           "title": "Patient Count",
           "type": "nominal"
          }
         },
         "mark": {
          "color": "#3192b0",
          "type": "bar"
         },
         "title": "Patient Distribution",
         "transform": [
          {
           "filter": "((datum.index === 0) && (datum.Valid === 'Y'))"
          }
         ],
         "width": 250
        },
        {
         "encoding": {
          "color": {
           "aggregate": "distinct",
           "field": "Queue No",
           "title": "Number of Patients",
           "type": "nominal"
          },
          "tooltip": [
           {
            "aggregate": "distinct",
            "field": "Queue No",
            "title": "# of Patients",
            "type": "nominal"
           }
          ],
          "x": {
           "field": "QDate_QTime",
           "timeUnit": "hours",
           "title": "Hour of Day",
           "type": "ordinal"
          },
          "y": {
           "field": "QDate_QTime",
           "timeUnit": "monthdate",
           "title": "Date",
           "type": "ordinal"
          }
         },
         "mark": "rect",
         "title": "Patient Arrival Distribution",
         "transform": [
          {
           "filter": "((datum.index === 0) && (datum.Valid === 'Y'))"
          }
         ]
        }
       ]
      },
      "image/png": "[encoded data removed]",
      "text/plain": [
       "<VegaLite 3 object>\n",
       "\n",
       "If you see this message, it means the renderer has not been properly enabled\n",
       "for the frontend that you are using. For more information, see\n",
       "https://altair-viz.github.io/user_guide/troubleshooting.html\n"
      ]
     },
     "execution_count": 1,
     "metadata": {},
     "output_type": "execute_result"
    }
   ],
   "source": [
    "from altair import datum\n",
    "import altair as alt\n",
    "import pandas as pd\n",
    "\n",
    "data = pd.read_csv('data/queue_data.csv', parse_dates=[['QDate', 'QTime']])\n",
    "\n",
    "# Use only necessary labels, i.e valid patients\n",
    "patients = data.loc[:,['QDate_QTime','Queue No', 'index', 'Valid']]\n",
    "\n",
    "heatmap = alt.Chart(patients).mark_rect().encode(\n",
    "    y=alt.Y('monthdate(QDate_QTime):O', title='Date'),\n",
    "    x=alt.X('hours(QDate_QTime):O', title='Hour of Day'),\n",
    "    color=alt.Color('distinct(Queue No):N', title='Number of Patients'),\n",
    "    tooltip=[\n",
    "        alt.Text('distinct(Queue No):N', title='# of Patients')\n",
    "    ]\n",
    ").transform_filter(\n",
    "    (datum.index == 0) &\n",
    "    (datum.Valid == 'Y')\n",
    ")\n",
    "\n",
    "barchart = alt.Chart(patients).mark_bar(color='#3192b0').encode(\n",
    "    y=alt.Y('distinct(Queue No):N', title='Patient Count'),\n",
    "    x=alt.X('monthdate(QDate_QTime):O', title='Date'),\n",
    "    tooltip=[\n",
    "        alt.Text('monthdate(QDate_QTime):O', title='Date'),\n",
    "        alt.Text('distinct(Queue No):N', title='# of Patients')\n",
    "    ]\n",
    ").transform_filter(\n",
    "    (datum.index == 0) &\n",
    "    (datum.Valid == 'Y')\n",
    ")\n",
    "\n",
    "alt.hconcat(\n",
    "    barchart.properties(title='Patient Distribution', width=250),\n",
    "    heatmap.properties(title='Patient Arrival Distribution')\n",
    ")\n"
   ]
  },
  {
   "cell_type": "code",
   "execution_count": 2,
   "metadata": {},
   "outputs": [
    {
     "data": {
      "application/vnd.vegalite.v3+json": {
       "$schema": "https://vega.github.io/schema/vega-lite/v3.4.0.json",
       "config": {
        "mark": {
         "tooltip": null
        },
        "view": {
         "height": 300,
         "width": 400
        }
       },
       "data": {
        "name": "data-e512f84173e84f324d8db18b61deb452"
       },
       "datasets": {
        "data-e512f84173e84f324d8db18b61deb452": [
         {
          "Counter": "Ultrasound Room 5",
          "QDate_Start": "10-Aug-19 7:43:16",
          "Queue No": 1001,
          "ST": 3,
          "Valid": "Y"
         },
         {
          "Counter": "Ultrasound Room 5",
          "QDate_Start": "10-Aug-19 7:52:21",
          "Queue No": 1001,
          "ST": 0,
          "Valid": "Y"
         },
         {
          "Counter": "Review Room 4",
          "QDate_Start": "10-Aug-19 8:16:52",
          "Queue No": 1001,
          "ST": 3,
          "Valid": "Y"
         },
         {
          "Counter": "Ultrasound Room 5",
          "QDate_Start": "10-Aug-19 7:37:50",
          "Queue No": 1002,
          "ST": 3,
          "Valid": "Y"
         },
         {
          "Counter": "Review Room 4",
          "QDate_Start": "10-Aug-19 8:21:12",
          "Queue No": 1002,
          "ST": 2,
          "Valid": "Y"
         },
         {
          "Counter": "Ultrasound Room 5",
          "QDate_Start": "10-Aug-19 7:46:49",
          "Queue No": 1003,
          "ST": 5,
          "Valid": "Y"
         },
         {
          "Counter": null,
          "QDate_Start": "10-Aug-19 nan",
          "Queue No": 1003,
          "ST": 0,
          "Valid": "N"
         },
         {
          "Counter": "Review Room 4",
          "QDate_Start": "10-Aug-19 8:23:41",
          "Queue No": 1004,
          "ST": 4,
          "Valid": "Y"
         },
         {
          "Counter": null,
          "QDate_Start": "10-Aug-19 7:30:13",
          "Queue No": 1005,
          "ST": 0,
          "Valid": "Y"
         },
         {
          "Counter": null,
          "QDate_Start": "10-Aug-19 7:30:33",
          "Queue No": 1006,
          "ST": 0,
          "Valid": "Y"
         },
         {
          "Counter": null,
          "QDate_Start": "10-Aug-19 7:30:42",
          "Queue No": 1007,
          "ST": 0,
          "Valid": "Y"
         },
         {
          "Counter": null,
          "QDate_Start": "10-Aug-19 7:30:49",
          "Queue No": 1008,
          "ST": 0,
          "Valid": "Y"
         },
         {
          "Counter": "Ultrasound Room 5",
          "QDate_Start": "10-Aug-19 7:51:36",
          "Queue No": 1009,
          "ST": 0,
          "Valid": "Y"
         },
         {
          "Counter": "Ultrasound Room 5",
          "QDate_Start": "10-Aug-19 7:51:53",
          "Queue No": 1009,
          "ST": 1,
          "Valid": "Y"
         },
         {
          "Counter": "Ultrasound Room 5",
          "QDate_Start": "10-Aug-19 7:52:31",
          "Queue No": 1010,
          "ST": 1,
          "Valid": "Y"
         },
         {
          "Counter": "Treatment Room 3",
          "QDate_Start": "10-Aug-19 8:31:33",
          "Queue No": 1010,
          "ST": 8,
          "Valid": "Y"
         },
         {
          "Counter": "Ultrasound Room 5",
          "QDate_Start": "10-Aug-19 7:57:42",
          "Queue No": 1011,
          "ST": 2,
          "Valid": "Y"
         },
         {
          "Counter": "Ultrasound Room 5",
          "QDate_Start": "10-Aug-19 8:07:19",
          "Queue No": 1011,
          "ST": 3,
          "Valid": "Y"
         },
         {
          "Counter": "Treatment Room 3",
          "QDate_Start": "10-Aug-19 8:39:09",
          "Queue No": 1011,
          "ST": 9,
          "Valid": "Y"
         },
         {
          "Counter": "Ultrasound Room 5",
          "QDate_Start": "10-Aug-19 7:59:00",
          "Queue No": 1012,
          "ST": 0,
          "Valid": "Y"
         },
         {
          "Counter": "Review Room 4",
          "QDate_Start": "10-Aug-19 8:27:53",
          "Queue No": 1012,
          "ST": 7,
          "Valid": "Y"
         },
         {
          "Counter": "Ultrasound Room 5",
          "QDate_Start": "10-Aug-19 8:10:47",
          "Queue No": 1013,
          "ST": 1,
          "Valid": "Y"
         },
         {
          "Counter": "Review Room 4",
          "QDate_Start": "10-Aug-19 8:38:43",
          "Queue No": 1013,
          "ST": 4,
          "Valid": "Y"
         },
         {
          "Counter": "Review Room 4",
          "QDate_Start": "10-Aug-19 8:49:13",
          "Queue No": 1014,
          "ST": 5,
          "Valid": "Y"
         },
         {
          "Counter": "Ultrasound Room 5",
          "QDate_Start": "10-Aug-19 8:15:33",
          "Queue No": 1015,
          "ST": 2,
          "Valid": "Y"
         },
         {
          "Counter": "Review Room 4",
          "QDate_Start": "10-Aug-19 8:42:32",
          "Queue No": 1015,
          "ST": 7,
          "Valid": "Y"
         },
         {
          "Counter": null,
          "QDate_Start": "10-Aug-19 8:34:51",
          "Queue No": 1016,
          "ST": 0,
          "Valid": "Y"
         },
         {
          "Counter": null,
          "QDate_Start": "10-Aug-19 nan",
          "Queue No": 1017,
          "ST": 0,
          "Valid": "N"
         },
         {
          "Counter": null,
          "QDate_Start": "10-Aug-19 8:10:43",
          "Queue No": 1018,
          "ST": 0,
          "Valid": "Y"
         },
         {
          "Counter": null,
          "QDate_Start": "10-Aug-19 nan",
          "Queue No": 1019,
          "ST": 0,
          "Valid": "N"
         },
         {
          "Counter": "Ultrasound Room 5",
          "QDate_Start": "10-Aug-19 8:36:51",
          "Queue No": 1020,
          "ST": 4,
          "Valid": "Y"
         },
         {
          "Counter": "Treatment Room 3",
          "QDate_Start": "10-Aug-19 8:48:07",
          "Queue No": 1020,
          "ST": 3,
          "Valid": "Y"
         },
         {
          "Counter": "Ultrasound Room 5",
          "QDate_Start": "10-Aug-19 8:20:19",
          "Queue No": 1021,
          "ST": 1,
          "Valid": "Y"
         },
         {
          "Counter": "Review Room 4",
          "QDate_Start": "10-Aug-19 8:54:45",
          "Queue No": 1021,
          "ST": 4,
          "Valid": "Y"
         },
         {
          "Counter": null,
          "QDate_Start": "10-Aug-19 nan",
          "Queue No": 1022,
          "ST": 0,
          "Valid": "N"
         },
         {
          "Counter": "Ultrasound Room 5",
          "QDate_Start": "10-Aug-19 8:25:41",
          "Queue No": 1023,
          "ST": 5,
          "Valid": "Y"
         },
         {
          "Counter": "Treatment Room 3",
          "QDate_Start": "10-Aug-19 9:01:20",
          "Queue No": 1023,
          "ST": 5,
          "Valid": "Y"
         },
         {
          "Counter": null,
          "QDate_Start": "10-Aug-19 nan",
          "Queue No": 1024,
          "ST": 0,
          "Valid": "N"
         },
         {
          "Counter": "Ultrasound Room 5",
          "QDate_Start": "10-Aug-19 8:30:54",
          "Queue No": 1025,
          "ST": 2,
          "Valid": "Y"
         },
         {
          "Counter": "Treatment Room 3",
          "QDate_Start": "10-Aug-19 8:51:16",
          "Queue No": 1025,
          "ST": 4,
          "Valid": "Y"
         },
         {
          "Counter": "Ultrasound Room 5",
          "QDate_Start": "10-Aug-19 8:41:30",
          "Queue No": 1026,
          "ST": 4,
          "Valid": "Y"
         },
         {
          "Counter": "Treatment Room 3",
          "QDate_Start": "10-Aug-19 8:55:45",
          "Queue No": 1026,
          "ST": 6,
          "Valid": "Y"
         },
         {
          "Counter": "Ultrasound Room 5",
          "QDate_Start": "10-Aug-19 8:45:16",
          "Queue No": 1027,
          "ST": 2,
          "Valid": "Y"
         },
         {
          "Counter": "Review Room 4",
          "QDate_Start": "10-Aug-19 8:58:06",
          "Queue No": 1027,
          "ST": 5,
          "Valid": "Y"
         },
         {
          "Counter": "Ultrasound Room 5",
          "QDate_Start": "10-Aug-19 8:50:00",
          "Queue No": 1028,
          "ST": 1,
          "Valid": "Y"
         },
         {
          "Counter": "Treatment Room 3",
          "QDate_Start": "10-Aug-19 9:06:15",
          "Queue No": 1028,
          "ST": 5,
          "Valid": "Y"
         },
         {
          "Counter": "Review Room 4",
          "QDate_Start": "10-Aug-19 9:34:35",
          "Queue No": 1029,
          "ST": 4,
          "Valid": "Y"
         },
         {
          "Counter": "Review Room 4",
          "QDate_Start": "10-Aug-19 9:38:56",
          "Queue No": 1029,
          "ST": 2,
          "Valid": "Y"
         },
         {
          "Counter": null,
          "QDate_Start": "10-Aug-19 nan",
          "Queue No": 1030,
          "ST": 0,
          "Valid": "N"
         },
         {
          "Counter": "Review Room 4",
          "QDate_Start": "10-Aug-19 9:40:16",
          "Queue No": 1031,
          "ST": 0,
          "Valid": "Y"
         },
         {
          "Counter": "Review Room 4",
          "QDate_Start": "10-Aug-19 9:40:48",
          "Queue No": 1031,
          "ST": 3,
          "Valid": "Y"
         },
         {
          "Counter": "Review Room 4",
          "QDate_Start": "10-Aug-19 9:48:26",
          "Queue No": 1031,
          "ST": 5,
          "Valid": "Y"
         },
         {
          "Counter": "Ultrasound Room 5",
          "QDate_Start": "10-Aug-19 9:04:28",
          "Queue No": 1032,
          "ST": 2,
          "Valid": "Y"
         },
         {
          "Counter": "Review Room 4",
          "QDate_Start": "10-Aug-19 9:10:53",
          "Queue No": 1032,
          "ST": 1,
          "Valid": "Y"
         },
         {
          "Counter": "Review Room 4",
          "QDate_Start": "10-Aug-19 9:11:50",
          "Queue No": 1032,
          "ST": 23,
          "Valid": "Y"
         },
         {
          "Counter": "Treatment Room 3",
          "QDate_Start": "10-Aug-19 9:51:35",
          "Queue No": 1033,
          "ST": 1,
          "Valid": "Y"
         },
         {
          "Counter": "Treatment Room 3",
          "QDate_Start": "10-Aug-19 9:52:02",
          "Queue No": 1033,
          "ST": 3,
          "Valid": "Y"
         },
         {
          "Counter": "Review Room 4",
          "QDate_Start": "10-Aug-19 9:53:32",
          "Queue No": 1034,
          "ST": 4,
          "Valid": "Y"
         },
         {
          "Counter": null,
          "QDate_Start": "10-Aug-19 nan",
          "Queue No": 1035,
          "ST": 0,
          "Valid": "N"
         },
         {
          "Counter": "Ultrasound Room 5",
          "QDate_Start": "10-Aug-19 8:58:30",
          "Queue No": 1036,
          "ST": 1,
          "Valid": "Y"
         },
         {
          "Counter": "Treatment Room 3",
          "QDate_Start": "10-Aug-19 9:11:07",
          "Queue No": 1036,
          "ST": 1,
          "Valid": "Y"
         },
         {
          "Counter": "Treatment Room 3",
          "QDate_Start": "10-Aug-19 9:12:43",
          "Queue No": 1036,
          "ST": 21,
          "Valid": "Y"
         },
         {
          "Counter": "Ultrasound Room 5",
          "QDate_Start": "10-Aug-19 9:09:35",
          "Queue No": 1037,
          "ST": 2,
          "Valid": "Y"
         },
         {
          "Counter": "Treatment Room 3",
          "QDate_Start": "10-Aug-19 9:33:00",
          "Queue No": 1037,
          "ST": 18,
          "Valid": "Y"
         },
         {
          "Counter": "Review Room 4",
          "QDate_Start": "10-Aug-19 9:03:39",
          "Queue No": 1038,
          "ST": 7,
          "Valid": "Y"
         },
         {
          "Counter": null,
          "QDate_Start": "10-Aug-19 nan",
          "Queue No": 1039,
          "ST": 0,
          "Valid": "N"
         },
         {
          "Counter": "Ultrasound Room 5",
          "QDate_Start": "10-Aug-19 9:16:46",
          "Queue No": 1040,
          "ST": 9,
          "Valid": "Y"
         },
         {
          "Counter": "Review Room 4",
          "QDate_Start": "10-Aug-19 9:43:38",
          "Queue No": 1040,
          "ST": 5,
          "Valid": "Y"
         },
         {
          "Counter": "Ultrasound Room 5",
          "QDate_Start": "10-Aug-19 9:25:46",
          "Queue No": 1041,
          "ST": 2,
          "Valid": "Y"
         },
         {
          "Counter": "Treatment Room 3",
          "QDate_Start": "10-Aug-19 9:55:33",
          "Queue No": 1041,
          "ST": 2,
          "Valid": "Y"
         },
         {
          "Counter": "Ultrasound Room 5",
          "QDate_Start": "10-Aug-19 9:29:16",
          "Queue No": 1042,
          "ST": 3,
          "Valid": "Y"
         },
         {
          "Counter": "Treatment Room 3",
          "QDate_Start": "10-Aug-19 10:01:34",
          "Queue No": 1042,
          "ST": 4,
          "Valid": "Y"
         },
         {
          "Counter": "Ultrasound Room 5",
          "QDate_Start": "10-Aug-19 9:32:40",
          "Queue No": 1043,
          "ST": 1,
          "Valid": "Y"
         },
         {
          "Counter": "Review Room 4",
          "QDate_Start": "10-Aug-19 9:57:11",
          "Queue No": 1043,
          "ST": 5,
          "Valid": "Y"
         },
         {
          "Counter": "Ultrasound Room 5",
          "QDate_Start": "10-Aug-19 9:38:20",
          "Queue No": 1044,
          "ST": 2,
          "Valid": "Y"
         },
         {
          "Counter": "Treatment Room 3",
          "QDate_Start": "10-Aug-19 10:05:08",
          "Queue No": 1044,
          "ST": 0,
          "Valid": "Y"
         },
         {
          "Counter": "Treatment Room 3",
          "QDate_Start": "10-Aug-19 10:05:23",
          "Queue No": 1044,
          "ST": 7,
          "Valid": "Y"
         },
         {
          "Counter": "Ultrasound Room 5",
          "QDate_Start": "10-Aug-19 9:44:16",
          "Queue No": 1045,
          "ST": 1,
          "Valid": "Y"
         },
         {
          "Counter": "Review Room 4",
          "QDate_Start": "10-Aug-19 10:02:11",
          "Queue No": 1045,
          "ST": 8,
          "Valid": "Y"
         },
         {
          "Counter": "Treatment Room 3",
          "QDate_Start": "10-Aug-19 10:13:41",
          "Queue No": 1046,
          "ST": 4,
          "Valid": "Y"
         },
         {
          "Counter": "Ultrasound Room 5",
          "QDate_Start": "10-Aug-19 9:50:38",
          "Queue No": 1047,
          "ST": 0,
          "Valid": "Y"
         },
         {
          "Counter": "Ultrasound Room 5",
          "QDate_Start": "10-Aug-19 9:50:49",
          "Queue No": 1047,
          "ST": 1,
          "Valid": "Y"
         },
         {
          "Counter": "Review Room 4",
          "QDate_Start": "10-Aug-19 10:10:57",
          "Queue No": 1047,
          "ST": 4,
          "Valid": "Y"
         },
         {
          "Counter": null,
          "QDate_Start": "10-Aug-19 nan",
          "Queue No": 1048,
          "ST": 0,
          "Valid": "N"
         },
         {
          "Counter": "Treatment Room 3",
          "QDate_Start": "10-Aug-19 10:17:47",
          "Queue No": 1049,
          "ST": 3,
          "Valid": "Y"
         },
         {
          "Counter": "Ultrasound Room 5",
          "QDate_Start": "10-Aug-19 9:55:42",
          "Queue No": 1050,
          "ST": 2,
          "Valid": "Y"
         },
         {
          "Counter": "Review Room 4",
          "QDate_Start": "10-Aug-19 10:14:45",
          "Queue No": 1050,
          "ST": 10,
          "Valid": "Y"
         },
         {
          "Counter": "Review Room 4",
          "QDate_Start": "10-Aug-19 10:24:33",
          "Queue No": 1051,
          "ST": 4,
          "Valid": "Y"
         },
         {
          "Counter": "Ultrasound Room 5",
          "QDate_Start": "10-Aug-19 10:06:02",
          "Queue No": 1052,
          "ST": 0,
          "Valid": "Y"
         },
         {
          "Counter": "Ultrasound Room 5",
          "QDate_Start": "10-Aug-19 10:06:20",
          "Queue No": 1052,
          "ST": 2,
          "Valid": "Y"
         },
         {
          "Counter": "Treatment Room 3",
          "QDate_Start": "10-Aug-19 10:22:03",
          "Queue No": 1052,
          "ST": 11,
          "Valid": "Y"
         },
         {
          "Counter": "Ultrasound Room 5",
          "QDate_Start": "10-Aug-19 10:10:44",
          "Queue No": 1053,
          "ST": 1,
          "Valid": "Y"
         },
         {
          "Counter": "Review Room 4",
          "QDate_Start": "10-Aug-19 10:31:06",
          "Queue No": 1053,
          "ST": 3,
          "Valid": "Y"
         },
         {
          "Counter": "Ultrasound Room 5",
          "QDate_Start": "10-Aug-19 10:17:30",
          "Queue No": 1054,
          "ST": 1,
          "Valid": "Y"
         },
         {
          "Counter": "Treatment Room 3",
          "QDate_Start": "10-Aug-19 10:33:06",
          "Queue No": 1054,
          "ST": 5,
          "Valid": "Y"
         },
         {
          "Counter": "Ultrasound Room 5",
          "QDate_Start": "10-Aug-19 10:25:04",
          "Queue No": 1055,
          "ST": 1,
          "Valid": "Y"
         },
         {
          "Counter": "Treatment Room 3",
          "QDate_Start": "10-Aug-19 10:38:03",
          "Queue No": 1055,
          "ST": 5,
          "Valid": "Y"
         },
         {
          "Counter": "Ultrasound Room 5",
          "QDate_Start": "10-Aug-19 10:29:05",
          "Queue No": 1056,
          "ST": 1,
          "Valid": "Y"
         },
         {
          "Counter": "Review Room 4",
          "QDate_Start": "10-Aug-19 10:34:23",
          "Queue No": 1056,
          "ST": 8,
          "Valid": "Y"
         },
         {
          "Counter": "Ultrasound Room 5",
          "QDate_Start": "10-Aug-19 10:33:16",
          "Queue No": 1057,
          "ST": 1,
          "Valid": "Y"
         },
         {
          "Counter": "Review Room 4",
          "QDate_Start": "10-Aug-19 10:42:25",
          "Queue No": 1057,
          "ST": 17,
          "Valid": "Y"
         },
         {
          "Counter": "Ultrasound Room 5",
          "QDate_Start": "10-Aug-19 10:38:45",
          "Queue No": 1058,
          "ST": 3,
          "Valid": "Y"
         },
         {
          "Counter": "Treatment Room 3",
          "QDate_Start": "10-Aug-19 10:43:25",
          "Queue No": 1058,
          "ST": 30,
          "Valid": "Y"
         },
         {
          "Counter": "Ultrasound Room 5",
          "QDate_Start": "10-Aug-19 10:41:26",
          "Queue No": 1059,
          "ST": 1,
          "Valid": "Y"
         },
         {
          "Counter": "Review Room 4",
          "QDate_Start": "10-Aug-19 10:59:30",
          "Queue No": 1059,
          "ST": 13,
          "Valid": "Y"
         },
         {
          "Counter": "Review Room 4",
          "QDate_Start": "10-Aug-19 11:12:34",
          "Queue No": 1060,
          "ST": 4,
          "Valid": "Y"
         },
         {
          "Counter": "Treatment Room 3",
          "QDate_Start": "10-Aug-19 11:24:10",
          "Queue No": 1061,
          "ST": 5,
          "Valid": "Y"
         },
         {
          "Counter": null,
          "QDate_Start": "10-Aug-19 nan",
          "Queue No": 1062,
          "ST": 0,
          "Valid": "N"
         },
         {
          "Counter": null,
          "QDate_Start": "10-Aug-19 nan",
          "Queue No": 1063,
          "ST": 0,
          "Valid": "N"
         },
         {
          "Counter": "Ultrasound Room 5",
          "QDate_Start": "10-Aug-19 10:50:14",
          "Queue No": 1064,
          "ST": 1,
          "Valid": "Y"
         },
         {
          "Counter": "Review Room 4",
          "QDate_Start": "10-Aug-19 11:16:59",
          "Queue No": 1064,
          "ST": 4,
          "Valid": "Y"
         },
         {
          "Counter": "Review Room 4",
          "QDate_Start": "10-Aug-19 11:25:37",
          "Queue No": 1065,
          "ST": 0,
          "Valid": "Y"
         },
         {
          "Counter": "Review Room 4",
          "QDate_Start": "10-Aug-19 11:25:46",
          "Queue No": 1065,
          "ST": 3,
          "Valid": "Y"
         },
         {
          "Counter": "Ultrasound Room 5",
          "QDate_Start": "10-Aug-19 10:55:46",
          "Queue No": 1066,
          "ST": 0,
          "Valid": "Y"
         },
         {
          "Counter": "Ultrasound Room 5",
          "QDate_Start": "10-Aug-19 10:55:51",
          "Queue No": 1066,
          "ST": 1,
          "Valid": "Y"
         },
         {
          "Counter": "Review Room 4",
          "QDate_Start": "10-Aug-19 11:20:43",
          "Queue No": 1066,
          "ST": 4,
          "Valid": "Y"
         },
         {
          "Counter": "Ultrasound Room 5",
          "QDate_Start": "10-Aug-19 11:00:26",
          "Queue No": 1067,
          "ST": 1,
          "Valid": "Y"
         },
         {
          "Counter": "Treatment Room 3",
          "QDate_Start": "10-Aug-19 11:29:45",
          "Queue No": 1067,
          "ST": 30,
          "Valid": "Y"
         },
         {
          "Counter": "Review Room 4",
          "QDate_Start": "10-Aug-19 11:24:59",
          "Queue No": 1068,
          "ST": 1,
          "Valid": "Y"
         },
         {
          "Counter": "Review Room 4",
          "QDate_Start": "10-Aug-19 11:25:21",
          "Queue No": 1068,
          "ST": 0,
          "Valid": "N"
         },
         {
          "Counter": null,
          "QDate_Start": "10-Aug-19 nan",
          "Queue No": 1069,
          "ST": 0,
          "Valid": "N"
         },
         {
          "Counter": "Ultrasound Room 5",
          "QDate_Start": "10-Aug-19 11:05:51",
          "Queue No": 1070,
          "ST": 1,
          "Valid": "Y"
         },
         {
          "Counter": "Treatment Room 3",
          "QDate_Start": "10-Aug-19 11:17:07",
          "Queue No": 1070,
          "ST": 7,
          "Valid": "Y"
         },
         {
          "Counter": null,
          "QDate_Start": "10-Aug-19 nan",
          "Queue No": 1071,
          "ST": 0,
          "Valid": "N"
         },
         {
          "Counter": null,
          "QDate_Start": "10-Aug-19 11:16:09",
          "Queue No": 1072,
          "ST": 0,
          "Valid": "Y"
         },
         {
          "Counter": "Review Room 4",
          "QDate_Start": "10-Aug-19 11:28:46",
          "Queue No": 1072,
          "ST": 30,
          "Valid": "Y"
         },
         {
          "Counter": "Ultrasound Room 5",
          "QDate_Start": "10-Aug-19 11:31:42",
          "Queue No": 1073,
          "ST": 0,
          "Valid": "Y"
         }
        ]
       },
       "hconcat": [
        {
         "encoding": {
          "color": {
           "aggregate": "sum",
           "field": "ST",
           "title": "Total Service Time (mins)",
           "type": "quantitative"
          },
          "size": {
           "aggregate": "distinct",
           "field": "Queue No",
           "title": "Number of Patients",
           "type": "nominal"
          },
          "tooltip": [
           {
            "aggregate": "distinct",
            "field": "Queue No",
            "title": "# of Patients",
            "type": "nominal"
           },
           {
            "aggregate": "sum",
            "field": "ST",
            "title": "Total Svc Time",
            "type": "quantitative"
           }
          ],
          "x": {
           "field": "QDate_Start",
           "timeUnit": "hours",
           "title": "Hour of Day",
           "type": "ordinal"
          },
          "y": {
           "field": "Counter",
           "title": "Counter",
           "type": "nominal"
          }
         },
         "mark": "circle",
         "title": "Service Time Distribution for 10-Aug-19",
         "transform": [
          {
           "filter": "((datum.Counter !== null) && (datum.Valid === 'Y'))"
          }
         ],
         "width": 500
        }
       ]
      },
      "image/png": "[encoded data removed]",
      "text/plain": [
       "<VegaLite 3 object>\n",
       "\n",
       "If you see this message, it means the renderer has not been properly enabled\n",
       "for the frontend that you are using. For more information, see\n",
       "https://altair-viz.github.io/user_guide/troubleshooting.html\n"
      ]
     },
     "execution_count": 2,
     "metadata": {},
     "output_type": "execute_result"
    }
   ],
   "source": [
    "from altair import datum\n",
    "import altair as alt\n",
    "import pandas as pd\n",
    "\n",
    "data = pd.read_csv('data/queue_data.csv', parse_dates=[['QDate', 'Start']])\n",
    "\n",
    "# Manually set for now. format(%d-%b-%y), i.e 4-Aug-19\n",
    "# TODO: use range select or dropdown\n",
    "select_date = '10-Aug-19'\n",
    "\n",
    "# Use only necessary labels, i.e valid patients\n",
    "data = data.loc[:,['QDate_Start','Queue No', 'Counter', 'ST', 'Valid']]\n",
    "\n",
    "# Filter by date\n",
    "patients = data[data['QDate_Start'].str.contains(select_date)]\n",
    "\n",
    "heatmap = alt.Chart(patients).mark_circle().encode(\n",
    "    y=alt.Y('Counter', title='Counter'),\n",
    "    x=alt.X('hours(QDate_Start):O', title='Hour of Day'),\n",
    "    size=alt.Size('distinct(Queue No):N', title='Number of Patients'),\n",
    "    color=alt.Color('sum(ST):Q', title='Total Service Time (mins)'),\n",
    "    tooltip=[\n",
    "        alt.Text('distinct(Queue No):N', title='# of Patients'),\n",
    "        alt.Text('sum(ST):Q', title='Total Svc Time')\n",
    "    ]\n",
    ").transform_filter(\n",
    "    (datum.Counter != None) &\n",
    "    (datum.Valid == 'Y')\n",
    ")\n",
    "                   \n",
    "alt.hconcat(\n",
    "    heatmap.properties(title='Service Time Distribution for ' + select_date, width=500)\n",
    ")\n",
    "\n"
   ]
  },
  {
   "cell_type": "code",
   "execution_count": null,
   "metadata": {},
   "outputs": [],
   "source": []
  }
 ],
 "metadata": {
  "kernelspec": {
   "display_name": "Python 3",
   "language": "python",
   "name": "python3"
  },
  "language_info": {
   "codemirror_mode": {
    "name": "ipython",
    "version": 3
   },
   "file_extension": ".py",
   "mimetype": "text/x-python",
   "name": "python",
   "nbconvert_exporter": "python",
   "pygments_lexer": "ipython3",
   "version": "3.7.3"
  }
 },
 "nbformat": 4,
 "nbformat_minor": 4
}
