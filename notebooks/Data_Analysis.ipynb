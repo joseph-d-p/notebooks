{
 "cells": [
  {
   "cell_type": "code",
   "execution_count": 54,
   "metadata": {},
   "outputs": [
    {
     "name": "stdout",
     "output_type": "stream",
     "text": [
      "1640\n",
      "136240\n",
      "3642\n"
     ]
    }
   ],
   "source": [
    "import csv\n",
    "\n",
    "def read_csv(filename):\n",
    "    with open(filename) as f:\n",
    "        reader = csv.DictReader(f)\n",
    "        return list(reader)\n",
    "\n",
    "# Check data rows\n",
    "enrollments = read_csv('data/enrollments.csv')\n",
    "print(len(enrollments))\n",
    "\n",
    "daily_engagements = read_csv('data/daily_engagement.csv')\n",
    "print(len(daily_engagements))\n",
    "\n",
    "project_submissions = read_csv('data/project_submissions.csv')\n",
    "print(len(project_submissions))"
   ]
  },
  {
   "cell_type": "code",
   "execution_count": 55,
   "metadata": {},
   "outputs": [
    {
     "name": "stdout",
     "output_type": "stream",
     "text": [
      "{'utc_date': '2015-01-09', 'num_courses_visited': '1.0', 'total_minutes_visited': '11.6793745', 'lessons_completed': '0.0', 'projects_completed': '0.0', 'account_key': '0'}\n"
     ]
    }
   ],
   "source": [
    "def update_key(rows, orig, new):\n",
    "    updated = []\n",
    "    for row in rows:\n",
    "        if row[orig]:\n",
    "            value = row[orig]\n",
    "            row[new] = value\n",
    "            del row[orig]\n",
    "            updated.append(row)\n",
    "    del rows[:]\n",
    "    return updated\n",
    "\n",
    "# Fix acct key to account_key\n",
    "daily_engagements = update_key(daily_engagements, 'acct', 'account_key')\n",
    "print(daily_engagements[0])\n"
   ]
  },
  {
   "cell_type": "code",
   "execution_count": 57,
   "metadata": {},
   "outputs": [
    {
     "name": "stdout",
     "output_type": "stream",
     "text": [
      "1302\n",
      "1237\n",
      "743\n"
     ]
    }
   ],
   "source": [
    "def get_unique(data, key):\n",
    "    entities = set()\n",
    "    for row in data:\n",
    "        entities.add(row[key])\n",
    "    return entities\n",
    "\n",
    "# Check for Unique Enrollments vs Total Enrollments\n",
    "unique_enrollments = get_unique(enrollments, 'account_key')\n",
    "print(len(unique_enrollments))\n",
    "\n",
    "# Check for Unique Engagements vs Total Engagements\n",
    "unique_daily_engagements = get_unique(daily_engagements, 'account_key')\n",
    "print(len(unique_daily_engagements))\n",
    "\n",
    "# Check for Unique Project Submissions vs Total Submissions\n",
    "unique_project_submissions = get_unique(project_submissions, 'account_key')\n",
    "print(len(unique_project_submissions))\n"
   ]
  },
  {
   "cell_type": "code",
   "execution_count": 61,
   "metadata": {},
   "outputs": [
    {
     "name": "stdout",
     "output_type": "stream",
     "text": [
      "Problematic Enrollments:  3\n",
      "[{'account_key': '1304',\n",
      "  'cancel_date': '2015-03-10',\n",
      "  'days_to_cancel': '59',\n",
      "  'is_canceled': 'True',\n",
      "  'is_udacity': 'True',\n",
      "  'join_date': '2015-01-10',\n",
      "  'status': 'canceled'},\n",
      " {'account_key': '1304',\n",
      "  'cancel_date': '2015-06-17',\n",
      "  'days_to_cancel': '99',\n",
      "  'is_canceled': 'True',\n",
      "  'is_udacity': 'True',\n",
      "  'join_date': '2015-03-10',\n",
      "  'status': 'canceled'},\n",
      " {'account_key': '1101',\n",
      "  'cancel_date': '',\n",
      "  'days_to_cancel': '',\n",
      "  'is_canceled': 'False',\n",
      "  'is_udacity': 'True',\n",
      "  'join_date': '2015-02-25',\n",
      "  'status': 'current'}]\n"
     ]
    }
   ],
   "source": [
    "from pprint import pprint\n",
    "\n",
    "def check_enrollments_with_no_engagement(enrollment, engagement):\n",
    "    enrollments = []\n",
    "    for e in enrollment:\n",
    "        # Return enrollment not in engagement that cancelled not within the day.\n",
    "        if e['account_key'] not in engagement and (e['days_to_cancel'] == '' or int(e['days_to_cancel']) > 0):\n",
    "            enrollments.append(e)\n",
    "    return enrollments\n",
    "\n",
    "# Check problematic enrollments\n",
    "problematic_enrollments = check_enrollments_with_no_engagement(enrollments, unique_daily_engagements)\n",
    "print(\"Problematic Enrollments: \", len(problematic_enrollments))\n",
    "pprint(problematic_enrollments)"
   ]
  },
  {
   "cell_type": "code",
   "execution_count": null,
   "metadata": {},
   "outputs": [],
   "source": []
  }
 ],
 "metadata": {
  "kernelspec": {
   "display_name": "Python 3",
   "language": "python",
   "name": "python3"
  },
  "language_info": {
   "codemirror_mode": {
    "name": "ipython",
    "version": 3
   },
   "file_extension": ".py",
   "mimetype": "text/x-python",
   "name": "python",
   "nbconvert_exporter": "python",
   "pygments_lexer": "ipython3",
   "version": "3.8.1"
  }
 },
 "nbformat": 4,
 "nbformat_minor": 4
}
