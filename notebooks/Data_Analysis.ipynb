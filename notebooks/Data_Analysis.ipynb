{
 "cells": [
  {
   "cell_type": "code",
   "execution_count": 20,
   "metadata": {},
   "outputs": [
    {
     "name": "stdout",
     "output_type": "stream",
     "text": [
      "1640\n",
      "1302\n",
      "136240\n",
      "1237\n",
      "3642\n",
      "743\n"
     ]
    }
   ],
   "source": [
    "import csv\n",
    "\n",
    "def read_csv(filename):\n",
    "    with open(filename) as f:\n",
    "        reader = csv.DictReader(f)\n",
    "        return list(reader)\n",
    "\n",
    "def get_unique(data, key):\n",
    "    entities = set()\n",
    "    for row in data:\n",
    "        entities.add(row[key])\n",
    "    return entities\n",
    "\n",
    "enrollments = read_csv('data/enrollments.csv')\n",
    "unique_enrollments = get_unique(enrollments, 'account_key')\n",
    "print(len(enrollments))\n",
    "print(len(unique_enrollments))\n",
    "\n",
    "daily_engagements = read_csv('data/daily_engagement.csv')\n",
    "unique_daily_engagements = get_unique(daily_engagements, 'acct')\n",
    "print(len(daily_engagements))\n",
    "print(len(unique_daily_engagements))\n",
    "\n",
    "project_submissions = read_csv('data/project_submissions.csv')\n",
    "unique_project_submissions = get_unique(project_submissions, 'account_key')\n",
    "print(len(project_submissions))\n",
    "print(len(unique_project_submissions))\n",
    "\n"
   ]
  },
  {
   "cell_type": "code",
   "execution_count": null,
   "metadata": {},
   "outputs": [],
   "source": []
  }
 ],
 "metadata": {
  "kernelspec": {
   "display_name": "Python 3",
   "language": "python",
   "name": "python3"
  },
  "language_info": {
   "codemirror_mode": {
    "name": "ipython",
    "version": 3
   },
   "file_extension": ".py",
   "mimetype": "text/x-python",
   "name": "python",
   "nbconvert_exporter": "python",
   "pygments_lexer": "ipython3",
   "version": "3.8.1"
  }
 },
 "nbformat": 4,
 "nbformat_minor": 4
}
