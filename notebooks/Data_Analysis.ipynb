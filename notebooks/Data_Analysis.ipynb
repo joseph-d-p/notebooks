{
 "cells": [
  {
   "cell_type": "code",
   "execution_count": 46,
   "metadata": {},
   "outputs": [
    {
     "name": "stdout",
     "output_type": "stream",
     "text": [
      "1640\n",
      "1302\n",
      "136240\n",
      "1237\n",
      "[{'account_key': '1304', 'status': 'canceled', 'join_date': '2015-01-10', 'cancel_date': '2015-03-10', 'days_to_cancel': '59', 'is_udacity': 'True', 'is_canceled': 'True'}, {'account_key': '1304', 'status': 'canceled', 'join_date': '2015-03-10', 'cancel_date': '2015-06-17', 'days_to_cancel': '99', 'is_udacity': 'True', 'is_canceled': 'True'}, {'account_key': '1101', 'status': 'current', 'join_date': '2015-02-25', 'cancel_date': '', 'days_to_cancel': '', 'is_udacity': 'True', 'is_canceled': 'False'}]\n",
      "Anomaly:  3\n",
      "3642\n",
      "743\n"
     ]
    }
   ],
   "source": [
    "import csv\n",
    "\n",
    "def read_csv(filename):\n",
    "    with open(filename) as f:\n",
    "        reader = csv.DictReader(f)\n",
    "        return list(reader)\n",
    "\n",
    "def update_key(rows, orig, new):\n",
    "    updated = []\n",
    "    for row in rows:\n",
    "        if row[orig]:\n",
    "            value = row[orig]\n",
    "            row[new] = value\n",
    "            del row[orig]\n",
    "            updated.append(row)\n",
    "    del rows[:]\n",
    "    return updated\n",
    "\n",
    "def get_unique(data, key):\n",
    "    entities = set()\n",
    "    for row in data:\n",
    "        entities.add(row[key])\n",
    "    return entities\n",
    "\n",
    "def check_enrollments_with_no_engagement(enrollment, engagement):\n",
    "    enrollments = []\n",
    "    for e in enrollment:\n",
    "        # Return enrollment not in engagement that cancelled not within the day.\n",
    "        if e['account_key'] not in engagement and (e['days_to_cancel'] == '' or int(e['days_to_cancel']) > 0):\n",
    "            enrollments.append(e)\n",
    "    return enrollments\n",
    "\n",
    "# Check for Unique Enrollments vs Total Enrollments\n",
    "enrollments = read_csv('data/enrollments.csv')\n",
    "unique_enrollments = get_unique(enrollments, 'account_key')\n",
    "print(len(enrollments))\n",
    "print(len(unique_enrollments))\n",
    "\n",
    "# Check for Unique Engagements vs Total Engagements\n",
    "daily_engagements = read_csv('data/daily_engagement.csv')\n",
    "daily_engagements = update_key(daily_engagements, 'acct', 'account_key')\n",
    "unique_daily_engagements = get_unique(daily_engagements, 'account_key')\n",
    "print(len(daily_engagements))\n",
    "print(len(unique_daily_engagements))\n",
    "\n",
    "# Check problematic enrollments\n",
    "problematic_enrollments = check_enrollments_with_no_engagement(enrollments, unique_daily_engagements)\n",
    "print(\"Problematic Enrollments: \", len(problematic_enrollments), problematic_enrollments)\n",
    "\n",
    "# Check for Unique Project Submissions vs Total Submissions\n",
    "project_submissions = read_csv('data/project_submissions.csv')\n",
    "unique_project_submissions = get_unique(project_submissions, 'account_key')\n",
    "print(len(project_submissions))\n",
    "print(len(unique_project_submissions))\n",
    "\n"
   ]
  },
  {
   "cell_type": "code",
   "execution_count": null,
   "metadata": {},
   "outputs": [],
   "source": []
  }
 ],
 "metadata": {
  "kernelspec": {
   "display_name": "Python 3",
   "language": "python",
   "name": "python3"
  },
  "language_info": {
   "codemirror_mode": {
    "name": "ipython",
    "version": 3
   },
   "file_extension": ".py",
   "mimetype": "text/x-python",
   "name": "python",
   "nbconvert_exporter": "python",
   "pygments_lexer": "ipython3",
   "version": "3.8.1"
  }
 },
 "nbformat": 4,
 "nbformat_minor": 4
}
